{
 "cells": [
  {
   "cell_type": "markdown",
   "metadata": {},
   "source": [
    "# NumPy"
   ]
  },
  {
   "cell_type": "markdown",
   "metadata": {},
   "source": [
    "## 二、ndarray的属性"
   ]
  },
  {
   "cell_type": "markdown",
   "metadata": {},
   "source": [
    "4个必记参数：\n",
    "\n",
    "ndim：维度\n",
    "\n",
    "shape：形状（各维度的长度）\n",
    "\n",
    "size：总长度\n",
    "\n",
    "dtype：元素类型\n"
   ]
  },
  {
   "cell_type": "markdown",
   "metadata": {},
   "source": [
    "## 三、ndarray的基本操作"
   ]
  },
  {
   "cell_type": "markdown",
   "metadata": {},
   "source": [
    "### 1. 索引"
   ]
  },
  {
   "cell_type": "markdown",
   "metadata": {},
   "source": [
    "#### 基本索引：一维与列表完全一致 多维同理"
   ]
  },
  {
   "cell_type": "code",
   "execution_count": 4,
   "metadata": {},
   "outputs": [
    {
     "data": {
      "text/plain": [
       "array([1, 5, 3, 8, 2])"
      ]
     },
     "execution_count": 4,
     "metadata": {},
     "output_type": "execute_result"
    }
   ],
   "source": [
    "import numpy as np\n",
    "nd = np.random.randint(0,10,size=5)\n",
    "nd"
   ]
  },
  {
   "cell_type": "code",
   "execution_count": 7,
   "metadata": {},
   "outputs": [
    {
     "data": {
      "text/plain": [
       "2"
      ]
     },
     "execution_count": 7,
     "metadata": {},
     "output_type": "execute_result"
    }
   ],
   "source": [
    "nd[0]\n",
    "nd[1]\n",
    "nd[-1]"
   ]
  },
  {
   "cell_type": "code",
   "execution_count": 9,
   "metadata": {},
   "outputs": [
    {
     "data": {
      "text/plain": [
       "array([[1, 4, 1, 1],\n",
       "       [4, 0, 8, 6],\n",
       "       [8, 4, 5, 7]])"
      ]
     },
     "execution_count": 9,
     "metadata": {},
     "output_type": "execute_result"
    }
   ],
   "source": [
    "nd = np.random.randint(0,10,size=(3,4))  # 这是一个二维数组 里面有3个元素 里面各有4个元素\n",
    "nd"
   ]
  },
  {
   "cell_type": "code",
   "execution_count": 13,
   "metadata": {},
   "outputs": [
    {
     "data": {
      "text/plain": [
       "7"
      ]
     },
     "execution_count": 13,
     "metadata": {},
     "output_type": "execute_result"
    }
   ],
   "source": [
    "nd[0][0]\n",
    "nd[0][-1]\n",
    "nd[-1][-1]"
   ]
  },
  {
   "cell_type": "code",
   "execution_count": 14,
   "metadata": {},
   "outputs": [
    {
     "data": {
      "text/plain": [
       "7"
      ]
     },
     "execution_count": 14,
     "metadata": {},
     "output_type": "execute_result"
    }
   ],
   "source": [
    "list1 = [[1, 4, 1, 1],\n",
    "       [4, 0, 8, 6],\n",
    "       [8, 4, 5, 7]]\n",
    "list1[-1][-1]"
   ]
  },
  {
   "cell_type": "markdown",
   "metadata": {},
   "source": [
    "#### 高级索引：整数数组形式的索引"
   ]
  },
  {
   "cell_type": "code",
   "execution_count": 15,
   "metadata": {},
   "outputs": [
    {
     "data": {
      "text/plain": [
       "array([[5, 3, 3, 3, 4, 4],\n",
       "       [4, 8, 2, 4, 7, 1],\n",
       "       [5, 7, 6, 1, 1, 5],\n",
       "       [4, 5, 8, 1, 8, 7],\n",
       "       [3, 4, 0, 4, 2, 1]])"
      ]
     },
     "execution_count": 15,
     "metadata": {},
     "output_type": "execute_result"
    }
   ],
   "source": [
    "# 留着吧！！！\n",
    "nd = np.random.randint(0,10,size=(5,6))\n",
    "nd"
   ]
  },
  {
   "cell_type": "code",
   "execution_count": 23,
   "metadata": {},
   "outputs": [
    {
     "data": {
      "text/plain": [
       "array([1, 1, 1])"
      ]
     },
     "execution_count": 23,
     "metadata": {},
     "output_type": "execute_result"
    }
   ],
   "source": [
    "nd[0][0]\n",
    "# 多维数组还有 整数数组形式的索引\n",
    "nd[0,0]  # 最外层,往里一层 层层深入\n",
    "nd[-1,-1]\n",
    "nd[-1,]\n",
    "nd[-1,[1,3,5]]  # 最外围的最后一个,往里一层取索引是1 3 5三个\n",
    "nd[-1,[5,3,1]]  # 顺序任意\n",
    "nd[-1,[5,5,5]]\n",
    "nd[-1,[-1,-1,-1]]"
   ]
  },
  {
   "cell_type": "code",
   "execution_count": 24,
   "metadata": {
    "scrolled": true
   },
   "outputs": [
    {
     "ename": "TypeError",
     "evalue": "list indices must be integers or slices, not tuple",
     "output_type": "error",
     "traceback": [
      "\u001b[1;31m---------------------------------------------------------------------------\u001b[0m",
      "\u001b[1;31mTypeError\u001b[0m                                 Traceback (most recent call last)",
      "\u001b[1;32m<ipython-input-24-2b44ffb40a71>\u001b[0m in \u001b[0;36m<module>\u001b[1;34m()\u001b[0m\n\u001b[0;32m      5\u001b[0m        [3, 4, 0, 4, 2, 1]]\n\u001b[0;32m      6\u001b[0m \u001b[1;33m\u001b[0m\u001b[0m\n\u001b[1;32m----> 7\u001b[1;33m \u001b[0mlist2\u001b[0m\u001b[1;33m[\u001b[0m\u001b[1;36m0\u001b[0m\u001b[1;33m,\u001b[0m\u001b[1;36m0\u001b[0m\u001b[1;33m]\u001b[0m\u001b[1;33m\u001b[0m\u001b[0m\n\u001b[0m",
      "\u001b[1;31mTypeError\u001b[0m: list indices must be integers or slices, not tuple"
     ]
    }
   ],
   "source": [
    "list2 = [[5, 3, 3, 3, 4, 4],\n",
    "       [4, 8, 2, 4, 7, 1],\n",
    "       [5, 7, 6, 1, 1, 5],\n",
    "       [4, 5, 8, 1, 8, 7],\n",
    "       [3, 4, 0, 4, 2, 1]]\n",
    "\n",
    "list2[0,0]  # 只有多维数组才有 整数数组形式的索引 列表没有"
   ]
  },
  {
   "cell_type": "markdown",
   "metadata": {},
   "source": [
    "#### 练习：使用数组索引寻找指定位置的值"
   ]
  },
  {
   "cell_type": "code",
   "execution_count": 29,
   "metadata": {},
   "outputs": [
    {
     "data": {
      "text/plain": [
       "4"
      ]
     },
     "execution_count": 29,
     "metadata": {},
     "output_type": "execute_result"
    }
   ],
   "source": [
    "nd[0,0,0,0] # 6\n",
    "nd[0,0,0,1]\n",
    "nd[0,0,1,2]\n",
    "nd[0,2,1,-1]  # 4"
   ]
  },
  {
   "cell_type": "code",
   "execution_count": 25,
   "metadata": {
    "collapsed": true
   },
   "outputs": [
    {
     "data": {
      "text/plain": [
       "array([[[[6, 9, 0, 1, 5, 5, 1],\n",
       "         [4, 9, 7, 0, 5, 2, 9],\n",
       "         [6, 9, 4, 7, 1, 1, 8]],\n",
       "\n",
       "        [[0, 5, 6, 6, 3, 0, 8],\n",
       "         [9, 1, 9, 4, 7, 1, 9],\n",
       "         [0, 0, 0, 8, 0, 5, 3]],\n",
       "\n",
       "        [[1, 6, 5, 3, 7, 1, 9],\n",
       "         [1, 3, 6, 8, 3, 8, 4],\n",
       "         [7, 9, 2, 7, 0, 8, 9]],\n",
       "\n",
       "        [[5, 0, 5, 7, 0, 4, 0],\n",
       "         [5, 9, 9, 6, 9, 5, 4],\n",
       "         [0, 7, 5, 4, 3, 7, 9]]],\n",
       "\n",
       "\n",
       "       [[[5, 0, 4, 4, 7, 7, 3],\n",
       "         [5, 7, 1, 0, 9, 7, 4],\n",
       "         [4, 9, 0, 7, 8, 4, 6]],\n",
       "\n",
       "        [[3, 6, 0, 1, 8, 3, 8],\n",
       "         [8, 7, 9, 0, 0, 0, 6],\n",
       "         [3, 9, 0, 4, 6, 0, 4]],\n",
       "\n",
       "        [[3, 7, 7, 2, 5, 8, 0],\n",
       "         [8, 3, 9, 8, 6, 7, 3],\n",
       "         [0, 9, 8, 6, 2, 6, 3]],\n",
       "\n",
       "        [[7, 7, 6, 8, 6, 5, 7],\n",
       "         [6, 5, 9, 7, 3, 4, 7],\n",
       "         [6, 2, 5, 7, 0, 6, 7]]],\n",
       "\n",
       "\n",
       "       [[[2, 0, 5, 4, 8, 5, 9],\n",
       "         [3, 8, 0, 3, 0, 0, 2],\n",
       "         [1, 3, 9, 6, 8, 3, 2]],\n",
       "\n",
       "        [[4, 9, 0, 5, 2, 2, 1],\n",
       "         [8, 4, 0, 5, 0, 4, 3],\n",
       "         [4, 6, 7, 7, 9, 5, 4]],\n",
       "\n",
       "        [[1, 2, 1, 4, 2, 6, 0],\n",
       "         [7, 4, 8, 3, 5, 5, 0],\n",
       "         [9, 5, 8, 6, 6, 4, 9]],\n",
       "\n",
       "        [[5, 6, 1, 1, 8, 5, 1],\n",
       "         [7, 1, 5, 3, 4, 2, 7],\n",
       "         [4, 4, 9, 0, 2, 0, 6]]],\n",
       "\n",
       "\n",
       "       [[[7, 1, 5, 0, 2, 7, 7],\n",
       "         [8, 5, 4, 5, 5, 8, 9],\n",
       "         [8, 1, 8, 2, 0, 7, 0]],\n",
       "\n",
       "        [[7, 7, 9, 4, 0, 7, 9],\n",
       "         [2, 6, 5, 1, 5, 0, 4],\n",
       "         [0, 2, 3, 2, 9, 5, 9]],\n",
       "\n",
       "        [[4, 3, 8, 6, 6, 8, 1],\n",
       "         [6, 4, 6, 6, 0, 6, 1],\n",
       "         [5, 4, 1, 1, 0, 0, 1]],\n",
       "\n",
       "        [[5, 3, 2, 9, 1, 0, 4],\n",
       "         [8, 8, 3, 7, 9, 3, 5],\n",
       "         [3, 5, 6, 5, 8, 4, 7]]],\n",
       "\n",
       "\n",
       "       [[[4, 6, 4, 4, 2, 1, 2],\n",
       "         [9, 6, 6, 5, 4, 1, 2],\n",
       "         [1, 1, 2, 6, 9, 1, 8]],\n",
       "\n",
       "        [[3, 4, 5, 6, 4, 9, 4],\n",
       "         [6, 5, 8, 1, 4, 1, 4],\n",
       "         [0, 2, 3, 0, 0, 4, 5]],\n",
       "\n",
       "        [[9, 7, 4, 0, 3, 6, 2],\n",
       "         [5, 3, 4, 0, 8, 5, 3],\n",
       "         [0, 4, 1, 2, 0, 0, 4]],\n",
       "\n",
       "        [[7, 0, 4, 1, 9, 8, 2],\n",
       "         [1, 5, 1, 0, 5, 8, 0],\n",
       "         [6, 5, 3, 9, 4, 0, 5]]]])"
      ]
     },
     "execution_count": 25,
     "metadata": {},
     "output_type": "execute_result"
    }
   ],
   "source": [
    "nd = np.random.randint(0,10,size=(5,4,3,7))  # 这是一个四维数组 里面有5个元素 里面各有4个元素 里面各有3个元素 里面各有7个元素\n",
    "nd"
   ]
  },
  {
   "cell_type": "markdown",
   "metadata": {},
   "source": [
    "### 2. 切片"
   ]
  },
  {
   "cell_type": "markdown",
   "metadata": {},
   "source": [
    "#### 一维与列表切片完全一致 多维时同理"
   ]
  },
  {
   "cell_type": "code",
   "execution_count": 30,
   "metadata": {},
   "outputs": [
    {
     "data": {
      "text/plain": [
       "array([1, 1, 7, 5, 7])"
      ]
     },
     "execution_count": 30,
     "metadata": {},
     "output_type": "execute_result"
    }
   ],
   "source": [
    "nd = np.random.randint(0,10,size=5)\n",
    "nd"
   ]
  },
  {
   "cell_type": "code",
   "execution_count": 37,
   "metadata": {},
   "outputs": [
    {
     "data": {
      "text/plain": [
       "array([7, 5, 7])"
      ]
     },
     "execution_count": 37,
     "metadata": {},
     "output_type": "execute_result"
    }
   ],
   "source": [
    "nd[1:4]  # 格式 start:end 范围 [start,end) \n",
    "nd[0:4]\n",
    "nd[:4]  # 如果start是0 start可以省略\n",
    "nd[2:]  # 如果是取到最后end可以省略"
   ]
  },
  {
   "cell_type": "code",
   "execution_count": 38,
   "metadata": {
    "collapsed": true
   },
   "outputs": [
    {
     "data": {
      "text/plain": [
       "array([[9, 4, 0, 4, 8],\n",
       "       [8, 4, 3, 7, 8],\n",
       "       [1, 5, 3, 2, 6],\n",
       "       [1, 6, 9, 1, 8],\n",
       "       [2, 3, 8, 8, 9]])"
      ]
     },
     "execution_count": 38,
     "metadata": {},
     "output_type": "execute_result"
    }
   ],
   "source": [
    "nd = np.random.randint(0,10,size=(5,5))\n",
    "nd"
   ]
  },
  {
   "cell_type": "code",
   "execution_count": 41,
   "metadata": {
    "collapsed": true
   },
   "outputs": [
    {
     "data": {
      "text/plain": [
       "array([[0, 4, 8],\n",
       "       [3, 7, 8],\n",
       "       [3, 2, 6],\n",
       "       [9, 1, 8],\n",
       "       [8, 8, 9]])"
      ]
     },
     "execution_count": 41,
     "metadata": {},
     "output_type": "execute_result"
    }
   ],
   "source": [
    "# 取最外层\n",
    "nd[0:2]\n",
    "nd[:2]\n",
    "nd[2:]\n",
    "nd[:]\n",
    "# 往里取\n",
    "nd[:,0:2]\n",
    "nd[:,:2]\n",
    "nd[:,2:]"
   ]
  },
  {
   "cell_type": "code",
   "execution_count": null,
   "metadata": {
    "collapsed": true
   },
   "outputs": [],
   "source": []
  },
  {
   "cell_type": "markdown",
   "metadata": {},
   "source": [
    "#### 练习：取项尚人头"
   ]
  },
  {
   "cell_type": "code",
   "execution_count": 43,
   "metadata": {},
   "outputs": [
    {
     "data": {
      "text/plain": [
       "array([[[0.24313726, 0.24313726, 0.24705882],\n",
       "        [0.22745098, 0.23137255, 0.2509804 ],\n",
       "        [0.38039216, 0.3882353 , 0.42352942],\n",
       "        ...,\n",
       "        [0.34509805, 0.36078432, 0.3764706 ],\n",
       "        [0.12941177, 0.12941177, 0.13333334],\n",
       "        [0.7411765 , 0.7411765 , 0.7411765 ]],\n",
       "\n",
       "       [[0.14117648, 0.14509805, 0.14901961],\n",
       "        [0.47843137, 0.49019608, 0.53333336],\n",
       "        [0.87058824, 0.8901961 , 0.96862745],\n",
       "        ...,\n",
       "        [0.8117647 , 0.84705883, 0.8784314 ],\n",
       "        [0.2901961 , 0.29411766, 0.29803923],\n",
       "        [0.77254903, 0.77254903, 0.77254903]],\n",
       "\n",
       "       [[0.3529412 , 0.35686275, 0.3647059 ],\n",
       "        [0.5176471 , 0.5294118 , 0.5764706 ],\n",
       "        [0.88235295, 0.9019608 , 0.9764706 ],\n",
       "        ...,\n",
       "        [0.827451  , 0.8627451 , 0.89411765],\n",
       "        [0.29803923, 0.3019608 , 0.30588236],\n",
       "        [0.7764706 , 0.7764706 , 0.7764706 ]],\n",
       "\n",
       "       ...,\n",
       "\n",
       "       [[0.33333334, 0.34509805, 0.35686275],\n",
       "        [0.21176471, 0.27450982, 0.3254902 ],\n",
       "        [0.36078432, 0.46666667, 0.5568628 ],\n",
       "        ...,\n",
       "        [0.5176471 , 0.6039216 , 0.6392157 ],\n",
       "        [0.25490198, 0.26666668, 0.27058825],\n",
       "        [0.7764706 , 0.7764706 , 0.7764706 ]],\n",
       "\n",
       "       [[0.34901962, 0.35686275, 0.36862746],\n",
       "        [0.23921569, 0.29411766, 0.3372549 ],\n",
       "        [0.40784314, 0.5019608 , 0.5764706 ],\n",
       "        ...,\n",
       "        [0.3137255 , 0.38431373, 0.4       ],\n",
       "        [0.20784314, 0.21960784, 0.21960784],\n",
       "        [0.76862746, 0.76862746, 0.76862746]],\n",
       "\n",
       "       [[0.3529412 , 0.35686275, 0.35686275],\n",
       "        [0.09411765, 0.10196079, 0.10980392],\n",
       "        [0.1882353 , 0.2       , 0.20784314],\n",
       "        ...,\n",
       "        [0.20392157, 0.21568628, 0.21568628],\n",
       "        [0.10196079, 0.10196079, 0.10196079],\n",
       "        [0.7294118 , 0.7294118 , 0.7294118 ]]], dtype=float32)"
      ]
     },
     "execution_count": 43,
     "metadata": {},
     "output_type": "execute_result"
    }
   ],
   "source": [
    "import matplotlib.pyplot as plt\n",
    "jin = plt.imread('./data/jin.png')\n",
    "jin"
   ]
  },
  {
   "cell_type": "code",
   "execution_count": 45,
   "metadata": {},
   "outputs": [
    {
     "data": {
      "text/plain": [
       "(273, 411, 3)"
      ]
     },
     "execution_count": 45,
     "metadata": {},
     "output_type": "execute_result"
    },
    {
     "data": {
      "image/png": "[encoded data removed]",
      "text/plain": [
       "<Figure size 432x288 with 1 Axes>"
      ]
     },
     "metadata": {},
     "output_type": "display_data"
    }
   ],
   "source": [
    "plt.imshow(jin)\n",
    "jin.shape"
   ]
  },
  {
   "cell_type": "code",
   "execution_count": 50,
   "metadata": {},
   "outputs": [
    {
     "data": {
      "text/plain": [
       "<matplotlib.image.AxesImage at 0x284b96f4cf8>"
      ]
     },
     "execution_count": 50,
     "metadata": {},
     "output_type": "execute_result"
    },
    {
     "data": {
      "image/png": "[encoded data removed]",
      "text/plain": [
       "<Figure size 432x288 with 1 Axes>"
      ]
     },
     "metadata": {},
     "output_type": "display_data"
    }
   ],
   "source": [
    "jin[25:140]\n",
    "plt.imshow(jin[25:140])\n",
    "plt.imshow(jin[25:140,180:])\n",
    "plt.imshow(jin[25:140,180:250])"
   ]
  },
  {
   "cell_type": "markdown",
   "metadata": {},
   "source": [
    "#### 两个:: 的形式 进行切片和翻转"
   ]
  },
  {
   "cell_type": "code",
   "execution_count": 57,
   "metadata": {},
   "outputs": [
    {
     "data": {
      "text/plain": [
       "array([[3, 5, 2, 3, 2],\n",
       "       [4, 6, 2, 9, 5],\n",
       "       [4, 3, 0, 1, 9],\n",
       "       [2, 0, 8, 9, 5],\n",
       "       [5, 9, 7, 0, 3]])"
      ]
     },
     "execution_count": 57,
     "metadata": {},
     "output_type": "execute_result"
    }
   ],
   "source": [
    "nd = np.random.randint(0,10,size=(5,5))\n",
    "nd"
   ]
  },
  {
   "cell_type": "code",
   "execution_count": 62,
   "metadata": {},
   "outputs": [
    {
     "data": {
      "text/plain": [
       "array([[2, 2, 3],\n",
       "       [5, 2, 4],\n",
       "       [9, 0, 4],\n",
       "       [5, 8, 2],\n",
       "       [3, 7, 5]])"
      ]
     },
     "execution_count": 62,
     "metadata": {},
     "output_type": "execute_result"
    }
   ],
   "source": [
    "# 格式 start:end:step\n",
    "nd[0:4:2]\n",
    "nd[:,::2]\n",
    "nd[:,::3]\n",
    "nd[:,::-1]\n",
    "nd[:,::-2]"
   ]
  },
  {
   "cell_type": "code",
   "execution_count": null,
   "metadata": {
    "collapsed": true
   },
   "outputs": [],
   "source": []
  },
  {
   "cell_type": "markdown",
   "metadata": {},
   "source": [
    "#### 练习： 图片的上下颠倒 左右颠倒 变瘦 色值的交换"
   ]
  },
  {
   "cell_type": "code",
   "execution_count": 63,
   "metadata": {},
   "outputs": [
    {
     "data": {
      "text/plain": [
       "<matplotlib.image.AxesImage at 0x284b97532e8>"
      ]
     },
     "execution_count": 63,
     "metadata": {},
     "output_type": "execute_result"
    },
    {
     "data": {
      "image/png": "[encoded data removed]",
      "text/plain": [
       "<Figure size 432x288 with 1 Axes>"
      ]
     },
     "metadata": {},
     "output_type": "display_data"
    }
   ],
   "source": [
    "plt.imshow(jin)"
   ]
  },
  {
   "cell_type": "code",
   "execution_count": 72,
   "metadata": {},
   "outputs": [
    {
     "data": {
      "text/plain": [
       "<matplotlib.image.AxesImage at 0x284bb585860>"
      ]
     },
     "execution_count": 72,
     "metadata": {},
     "output_type": "execute_result"
    },
    {
     "data": {
      "image/png": "[encoded data removed]",
      "text/plain": [
       "<Figure size 432x288 with 1 Axes>"
      ]
     },
     "metadata": {},
     "output_type": "display_data"
    }
   ],
   "source": [
    "plt.imshow(jin[::-1])\n",
    "plt.imshow(jin[:,::-1])\n",
    "plt.imshow(jin[::-1,::-1])\n",
    "plt.imshow(jin[::3])\n",
    "plt.imshow(jin[:,::3])\n",
    "# 最外层是行 往里一层是列 最里面是颜色\n",
    "# r g b\n",
    "plt.imshow(jin[:,:,::-1])\n",
    "plt.imshow(jin[:,:,[0,1,2]])\n",
    "plt.imshow(jin[:,:,[1,0,2]])  # 绿巨人\n",
    "plt.imshow(jin[:,:,[1,2,0]])"
   ]
  },
  {
   "cell_type": "code",
   "execution_count": 73,
   "metadata": {
    "collapsed": true
   },
   "outputs": [
    {
     "data": {
      "text/plain": [
       "array([[[0.24313726, 0.24313726, 0.24705882],\n",
       "        [0.22745098, 0.23137255, 0.2509804 ],\n",
       "        [0.38039216, 0.3882353 , 0.42352942],\n",
       "        ...,\n",
       "        [0.34509805, 0.36078432, 0.3764706 ],\n",
       "        [0.12941177, 0.12941177, 0.13333334],\n",
       "        [0.7411765 , 0.7411765 , 0.7411765 ]],\n",
       "\n",
       "       [[0.14117648, 0.14509805, 0.14901961],\n",
       "        [0.47843137, 0.49019608, 0.53333336],\n",
       "        [0.87058824, 0.8901961 , 0.96862745],\n",
       "        ...,\n",
       "        [0.8117647 , 0.84705883, 0.8784314 ],\n",
       "        [0.2901961 , 0.29411766, 0.29803923],\n",
       "        [0.77254903, 0.77254903, 0.77254903]],\n",
       "\n",
       "       [[0.3529412 , 0.35686275, 0.3647059 ],\n",
       "        [0.5176471 , 0.5294118 , 0.5764706 ],\n",
       "        [0.88235295, 0.9019608 , 0.9764706 ],\n",
       "        ...,\n",
       "        [0.827451  , 0.8627451 , 0.89411765],\n",
       "        [0.29803923, 0.3019608 , 0.30588236],\n",
       "        [0.7764706 , 0.7764706 , 0.7764706 ]],\n",
       "\n",
       "       ...,\n",
       "\n",
       "       [[0.33333334, 0.34509805, 0.35686275],\n",
       "        [0.21176471, 0.27450982, 0.3254902 ],\n",
       "        [0.36078432, 0.46666667, 0.5568628 ],\n",
       "        ...,\n",
       "        [0.5176471 , 0.6039216 , 0.6392157 ],\n",
       "        [0.25490198, 0.26666668, 0.27058825],\n",
       "        [0.7764706 , 0.7764706 , 0.7764706 ]],\n",
       "\n",
       "       [[0.34901962, 0.35686275, 0.36862746],\n",
       "        [0.23921569, 0.29411766, 0.3372549 ],\n",
       "        [0.40784314, 0.5019608 , 0.5764706 ],\n",
       "        ...,\n",
       "        [0.3137255 , 0.38431373, 0.4       ],\n",
       "        [0.20784314, 0.21960784, 0.21960784],\n",
       "        [0.76862746, 0.76862746, 0.76862746]],\n",
       "\n",
       "       [[0.3529412 , 0.35686275, 0.35686275],\n",
       "        [0.09411765, 0.10196079, 0.10980392],\n",
       "        [0.1882353 , 0.2       , 0.20784314],\n",
       "        ...,\n",
       "        [0.20392157, 0.21568628, 0.21568628],\n",
       "        [0.10196079, 0.10196079, 0.10196079],\n",
       "        [0.7294118 , 0.7294118 , 0.7294118 ]]], dtype=float32)"
      ]
     },
     "execution_count": 73,
     "metadata": {},
     "output_type": "execute_result"
    }
   ],
   "source": [
    "jin"
   ]
  },
  {
   "cell_type": "code",
   "execution_count": 87,
   "metadata": {},
   "outputs": [
    {
     "data": {
      "text/plain": [
       "array([2, 6, 1, 6, 8])"
      ]
     },
     "execution_count": 87,
     "metadata": {},
     "output_type": "execute_result"
    }
   ],
   "source": [
    "nd2 = np.random.randint(0,10,size=5)\n",
    "nd2"
   ]
  },
  {
   "cell_type": "code",
   "execution_count": 89,
   "metadata": {},
   "outputs": [
    {
     "data": {
      "text/plain": [
       "array([1, 6, 2])"
      ]
     },
     "execution_count": 89,
     "metadata": {},
     "output_type": "execute_result"
    }
   ],
   "source": []
  },
  {
   "cell_type": "code",
   "execution_count": 102,
   "metadata": {
    "collapsed": true
   },
   "outputs": [
    {
     "data": {
      "text/plain": [
       "array([[[0.8, 0.3, 0.1],\n",
       "        [0.8, 0.3, 0.1],\n",
       "        [0.8, 0.3, 0.1]],\n",
       "\n",
       "       [[0.8, 0.3, 0.1],\n",
       "        [0.8, 0.3, 0.1],\n",
       "        [0.8, 0.3, 0.1]],\n",
       "\n",
       "       [[0.8, 0.3, 0.1],\n",
       "        [0.8, 0.3, 0.1],\n",
       "        [0.8, 0.3, 0.1]]])"
      ]
     },
     "execution_count": 102,
     "metadata": {},
     "output_type": "execute_result"
    }
   ],
   "source": [
    "r = 0.8\n",
    "g = 0.3\n",
    "b = 0.1\n",
    "test1 = np.array()\n",
    "test2 = np.array(\n",
    "[\n",
    "    [[r,g,b],[r,g,b],[r,g,b]],\n",
    "    [[r,g,b],[r,g,b],[r,g,b]],\n",
    "    [[r,g,b],[r,g,b],[r,g,b]]\n",
    "]\n",
    ")\n",
    "test2"
   ]
  },
  {
   "cell_type": "code",
   "execution_count": 103,
   "metadata": {
    "collapsed": true
   },
   "outputs": [
    {
     "data": {
      "text/plain": [
       "<matplotlib.image.AxesImage at 0x284bc577e80>"
      ]
     },
     "execution_count": 103,
     "metadata": {},
     "output_type": "execute_result"
    },
    {
     "data": {
      "image/png": "[encoded data removed]",
      "text/plain": [
       "<Figure size 432x288 with 1 Axes>"
      ]
     },
     "metadata": {},
     "output_type": "display_data"
    }
   ],
   "source": [
    "plt.imshow(test2)"
   ]
  },
  {
   "cell_type": "code",
   "execution_count": 97,
   "metadata": {},
   "outputs": [
    {
     "data": {
      "text/plain": [
       "array([[[0.1, 0.3, 0.8]]])"
      ]
     },
     "execution_count": 97,
     "metadata": {},
     "output_type": "execute_result"
    }
   ],
   "source": [
    "test[:,:,[0,1,2]]\n",
    "test[:,:,[2,1,0]]"
   ]
  },
  {
   "cell_type": "markdown",
   "metadata": {},
   "source": [
    "### 3. 变形\n",
    "使用reshape函数，注意参数是一个tuple！"
   ]
  },
  {
   "cell_type": "code",
   "execution_count": 105,
   "metadata": {},
   "outputs": [
    {
     "data": {
      "text/plain": [
       "array([[6, 0, 6, 2],\n",
       "       [3, 2, 6, 8],\n",
       "       [8, 4, 5, 1],\n",
       "       [3, 3, 0, 1],\n",
       "       [5, 3, 4, 4]])"
      ]
     },
     "execution_count": 105,
     "metadata": {},
     "output_type": "execute_result"
    }
   ],
   "source": [
    "nd = np.random.randint(0,10,size=(5,4))  # 5行4列 size是20\n",
    "nd"
   ]
  },
  {
   "cell_type": "code",
   "execution_count": 107,
   "metadata": {
    "scrolled": true
   },
   "outputs": [
    {
     "data": {
      "text/plain": [
       "20"
      ]
     },
     "execution_count": 107,
     "metadata": {},
     "output_type": "execute_result"
    }
   ],
   "source": [
    "nd.shape\n",
    "nd.size"
   ]
  },
  {
   "cell_type": "code",
   "execution_count": 113,
   "metadata": {},
   "outputs": [
    {
     "ename": "ValueError",
     "evalue": "cannot reshape array of size 20 into shape (5,5)",
     "output_type": "error",
     "traceback": [
      "\u001b[1;31m---------------------------------------------------------------------------\u001b[0m",
      "\u001b[1;31mValueError\u001b[0m                                Traceback (most recent call last)",
      "\u001b[1;32m<ipython-input-113-fb1832d5c686>\u001b[0m in \u001b[0;36m<module>\u001b[1;34m()\u001b[0m\n\u001b[0;32m      3\u001b[0m \u001b[0mnd\u001b[0m\u001b[1;33m.\u001b[0m\u001b[0mreshape\u001b[0m\u001b[1;33m(\u001b[0m\u001b[1;33m(\u001b[0m\u001b[1;36m2\u001b[0m\u001b[1;33m,\u001b[0m\u001b[1;36m10\u001b[0m\u001b[1;33m)\u001b[0m\u001b[1;33m)\u001b[0m\u001b[1;33m\u001b[0m\u001b[0m\n\u001b[0;32m      4\u001b[0m \u001b[0mnd\u001b[0m\u001b[1;33m.\u001b[0m\u001b[0mreshape\u001b[0m\u001b[1;33m(\u001b[0m\u001b[1;33m(\u001b[0m\u001b[1;36m1\u001b[0m\u001b[1;33m,\u001b[0m\u001b[1;36m20\u001b[0m\u001b[1;33m)\u001b[0m\u001b[1;33m)\u001b[0m\u001b[1;33m\u001b[0m\u001b[0m\n\u001b[1;32m----> 5\u001b[1;33m \u001b[0mnd\u001b[0m\u001b[1;33m.\u001b[0m\u001b[0mreshape\u001b[0m\u001b[1;33m(\u001b[0m\u001b[1;33m(\u001b[0m\u001b[1;36m5\u001b[0m\u001b[1;33m,\u001b[0m\u001b[1;36m5\u001b[0m\u001b[1;33m)\u001b[0m\u001b[1;33m)\u001b[0m  \u001b[1;31m# 但是 如果size不一样就不行了\u001b[0m\u001b[1;33m\u001b[0m\u001b[0m\n\u001b[0m",
      "\u001b[1;31mValueError\u001b[0m: cannot reshape array of size 20 into shape (5,5)"
     ]
    }
   ],
   "source": [
    "# 参数 shape 是一个元素\n",
    "nd.reshape((4,5))  # 改变形状 只要size不变 变成什么形状都可以\n",
    "nd.reshape((2,10))\n",
    "nd.reshape((1,20))  \n",
    "nd.reshape((5,5))  # 但是 如果size不一样就不行了"
   ]
  },
  {
   "cell_type": "code",
   "execution_count": null,
   "metadata": {
    "collapsed": true
   },
   "outputs": [],
   "source": []
  },
  {
   "cell_type": "code",
   "execution_count": null,
   "metadata": {
    "collapsed": true
   },
   "outputs": [],
   "source": []
  },
  {
   "cell_type": "code",
   "execution_count": null,
   "metadata": {
    "collapsed": true
   },
   "outputs": [],
   "source": []
  },
  {
   "cell_type": "code",
   "execution_count": null,
   "metadata": {
    "collapsed": true
   },
   "outputs": [],
   "source": []
  },
  {
   "cell_type": "code",
   "execution_count": null,
   "metadata": {
    "collapsed": true
   },
   "outputs": [],
   "source": []
  },
  {
   "cell_type": "markdown",
   "metadata": {},
   "source": [
    "### 4. 连结\n",
    "\n",
    "np.concatenate()\n",
    "\n",
    "连结需要注意的点：\n",
    "- 连结的参数是列表：一定要加小括号\n",
    "- 必须 维度相同 形状相符\n",
    "- 连结的方向默认是shape这个tuple的第一个值所代表的维度方向\n",
    "- 可通过axis参数改变连结的方向"
   ]
  },
  {
   "cell_type": "code",
   "execution_count": 114,
   "metadata": {},
   "outputs": [
    {
     "data": {
      "text/plain": [
       "array([[6, 0, 6, 2],\n",
       "       [3, 2, 6, 8],\n",
       "       [8, 4, 5, 1],\n",
       "       [3, 3, 0, 1],\n",
       "       [5, 3, 4, 4]])"
      ]
     },
     "execution_count": 114,
     "metadata": {},
     "output_type": "execute_result"
    }
   ],
   "source": [
    "nd"
   ]
  },
  {
   "cell_type": "code",
   "execution_count": 117,
   "metadata": {},
   "outputs": [
    {
     "data": {
      "text/plain": [
       "array([[6, 0, 6, 2, 6, 0, 6, 2],\n",
       "       [3, 2, 6, 8, 3, 2, 6, 8],\n",
       "       [8, 4, 5, 1, 8, 4, 5, 1],\n",
       "       [3, 3, 0, 1, 3, 3, 0, 1],\n",
       "       [5, 3, 4, 4, 5, 3, 4, 4]])"
      ]
     },
     "execution_count": 117,
     "metadata": {},
     "output_type": "execute_result"
    }
   ],
   "source": [
    "# 注意 concatenate 是 np模块提供的方法 所以用的时候是 np.concatenate() 不是 ndarray.concatenate()\n",
    "# 参数 以元组的形式传入要拼接的ndarray\n",
    "np.concatenate((nd,nd))  # 默认是纵向拼接（以最外层 为轴线做拼接）\n",
    "# 参数 axis 用来设定 拼接的轴向 默认 axis=0\n",
    "np.concatenate((nd,nd),axis=0)\n",
    "np.concatenate((nd,nd),axis=1)"
   ]
  },
  {
   "cell_type": "code",
   "execution_count": null,
   "metadata": {
    "collapsed": true
   },
   "outputs": [],
   "source": []
  },
  {
   "cell_type": "code",
   "execution_count": null,
   "metadata": {
    "collapsed": true
   },
   "outputs": [],
   "source": []
  },
  {
   "cell_type": "code",
   "execution_count": null,
   "metadata": {
    "collapsed": true
   },
   "outputs": [],
   "source": []
  },
  {
   "cell_type": "code",
   "execution_count": null,
   "metadata": {
    "collapsed": true
   },
   "outputs": [],
   "source": []
  },
  {
   "cell_type": "code",
   "execution_count": null,
   "metadata": {
    "collapsed": true
   },
   "outputs": [],
   "source": []
  },
  {
   "cell_type": "code",
   "execution_count": null,
   "metadata": {
    "collapsed": true
   },
   "outputs": [],
   "source": []
  },
  {
   "cell_type": "markdown",
   "metadata": {},
   "source": [
    "### 5. 切分"
   ]
  },
  {
   "cell_type": "markdown",
   "metadata": {},
   "source": [
    "与级联类似，三个函数完成切分工作：\n",
    "- np.split\n",
    "- np.vsplit\n",
    "- np.hsplit"
   ]
  },
  {
   "cell_type": "code",
   "execution_count": 123,
   "metadata": {},
   "outputs": [
    {
     "data": {
      "text/plain": [
       "array([[3, 5, 1, 6, 0, 5],\n",
       "       [6, 0, 2, 6, 1, 6],\n",
       "       [4, 0, 1, 5, 0, 9],\n",
       "       [6, 1, 6, 8, 6, 1],\n",
       "       [1, 0, 9, 4, 9, 8],\n",
       "       [0, 7, 1, 9, 3, 8]])"
      ]
     },
     "execution_count": 123,
     "metadata": {},
     "output_type": "execute_result"
    }
   ],
   "source": [
    "nd = np.random.randint(0,10,size=(6,6))\n",
    "nd"
   ]
  },
  {
   "cell_type": "code",
   "execution_count": 127,
   "metadata": {},
   "outputs": [
    {
     "data": {
      "text/plain": [
       "[array([[3, 5, 1, 6, 0, 5],\n",
       "        [6, 0, 2, 6, 1, 6]]), array([[4, 0, 1, 5, 0, 9],\n",
       "        [6, 1, 6, 8, 6, 1]]), array([[1, 0, 9, 4, 9, 8],\n",
       "        [0, 7, 1, 9, 3, 8]])]"
      ]
     },
     "execution_count": 127,
     "metadata": {},
     "output_type": "execute_result"
    }
   ],
   "source": [
    "# split 也是np模块直接提供的\n",
    "# 参数\n",
    "# ary 指定是 要进行切分的数组\n",
    "# indices_or_sections 用来指定要切分成几部分 或者在哪里切分\n",
    "# axis 用来指定对哪个轴线进行切分 默认值是0\n",
    "np.split(nd,2)\n",
    "np.split(nd,2,axis=0)\n",
    "np.split(nd,2,axis=1)\n",
    "# indices_or_sections 可以是整数 也可以是一维数组\n",
    "np.split(nd,[2,4],axis=0)"
   ]
  },
  {
   "cell_type": "code",
   "execution_count": null,
   "metadata": {
    "collapsed": true
   },
   "outputs": [],
   "source": []
  },
  {
   "cell_type": "code",
   "execution_count": null,
   "metadata": {
    "collapsed": true
   },
   "outputs": [],
   "source": []
  },
  {
   "cell_type": "code",
   "execution_count": null,
   "metadata": {
    "collapsed": true
   },
   "outputs": [],
   "source": []
  },
  {
   "cell_type": "code",
   "execution_count": null,
   "metadata": {
    "collapsed": true
   },
   "outputs": [],
   "source": []
  },
  {
   "cell_type": "code",
   "execution_count": null,
   "metadata": {
    "collapsed": true
   },
   "outputs": [],
   "source": []
  },
  {
   "cell_type": "code",
   "execution_count": null,
   "metadata": {
    "collapsed": true
   },
   "outputs": [],
   "source": []
  },
  {
   "cell_type": "code",
   "execution_count": null,
   "metadata": {
    "collapsed": true
   },
   "outputs": [],
   "source": []
  },
  {
   "cell_type": "code",
   "execution_count": null,
   "metadata": {
    "collapsed": true
   },
   "outputs": [],
   "source": []
  },
  {
   "cell_type": "code",
   "execution_count": null,
   "metadata": {
    "collapsed": true
   },
   "outputs": [],
   "source": []
  },
  {
   "cell_type": "code",
   "execution_count": null,
   "metadata": {
    "collapsed": true
   },
   "outputs": [],
   "source": []
  },
  {
   "cell_type": "code",
   "execution_count": null,
   "metadata": {
    "collapsed": true
   },
   "outputs": [],
   "source": []
  },
  {
   "cell_type": "markdown",
   "metadata": {},
   "source": [
    "### 6. 副本\n",
    "所有赋值运算不会为ndarray的任何元素创建副本。对赋值后的对象操作也会影响原数组。"
   ]
  },
  {
   "cell_type": "code",
   "execution_count": 141,
   "metadata": {},
   "outputs": [
    {
     "data": {
      "text/plain": [
       "array([[2, 0, 3],\n",
       "       [8, 8, 0],\n",
       "       [5, 5, 7]])"
      ]
     },
     "execution_count": 141,
     "metadata": {},
     "output_type": "execute_result"
    }
   ],
   "source": [
    "nd"
   ]
  },
  {
   "cell_type": "code",
   "execution_count": 142,
   "metadata": {},
   "outputs": [
    {
     "data": {
      "text/plain": [
       "array([[2, 0, 3],\n",
       "       [8, 8, 0],\n",
       "       [5, 5, 7]])"
      ]
     },
     "execution_count": 142,
     "metadata": {},
     "output_type": "execute_result"
    }
   ],
   "source": [
    "nd2 = nd\n",
    "nd2"
   ]
  },
  {
   "cell_type": "code",
   "execution_count": 143,
   "metadata": {},
   "outputs": [
    {
     "data": {
      "text/plain": [
       "(2769119219344, 2769119219344)"
      ]
     },
     "execution_count": 143,
     "metadata": {},
     "output_type": "execute_result"
    }
   ],
   "source": [
    "id(nd2),id(nd)"
   ]
  },
  {
   "cell_type": "code",
   "execution_count": 130,
   "metadata": {
    "collapsed": true
   },
   "outputs": [],
   "source": [
    "nd2[0,0] = 0"
   ]
  },
  {
   "cell_type": "code",
   "execution_count": 131,
   "metadata": {},
   "outputs": [
    {
     "data": {
      "text/plain": [
       "array([[0, 5, 1, 6, 0, 5],\n",
       "       [6, 0, 2, 6, 1, 6],\n",
       "       [4, 0, 1, 5, 0, 9],\n",
       "       [6, 1, 6, 8, 6, 1],\n",
       "       [1, 0, 9, 4, 9, 8],\n",
       "       [0, 7, 1, 9, 3, 8]])"
      ]
     },
     "execution_count": 131,
     "metadata": {},
     "output_type": "execute_result"
    }
   ],
   "source": [
    "nd2"
   ]
  },
  {
   "cell_type": "code",
   "execution_count": 132,
   "metadata": {},
   "outputs": [
    {
     "data": {
      "text/plain": [
       "array([[0, 5, 1, 6, 0, 5],\n",
       "       [6, 0, 2, 6, 1, 6],\n",
       "       [4, 0, 1, 5, 0, 9],\n",
       "       [6, 1, 6, 8, 6, 1],\n",
       "       [1, 0, 9, 4, 9, 8],\n",
       "       [0, 7, 1, 9, 3, 8]])"
      ]
     },
     "execution_count": 132,
     "metadata": {},
     "output_type": "execute_result"
    }
   ],
   "source": [
    "nd"
   ]
  },
  {
   "cell_type": "markdown",
   "metadata": {},
   "source": [
    "可使用copy()函数创建副本"
   ]
  },
  {
   "cell_type": "code",
   "execution_count": 144,
   "metadata": {},
   "outputs": [
    {
     "data": {
      "text/plain": [
       "array([[5, 4, 2],\n",
       "       [1, 6, 7],\n",
       "       [3, 0, 8]])"
      ]
     },
     "execution_count": 144,
     "metadata": {},
     "output_type": "execute_result"
    }
   ],
   "source": [
    "nd = np.random.randint(0,10,size=(3,3))\n",
    "nd"
   ]
  },
  {
   "cell_type": "code",
   "execution_count": 145,
   "metadata": {},
   "outputs": [
    {
     "data": {
      "text/plain": [
       "array([[5, 4, 2],\n",
       "       [1, 6, 7],\n",
       "       [3, 0, 8]])"
      ]
     },
     "execution_count": 145,
     "metadata": {},
     "output_type": "execute_result"
    }
   ],
   "source": [
    "nd3 = nd.copy()\n",
    "nd3"
   ]
  },
  {
   "cell_type": "code",
   "execution_count": 146,
   "metadata": {},
   "outputs": [
    {
     "data": {
      "text/plain": [
       "(2769119263360, 2769119263840)"
      ]
     },
     "execution_count": 146,
     "metadata": {},
     "output_type": "execute_result"
    }
   ],
   "source": [
    "id(nd),id(nd3)"
   ]
  },
  {
   "cell_type": "code",
   "execution_count": 147,
   "metadata": {},
   "outputs": [
    {
     "data": {
      "text/plain": [
       "array([[0, 4, 2],\n",
       "       [1, 6, 7],\n",
       "       [3, 0, 8]])"
      ]
     },
     "execution_count": 147,
     "metadata": {},
     "output_type": "execute_result"
    }
   ],
   "source": [
    "nd3[0,0] = 0\n",
    "nd3"
   ]
  },
  {
   "cell_type": "code",
   "execution_count": 148,
   "metadata": {},
   "outputs": [
    {
     "data": {
      "text/plain": [
       "array([[5, 4, 2],\n",
       "       [1, 6, 7],\n",
       "       [3, 0, 8]])"
      ]
     },
     "execution_count": 148,
     "metadata": {},
     "output_type": "execute_result"
    }
   ],
   "source": [
    "nd"
   ]
  },
  {
   "cell_type": "code",
   "execution_count": null,
   "metadata": {
    "collapsed": true
   },
   "outputs": [],
   "source": []
  },
  {
   "cell_type": "code",
   "execution_count": null,
   "metadata": {
    "collapsed": true
   },
   "outputs": [],
   "source": []
  },
  {
   "cell_type": "markdown",
   "metadata": {},
   "source": [
    "## 四、ndarray的聚合操作"
   ]
  },
  {
   "cell_type": "markdown",
   "metadata": {},
   "source": [
    "### 1. 求和np.sum"
   ]
  },
  {
   "cell_type": "markdown",
   "metadata": {},
   "source": [
    "### 2. 最大最小值：np.max/ np.min"
   ]
  },
  {
   "cell_type": "markdown",
   "metadata": {},
   "source": [
    "### 3. 其他聚合操作\n",
    "    Function Name\tNaN-safe Version\tDescription\n",
    "    np.sum\tnp.nansum\tCompute sum of elements 所有元素的和\n",
    "    np.prod\tnp.nanprod\tCompute product of elements 所有元素的乘积\n",
    "    np.mean\tnp.nanmean\tCompute mean of elements\n",
    "    np.std\tnp.nanstd\tCompute standard deviation\n",
    "    np.min\tnp.nanmin\tFind minimum value\n",
    "    np.max\tnp.nanmax\tFind maximum value\n",
    "    np.argmin\tnp.nanargmin\tFind index of minimum value\n",
    "    np.argmax\tnp.nanargmax\tFind index of maximum value\n",
    "    np.any\tN/A\tEvaluate whether any elements are true\n",
    "    np.all\tN/A\tEvaluate whether all elements are true"
   ]
  },
  {
   "cell_type": "code",
   "execution_count": 156,
   "metadata": {},
   "outputs": [
    {
     "data": {
      "text/plain": [
       "array([[3, 6, 0],\n",
       "       [9, 0, 5],\n",
       "       [9, 4, 9]])"
      ]
     },
     "execution_count": 156,
     "metadata": {},
     "output_type": "execute_result"
    }
   ],
   "source": [
    "# 留着吧!!!\n",
    "nd = np.random.randint(0,10,size=(3,3))\n",
    "nd"
   ]
  },
  {
   "cell_type": "code",
   "execution_count": 158,
   "metadata": {},
   "outputs": [
    {
     "data": {
      "text/plain": [
       "array([21, 10, 14])"
      ]
     },
     "execution_count": 158,
     "metadata": {},
     "output_type": "execute_result"
    }
   ],
   "source": [
    "np.sum(nd)  # axis默认是None 表示对所有值进行加和\n",
    "np.sum(nd,axis=0)  # 按照轴线方向进行加和"
   ]
  },
  {
   "cell_type": "code",
   "execution_count": 160,
   "metadata": {},
   "outputs": [
    {
     "data": {
      "text/plain": [
       "array([[3, 6, 0],\n",
       "       [9, 0, 5],\n",
       "       [9, 4, 9]])"
      ]
     },
     "execution_count": 160,
     "metadata": {},
     "output_type": "execute_result"
    }
   ],
   "source": [
    "nd"
   ]
  },
  {
   "cell_type": "code",
   "execution_count": 159,
   "metadata": {},
   "outputs": [
    {
     "data": {
      "text/plain": [
       "True"
      ]
     },
     "execution_count": 159,
     "metadata": {},
     "output_type": "execute_result"
    }
   ],
   "source": [
    "np.any(nd)  # any就是看所有的值中有没有True"
   ]
  },
  {
   "cell_type": "code",
   "execution_count": 161,
   "metadata": {},
   "outputs": [
    {
     "data": {
      "text/plain": [
       "False"
      ]
     },
     "execution_count": 161,
     "metadata": {},
     "output_type": "execute_result"
    }
   ],
   "source": [
    "np.all(nd)  # 是不是所有的都是True"
   ]
  },
  {
   "cell_type": "code",
   "execution_count": 164,
   "metadata": {},
   "outputs": [
    {
     "data": {
      "text/plain": [
       "array([ True,  True,  True])"
      ]
     },
     "execution_count": 164,
     "metadata": {},
     "output_type": "execute_result"
    }
   ],
   "source": [
    "np.any(nd,axis=0)  # 顺着轴线方向 看有没有True"
   ]
  },
  {
   "cell_type": "code",
   "execution_count": 163,
   "metadata": {},
   "outputs": [
    {
     "data": {
      "text/plain": [
       "array([ True, False, False])"
      ]
     },
     "execution_count": 163,
     "metadata": {},
     "output_type": "execute_result"
    }
   ],
   "source": [
    "np.all(nd,axis=0)  # 顺着轴线方向 看是否都是True"
   ]
  },
  {
   "cell_type": "code",
   "execution_count": null,
   "metadata": {
    "collapsed": true
   },
   "outputs": [],
   "source": [
    "# 将来做数据过滤 经常会用到 any all"
   ]
  },
  {
   "cell_type": "markdown",
   "metadata": {},
   "source": [
    "np.argwhere"
   ]
  },
  {
   "cell_type": "code",
   "execution_count": 165,
   "metadata": {},
   "outputs": [
    {
     "data": {
      "text/plain": [
       "array([[3, 6, 0],\n",
       "       [9, 0, 5],\n",
       "       [9, 4, 9]])"
      ]
     },
     "execution_count": 165,
     "metadata": {},
     "output_type": "execute_result"
    }
   ],
   "source": [
    "nd"
   ]
  },
  {
   "cell_type": "code",
   "execution_count": 167,
   "metadata": {},
   "outputs": [
    {
     "data": {
      "text/plain": [
       "array([[1, 0],\n",
       "       [2, 0],\n",
       "       [2, 2]], dtype=int64)"
      ]
     },
     "execution_count": 167,
     "metadata": {},
     "output_type": "execute_result"
    }
   ],
   "source": [
    "# 按照条件查询位置\n",
    "np.argwhere(nd == 3)\n",
    "np.argwhere(nd > 8)"
   ]
  },
  {
   "cell_type": "markdown",
   "metadata": {},
   "source": [
    "np.sum 和 np.nansum 的区别\n",
    "nan not a number"
   ]
  },
  {
   "cell_type": "code",
   "execution_count": 170,
   "metadata": {},
   "outputs": [
    {
     "data": {
      "text/plain": [
       "array([ 1.,  2.,  3., nan])"
      ]
     },
     "execution_count": 170,
     "metadata": {},
     "output_type": "execute_result"
    }
   ],
   "source": [
    "# 数值 和 NaN 做运算 结果 是 NaN \n",
    "nd = np.array([1,2,3,np.NAN])\n",
    "nd"
   ]
  },
  {
   "cell_type": "code",
   "execution_count": 172,
   "metadata": {},
   "outputs": [
    {
     "data": {
      "text/plain": [
       "6.0"
      ]
     },
     "execution_count": 172,
     "metadata": {},
     "output_type": "execute_result"
    }
   ],
   "source": [
    "np.sum(nd)\n",
    "np.nansum(nd)  # 把nan当成0来处理"
   ]
  },
  {
   "cell_type": "code",
   "execution_count": null,
   "metadata": {
    "collapsed": true
   },
   "outputs": [],
   "source": []
  },
  {
   "cell_type": "markdown",
   "metadata": {},
   "source": [
    "## 五、ndarray的矩阵操作"
   ]
  },
  {
   "cell_type": "markdown",
   "metadata": {},
   "source": [
    "### 1. 基本矩阵操作"
   ]
  },
  {
   "cell_type": "markdown",
   "metadata": {},
   "source": [
    "1) 算术运算符：\n",
    "- 加减乘除"
   ]
  },
  {
   "cell_type": "code",
   "execution_count": 174,
   "metadata": {
    "collapsed": true
   },
   "outputs": [
    {
     "data": {
      "text/plain": [
       "array([[3, 5, 5, 2, 4],\n",
       "       [4, 7, 1, 5, 6],\n",
       "       [8, 9, 2, 0, 6],\n",
       "       [9, 6, 1, 7, 3]])"
      ]
     },
     "execution_count": 174,
     "metadata": {},
     "output_type": "execute_result"
    }
   ],
   "source": [
    "nd = np.random.randint(0,10,size=(4,5))\n",
    "nd"
   ]
  },
  {
   "cell_type": "code",
   "execution_count": 178,
   "metadata": {
    "collapsed": true
   },
   "outputs": [
    {
     "data": {
      "text/plain": [
       "array([[1.5, 2.5, 2.5, 1. , 2. ],\n",
       "       [2. , 3.5, 0.5, 2.5, 3. ],\n",
       "       [4. , 4.5, 1. , 0. , 3. ],\n",
       "       [4.5, 3. , 0.5, 3.5, 1.5]])"
      ]
     },
     "execution_count": 178,
     "metadata": {},
     "output_type": "execute_result"
    }
   ],
   "source": [
    "nd + 1\n",
    "nd - 1\n",
    "nd * 2\n",
    "nd / 2  # 广播机制"
   ]
  },
  {
   "cell_type": "markdown",
   "metadata": {},
   "source": [
    "2) 矩阵积np.dot()"
   ]
  },
  {
   "cell_type": "code",
   "execution_count": 180,
   "metadata": {
    "collapsed": true
   },
   "outputs": [
    {
     "data": {
      "text/plain": [
       "array([[6, 1, 2],\n",
       "       [3, 3, 7],\n",
       "       [1, 9, 5],\n",
       "       [1, 3, 7],\n",
       "       [8, 1, 7]])"
      ]
     },
     "execution_count": 180,
     "metadata": {},
     "output_type": "execute_result"
    }
   ],
   "source": [
    "nd1 = np.random.randint(0,10,size=(5,3))  # 5行3列\n",
    "nd1"
   ]
  },
  {
   "cell_type": "code",
   "execution_count": 184,
   "metadata": {
    "collapsed": true
   },
   "outputs": [
    {
     "data": {
      "text/plain": [
       "array([[8],\n",
       "       [3],\n",
       "       [0]])"
      ]
     },
     "execution_count": 184,
     "metadata": {},
     "output_type": "execute_result"
    }
   ],
   "source": [
    "# AB 如果想运算\n",
    "# A有多少列 B就要有多少行 这样才能对应位置相乘\n",
    "# 如果A是 n行m列 B是 i行j列 （i的值要等于m）\n",
    "# 乘出来的结果 是 n行j列 的矩阵\n",
    "nd2 = np.random.randint(0,10,size=(3,1))\n",
    "nd2"
   ]
  },
  {
   "cell_type": "code",
   "execution_count": 185,
   "metadata": {
    "collapsed": true
   },
   "outputs": [
    {
     "data": {
      "text/plain": [
       "array([[51],\n",
       "       [33],\n",
       "       [35],\n",
       "       [17],\n",
       "       [67]])"
      ]
     },
     "execution_count": 185,
     "metadata": {},
     "output_type": "execute_result"
    }
   ],
   "source": [
    "np.dot(nd1,nd2)"
   ]
  },
  {
   "cell_type": "code",
   "execution_count": 187,
   "metadata": {
    "collapsed": true
   },
   "outputs": [
    {
     "data": {
      "text/plain": [
       "array([[9, 3, 8],\n",
       "       [0, 6, 0]])"
      ]
     },
     "execution_count": 187,
     "metadata": {},
     "output_type": "execute_result"
    }
   ],
   "source": [
    "nd1 = np.random.randint(0,10,size=(2,3))  # 2行 3列\n",
    "nd1"
   ]
  },
  {
   "cell_type": "code",
   "execution_count": 188,
   "metadata": {
    "collapsed": true
   },
   "outputs": [
    {
     "data": {
      "text/plain": [
       "array([[9, 5],\n",
       "       [6, 4],\n",
       "       [0, 6]])"
      ]
     },
     "execution_count": 188,
     "metadata": {},
     "output_type": "execute_result"
    }
   ],
   "source": [
    "nd2 = np.random.randint(0,10,size=(3,2))  # 3行 2列"
   ]
  },
  {
   "cell_type": "code",
   "execution_count": 189,
   "metadata": {},
   "outputs": [
    {
     "data": {
      "text/plain": [
       "array([[ 99, 105],\n",
       "       [ 36,  24]])"
      ]
     },
     "execution_count": 189,
     "metadata": {},
     "output_type": "execute_result"
    }
   ],
   "source": [
    "# 结果应该是2行2列\n",
    "np.dot(nd1,nd2)"
   ]
  },
  {
   "cell_type": "code",
   "execution_count": null,
   "metadata": {
    "collapsed": true
   },
   "outputs": [],
   "source": []
  },
  {
   "cell_type": "markdown",
   "metadata": {},
   "source": [
    "### 2. 广播机制"
   ]
  },
  {
   "cell_type": "markdown",
   "metadata": {},
   "source": [
    "【重要】ndarray广播机制规则\n",
    "\n",
    "- 缺失元素用已有值填充\n",
    "\n",
    "\n",
    "例1：\n",
    "m = np.ones((2, 3))\n",
    "a = np.arange(1,4,1)\n",
    "求m+a"
   ]
  },
  {
   "cell_type": "code",
   "execution_count": 192,
   "metadata": {},
   "outputs": [
    {
     "data": {
      "text/plain": [
       "array([[1., 1., 1.],\n",
       "       [1., 1., 1.]])"
      ]
     },
     "execution_count": 192,
     "metadata": {},
     "output_type": "execute_result"
    }
   ],
   "source": [
    "m = np.ones((2, 3))\n",
    "m"
   ]
  },
  {
   "cell_type": "code",
   "execution_count": 193,
   "metadata": {},
   "outputs": [
    {
     "data": {
      "text/plain": [
       "array([1, 2, 3])"
      ]
     },
     "execution_count": 193,
     "metadata": {},
     "output_type": "execute_result"
    }
   ],
   "source": [
    "a = np.arange(1,4,1)\n",
    "a"
   ]
  },
  {
   "cell_type": "code",
   "execution_count": 194,
   "metadata": {},
   "outputs": [
    {
     "data": {
      "text/plain": [
       "array([[2., 3., 4.],\n",
       "       [2., 3., 4.]])"
      ]
     },
     "execution_count": 194,
     "metadata": {},
     "output_type": "execute_result"
    }
   ],
   "source": [
    "m + a\n",
    "# [2,3,4]\n",
    "# [2,3,4]"
   ]
  },
  {
   "cell_type": "markdown",
   "metadata": {},
   "source": [
    "例2：\n",
    "a = np.arange(3).reshape((3, 1))\n",
    "b = np.arange(3)\n",
    "求a+b"
   ]
  },
  {
   "cell_type": "code",
   "execution_count": 195,
   "metadata": {},
   "outputs": [
    {
     "data": {
      "text/plain": [
       "array([[0],\n",
       "       [1],\n",
       "       [2]])"
      ]
     },
     "execution_count": 195,
     "metadata": {},
     "output_type": "execute_result"
    }
   ],
   "source": [
    "a = np.arange(3).reshape((3, 1)) \n",
    "a"
   ]
  },
  {
   "cell_type": "code",
   "execution_count": 196,
   "metadata": {},
   "outputs": [
    {
     "data": {
      "text/plain": [
       "array([0, 1, 2])"
      ]
     },
     "execution_count": 196,
     "metadata": {},
     "output_type": "execute_result"
    }
   ],
   "source": [
    "b = np.arange(3)\n",
    "b\n",
    "[0,1,2]\n",
    "[0,1,2]\n",
    "[0,1,2]"
   ]
  },
  {
   "cell_type": "code",
   "execution_count": 197,
   "metadata": {},
   "outputs": [
    {
     "data": {
      "text/plain": [
       "array([[0, 1, 2],\n",
       "       [1, 2, 3],\n",
       "       [2, 3, 4]])"
      ]
     },
     "execution_count": 197,
     "metadata": {},
     "output_type": "execute_result"
    }
   ],
   "source": [
    "a + b"
   ]
  },
  {
   "cell_type": "markdown",
   "metadata": {},
   "source": [
    "习题\n",
    "a = np.ones((4, 1))\n",
    "b = np.arange(4)\n",
    "求a+b"
   ]
  },
  {
   "cell_type": "code",
   "execution_count": null,
   "metadata": {
    "collapsed": true
   },
   "outputs": [],
   "source": []
  },
  {
   "cell_type": "code",
   "execution_count": null,
   "metadata": {
    "collapsed": true
   },
   "outputs": [],
   "source": []
  },
  {
   "cell_type": "code",
   "execution_count": null,
   "metadata": {
    "collapsed": true
   },
   "outputs": [],
   "source": []
  },
  {
   "cell_type": "code",
   "execution_count": null,
   "metadata": {
    "collapsed": true
   },
   "outputs": [],
   "source": []
  },
  {
   "cell_type": "markdown",
   "metadata": {
    "collapsed": true
   },
   "source": [
    "## 六、ndarray的排序"
   ]
  },
  {
   "cell_type": "markdown",
   "metadata": {
    "collapsed": true
   },
   "source": [
    "### 1. 快速排序\n",
    "np.sort()与ndarray.sort()都可以，但有区别：\n",
    "- np.sort(ndarray) 不改变输入\n",
    "- ndarray.sort() 本地处理，不占用空间，但改变输入"
   ]
  },
  {
   "cell_type": "code",
   "execution_count": 199,
   "metadata": {},
   "outputs": [
    {
     "data": {
      "text/plain": [
       "array([[3, 5, 5, 2, 4],\n",
       "       [4, 7, 1, 5, 6],\n",
       "       [8, 9, 2, 0, 6],\n",
       "       [9, 6, 1, 7, 3]])"
      ]
     },
     "execution_count": 199,
     "metadata": {},
     "output_type": "execute_result"
    }
   ],
   "source": [
    "nd"
   ]
  },
  {
   "cell_type": "code",
   "execution_count": 200,
   "metadata": {},
   "outputs": [
    {
     "data": {
      "text/plain": [
       "array([[2, 3, 4, 5, 5],\n",
       "       [1, 4, 5, 6, 7],\n",
       "       [0, 2, 6, 8, 9],\n",
       "       [1, 3, 6, 7, 9]])"
      ]
     },
     "execution_count": 200,
     "metadata": {},
     "output_type": "execute_result"
    }
   ],
   "source": [
    "np.sort(nd)  # np.sort对ndarry进行排序 只是返回一个排序好的数组 对原数组不影响"
   ]
  },
  {
   "cell_type": "code",
   "execution_count": 201,
   "metadata": {},
   "outputs": [
    {
     "data": {
      "text/plain": [
       "array([[3, 5, 5, 2, 4],\n",
       "       [4, 7, 1, 5, 6],\n",
       "       [8, 9, 2, 0, 6],\n",
       "       [9, 6, 1, 7, 3]])"
      ]
     },
     "execution_count": 201,
     "metadata": {},
     "output_type": "execute_result"
    }
   ],
   "source": [
    "nd"
   ]
  },
  {
   "cell_type": "code",
   "execution_count": 204,
   "metadata": {},
   "outputs": [
    {
     "data": {
      "text/plain": [
       "array([[2, 3, 4, 5, 5],\n",
       "       [1, 4, 5, 6, 7],\n",
       "       [0, 2, 6, 8, 9],\n",
       "       [1, 3, 6, 7, 9]])"
      ]
     },
     "execution_count": 204,
     "metadata": {},
     "output_type": "execute_result"
    }
   ],
   "source": [
    "nd.sort()  # ndarr对象也有sort 这个sort没有返回值 而是对自身进行改变\n",
    "nd"
   ]
  },
  {
   "cell_type": "code",
   "execution_count": null,
   "metadata": {
    "collapsed": true
   },
   "outputs": [],
   "source": []
  },
  {
   "cell_type": "code",
   "execution_count": null,
   "metadata": {
    "collapsed": true
   },
   "outputs": [],
   "source": []
  },
  {
   "cell_type": "markdown",
   "metadata": {},
   "source": [
    "### 2. 部分排序\n",
    "np.partition(a,k)\n",
    "\n",
    "有的时候我们不是对全部数据感兴趣，我们可能只对最小或最大的一部分感兴趣。\n",
    "- 当k为正时，我们想要得到最小的k个数\n",
    "- 当k为负时，我们想要得到最大的k个数"
   ]
  },
  {
   "cell_type": "code",
   "execution_count": 211,
   "metadata": {},
   "outputs": [
    {
     "data": {
      "text/plain": [
       "array([40, 44, 46, 37, 66, 42, 67, 80, 13, 38, 32, 87, 79, 92, 76])"
      ]
     },
     "execution_count": 211,
     "metadata": {},
     "output_type": "execute_result"
    }
   ],
   "source": [
    "nd = np.random.randint(0,100,size=15)\n",
    "nd"
   ]
  },
  {
   "cell_type": "code",
   "execution_count": 215,
   "metadata": {},
   "outputs": [
    {
     "data": {
      "text/plain": [
       "array([32, 40, 46, 37, 66, 42, 67, 44, 13, 38, 76, 87, 79, 92, 80])"
      ]
     },
     "execution_count": 215,
     "metadata": {},
     "output_type": "execute_result"
    }
   ],
   "source": [
    "np.partition(nd,kth=5)  # 排在最前面的5个肯定是最小的5个\n",
    "np.partition(nd,kth=3)\n",
    "np.partition(nd,kth=-3)\n",
    "np.partition(nd,kth=-5)"
   ]
  },
  {
   "cell_type": "code",
   "execution_count": null,
   "metadata": {
    "collapsed": true
   },
   "outputs": [],
   "source": []
  },
  {
   "cell_type": "code",
   "execution_count": null,
   "metadata": {
    "collapsed": true
   },
   "outputs": [],
   "source": []
  },
  {
   "cell_type": "code",
   "execution_count": null,
   "metadata": {
    "collapsed": true
   },
   "outputs": [],
   "source": []
  },
  {
   "cell_type": "code",
   "execution_count": null,
   "metadata": {
    "collapsed": true
   },
   "outputs": [],
   "source": []
  },
  {
   "cell_type": "code",
   "execution_count": 235,
   "metadata": {},
   "outputs": [
    {
     "data": {
      "text/plain": [
       "array([[1, 3],\n",
       "       [2, 2],\n",
       "       [3, 1]])"
      ]
     },
     "execution_count": 235,
     "metadata": {},
     "output_type": "execute_result"
    }
   ],
   "source": [
    "nd1 = np.array(\n",
    "    [\n",
    "        [1,3],\n",
    "        [2,2],\n",
    "        [3,1]\n",
    "    ]\n",
    ")\n",
    "nd1"
   ]
  },
  {
   "cell_type": "code",
   "execution_count": 236,
   "metadata": {},
   "outputs": [
    {
     "data": {
      "text/plain": [
       "array([[0, 1, 2],\n",
       "       [0, 1, 2],\n",
       "       [0, 1, 2]])"
      ]
     },
     "execution_count": 236,
     "metadata": {},
     "output_type": "execute_result"
    }
   ],
   "source": [
    "nd2 = np.array(\n",
    "    [\n",
    "        [0,1,2],\n",
    "        [0,1,2],\n",
    "        [0,1,2]\n",
    "    ]\n",
    ")\n",
    "nd2"
   ]
  },
  {
   "cell_type": "code",
   "execution_count": 237,
   "metadata": {},
   "outputs": [
    {
     "ename": "ValueError",
     "evalue": "operands could not be broadcast together with shapes (3,2) (3,3) ",
     "output_type": "error",
     "traceback": [
      "\u001b[1;31m---------------------------------------------------------------------------\u001b[0m",
      "\u001b[1;31mValueError\u001b[0m                                Traceback (most recent call last)",
      "\u001b[1;32m<ipython-input-237-ee2ee7bfb47e>\u001b[0m in \u001b[0;36m<module>\u001b[1;34m()\u001b[0m\n\u001b[1;32m----> 1\u001b[1;33m \u001b[0mnd1\u001b[0m\u001b[1;33m+\u001b[0m\u001b[0mnd2\u001b[0m\u001b[1;33m\u001b[0m\u001b[0m\n\u001b[0m",
      "\u001b[1;31mValueError\u001b[0m: operands could not be broadcast together with shapes (3,2) (3,3) "
     ]
    }
   ],
   "source": [
    "nd1+nd2"
   ]
  }
 ],
 "metadata": {
  "kernelspec": {
   "display_name": "Python 3",
   "language": "python",
   "name": "python3"
  },
  "language_info": {
   "codemirror_mode": {
    "name": "ipython",
    "version": 3
   },
   "file_extension": ".py",
   "mimetype": "text/x-python",
   "name": "python",
   "nbconvert_exporter": "python",
   "pygments_lexer": "ipython3",
   "version": "3.6.3"
  }
 },
 "nbformat": 4,
 "nbformat_minor": 1
}
