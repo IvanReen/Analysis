{
 "cells": [
  {
   "cell_type": "markdown",
   "metadata": {},
   "source": [
    "# 决策树"
   ]
  },
  {
   "cell_type": "markdown",
   "metadata": {},
   "source": [
    "## 【关键词】树，信息增益"
   ]
  },
  {
   "cell_type": "markdown",
   "metadata": {},
   "source": [
    "### 决策树的优缺点"
   ]
  },
  {
   "cell_type": "markdown",
   "metadata": {},
   "source": [
    "优点：计算复杂度不高，输出结果易于理解，对中间值的缺失不敏感，可以处理不相关特征数据。既能用于分类，也能用于回归\n",
    "\n",
    "缺点：可能会产生过度匹配问题\n"
   ]
  },
  {
   "cell_type": "markdown",
   "metadata": {},
   "source": [
    "## 一、决策树的原理"
   ]
  },
  {
   "cell_type": "markdown",
   "metadata": {},
   "source": [
    "### predict()"
   ]
  },
  {
   "cell_type": "markdown",
   "metadata": {},
   "source": [
    "【二十个问题的游戏】\n",
    "\n",
    "游戏的规则很简单：参与游戏的一方在脑海里想某个事物，其他参与者向他提问题，只允许提20个问题，问题的答案也只能用对或错回答。问问题的人通过推断分解，逐步缩小待猜测事物的范围。决策树的工作原理与20个问题类似，用户输人一系列数据 ，然后给出游戏的答案。"
   ]
  },
  {
   "cell_type": "markdown",
   "metadata": {},
   "source": [
    "我们经常使用决策树处理分类问题。近来的调查表明决策树也是最经常使用的数据挖掘算法。它之所以如此流行，一个很重要的原因就是使用者基本上不用了解机器学习算法，也不用深究它是如何工作的。"
   ]
  },
  {
   "cell_type": "markdown",
   "metadata": {},
   "source": [
    "如果以前没有接触过决策树，完全不用担心，它的概念非常简单。即使不知道它也可以通过简单的图形了解其工作原理。\n",
    "\n",
    "决策树分类的思想类似于找对象。现想象一个女孩的母亲要给这个女孩介绍男朋友，于是有了下面的对话：\n",
    "\n",
    "      女儿：多大年纪了？\n",
    "\n",
    "      母亲：26。\n",
    "\n",
    "      女儿：长的帅不帅？\n",
    "\n",
    "      母亲：挺帅的。\n",
    "\n",
    "      女儿：收入高不？\n",
    "\n",
    "      母亲：不算很高，中等情况。\n",
    "\n",
    "      女儿：是公务员不？\n",
    "\n",
    "      母亲：是，在税务局上班呢。\n",
    "\n",
    "      女儿：那好，我去见见。\n",
    "      \n",
    "这个女孩的决策过程就是典型的分类树决策。相当于通过年龄、长相、收入和是否公务员对将男人分为两个类别：见和不见。假设这个女孩对男人的要求是：30岁以下、长相中等以上并且是高收入者或中等以上收入的公务员，那么这个可以用下图表示女孩的决策逻辑:\n",
    "\n",
    "![](./img/1.png)"
   ]
  },
  {
   "cell_type": "markdown",
   "metadata": {},
   "source": [
    "上图完整表达了这个女孩决定是否见一个约会对象的策略，其中绿色节点表示判断条件，橙色节点表示决策结果，箭头表示在一个判断条件在不同情况下的决策路径，图中红色箭头表示了上面例子中女孩的决策过程。\n",
    "\n",
    "这幅图基本可以算是一颗决策树，说它“基本可以算”是因为图中的判定条件没有量化，如收入高中低等等，还不能算是严格意义上的决策树，如果将所有条件量化，则就变成真正的决策树了。\n",
    "\n",
    "有了上面直观的认识，我们可以正式定义决策树了：\n",
    "\n",
    "决策树（decision tree）是一个树结构（可以是二叉树或非二叉树）。其每个非叶节点表示一个特征属性上的测试，每个分支代表这个特征属性在某个值域上的输出，而每个叶节点存放一个类别。使用决策树进行决策的过程就是从根节点开始，测试待分类项中相应的特征属性，并按照其值选择输出分支，直到到达叶子节点，将叶子节点存放的类别作为决策结果。\n",
    "\n",
    "可以看到，决策树的决策过程非常直观，容易被人理解。目前决策树已经成功运用于医学、制造产业、天文学、分支生物学以及商业等诸多领域。"
   ]
  },
  {
   "cell_type": "markdown",
   "metadata": {},
   "source": [
    "之前介绍的K-近邻算法可以完成很多分类任务，但是它最大的缺点就是无法给出数据的内在含义，决策树的主要优势就在于数据形式非常容易理解。"
   ]
  },
  {
   "cell_type": "markdown",
   "metadata": {},
   "source": [
    "决策树算法能够读取数据集合，构建类似于上面的决策树。决策树很多任务都是为了数据中所蕴含的知识信息，因此决策树可以使用不熟悉的数据集合，并从中提取出一系列规则，机器学习算法最终将使用这些机器从数据集中创造的规则。专家系统中经常使用决策树，而且决策树给出结果往往可以匹敌在当前领域具有几十年工作经验的人类专家。"
   ]
  },
  {
   "cell_type": "markdown",
   "metadata": {},
   "source": [
    "知道了决策树的定义以及其应用方法，下面介绍决策树的构造算法。"
   ]
  },
  {
   "cell_type": "markdown",
   "metadata": {},
   "source": [
    "## 二、决策树的构造"
   ]
  },
  {
   "cell_type": "markdown",
   "metadata": {},
   "source": [
    "#### 分类解决离散问题，回归解决连续问题"
   ]
  },
  {
   "cell_type": "markdown",
   "metadata": {},
   "source": [
    "- 决策树：信息论\n",
    "- 逻辑斯底回归、贝叶斯：概率论"
   ]
  },
  {
   "cell_type": "markdown",
   "metadata": {},
   "source": [
    "不同于逻辑斯蒂回归和贝叶斯算法，决策树的构造过程不依赖领域知识，它使用属性选择度量来选择将元组最好地划分成不同的类的属性。所谓决策树的构造就是进行属性选择度量确定各个特征属性之间的拓扑结构。\n",
    "\n",
    "构造决策树的关键步骤是分裂属性。所谓分裂属性就是在某个节点处按照某一特征属性的不同划分构造不同的分支，其目标是让各个分裂子集尽可能地“纯”。尽可能“纯”就是尽量让一个分裂子集中待分类项属于同一类别。分裂属性分为三种不同的情况：\n",
    "\n",
    "      1、属性是离散值且不要求生成二叉决策树。此时用属性的每一个划分作为一个分支。\n",
    "\n",
    "      2、属性是离散值且要求生成二叉决策树。此时使用属性划分的一个子集进行测试，按照“属于此子集”和“不属于此子集”分成两个分支。\n",
    "\n",
    "      3、属性是连续值。此时确定一个值作为分裂点split_point，按照>split_point和<=split_point生成两个分支。\n",
    "\n",
    "构造决策树的关键性内容是进行属性选择度量，属性选择度量是一种选择分裂准则，它决定了拓扑结构及分裂点split_point的选择。\n",
    "\n",
    "属性选择度量算法有很多，一般使用自顶向下递归分治法，并采用不回溯的贪心策略。这里介绍常用的ID3算法。"
   ]
  },
  {
   "cell_type": "markdown",
   "metadata": {},
   "source": [
    "#### ID3算法"
   ]
  },
  {
   "cell_type": "markdown",
   "metadata": {},
   "source": [
    "划分数据集的大原则是：*将无序的数据变得更加有序。*\n",
    "\n",
    "我们可以使用多种方法划分数据集，但是每种方法都有各自的优缺点。组织杂乱无章数据的一种方法就是使用信息论度量信息，信息论是量化处理信息的分支科学。我们可以在划分数据之前使用信息论量化度量信息的内容。\n",
    "\n",
    "在划分数据集之前之后信息发生的变化称为信息增益，知道如何计算信息增益，我们就可以计算每个特征值划分数据集获得的信息增益，获得信息增益最高的特征就是最好的选择。\n",
    "\n",
    "在可以评测哪种数据划分方式是最好的数据划分之前，我们必须学习如何计算信息增益。集合信息的度量方式称为香农熵或者简称为熵，这个名字来源于信息论之父克劳德•香农。\n",
    "\n",
    "entropy\n",
    "\n",
    "熵定义为信息的期望值，在明晰这个概念之前，我们必须知道信息的定义。如果待分类的事务可能划分在多个分类之中，则符号x的信息定义为：\n",
    "\n",
    "![](./img/2.png)\n",
    "\n",
    "其中p(x)是选择该分类的概率\n",
    "\n",
    "为了计算熵，我们需要计算所有类别所有可能值包含的信息期望值，通过下面的公式得到：\n",
    "\n",
    "![3.PNG](./img/3.png)\n",
    "\n",
    "其中n是分类的数目。\n",
    "\n",
    "在决策树当中，设D为用类别对训练元组进行的划分，则D的熵（entropy）表示为：\n",
    "\n",
    "![4.gif](./img/4.gif)\n",
    "\n",
    "其中pi表示第i个类别在整个训练元组中出现的概率，可以用属于此类别元素的数量除以训练元组元素总数量作为估计。熵的实际意义表示是D中元组的类标号所需要的平均信息量。\n",
    "\n",
    "现在我们假设将训练元组D按属性A进行划分，则A对D划分的期望信息为：\n",
    "\n",
    "![5.gif](./img/5.gif)\n",
    "\n",
    "而信息增益即为两者的差值：\n",
    "\n",
    "![6.gif](./img/6.gif)\n",
    "\n",
    "ID3算法就是在每次需要分裂时，计算每个属性的增益率，然后选择增益率最大的属性进行分裂。下面我们继续用SNS社区中不真实账号检测的例子说明如何使用ID3算法构造决策树。为了简单起见，我们假设训练集合包含10个元素：\n",
    "\n",
    "![7.png](./img/7.png)\n",
    "\n",
    "其中s、m和l分别表示小、中和大。\n",
    "\n",
    "设L、F和H表示日志密度、好友密度、是否使用真实头像，下面计算各属性的信息增益。\n",
    "\n",
    "![8.gif](./img/8.gif)\n",
    "![9.gif](./img/9.gif)\n",
    "![10.gif](./img/10.gif)\n",
    "\n",
    "因此日志密度的信息增益是0.276。\n",
    "\n",
    "用同样方法得到F和H的信息增益分别为0.553和0.033。\n",
    "\n",
    "因为F具有最大的信息增益，所以第一次分裂选择F为分裂属性，分裂后的结果如下图表示：\n",
    "\n",
    "![11.png](./img/11.png)\n",
    "\n",
    "在上图的基础上，再递归使用这个方法计算子节点的分裂属性，最终就可以得到整个决策树。\n"
   ]
  },
  {
   "cell_type": "markdown",
   "metadata": {},
   "source": [
    "### 练习\n",
    "计算上图的信息熵，确定下一个分类的特征"
   ]
  },
  {
   "cell_type": "code",
   "execution_count": 5,
   "metadata": {},
   "outputs": [
    {
     "data": {
      "text/plain": [
       "-0.0"
      ]
     },
     "execution_count": 5,
     "metadata": {},
     "output_type": "execute_result"
    }
   ],
   "source": [
    "import math\n",
    "-(0.5*math.log2(0.5)+0.5*math.log2(0.5))  # 模棱两可\n",
    "-(0.9*math.log2(0.9)+0.1*math.log2(0.1))\n",
    "-(0.999*math.log2(0.999)+0.001*math.log2(0.001))  # 不确定性以及很小了\n",
    "-(1*math.log2(1))"
   ]
  },
  {
   "cell_type": "code",
   "execution_count": 6,
   "metadata": {},
   "outputs": [
    {
     "data": {
      "text/plain": [
       "0.8812908992306927"
      ]
     },
     "execution_count": 6,
     "metadata": {},
     "output_type": "execute_result"
    }
   ],
   "source": [
    "# 判断账号是否真实的系统中，信息的熵\n",
    "# n - 3 p1 = 3/10\n",
    "# y - 7 p2 = 7/10\n",
    "# 计算这个系统中的信息熵\n",
    "-((3/10)*math.log2(3/10)+(7/10)*math.log2(7/10))"
   ]
  },
  {
   "cell_type": "code",
   "execution_count": 8,
   "metadata": {},
   "outputs": [
    {
     "data": {
      "text/plain": [
       "0.8812908992306927"
      ]
     },
     "execution_count": 8,
     "metadata": {},
     "output_type": "execute_result"
    }
   ],
   "source": [
    "inof_D = -((3/10)*math.log2(3/10)+(7/10)*math.log2(7/10))\n",
    "inof_D  # 当前系统的信息熵"
   ]
  },
  {
   "cell_type": "code",
   "execution_count": 10,
   "metadata": {},
   "outputs": [
    {
     "data": {
      "text/plain": [
       "0.6"
      ]
     },
     "execution_count": 10,
     "metadata": {},
     "output_type": "execute_result"
    }
   ],
   "source": [
    "# 求 依据日志密度判断 帐号是否真实 的 信息熵\n",
    "# s - 3 p=0.3   n y n\n",
    "# m - 4 p=0.4   y y n y\n",
    "# l - 3 p=0.3   y y y\n",
    "info_L_D = -0.3*((2/3)*math.log2(2/3)+(1/3)*math.log2(1/3))-0.4*((1/4)*math.log2(1/4)+(3/4)*math.log2(3/4))-0.3*(math.log2(1))\n",
    "info_L_D"
   ]
  },
  {
   "cell_type": "code",
   "execution_count": 12,
   "metadata": {},
   "outputs": [
    {
     "data": {
      "text/plain": [
       "0.2812908992306927"
      ]
     },
     "execution_count": 12,
     "metadata": {},
     "output_type": "execute_result"
    }
   ],
   "source": [
    "inof_D-info_L_D  # 日志密度这个特征 带来的 信息增益"
   ]
  },
  {
   "cell_type": "code",
   "execution_count": 16,
   "metadata": {},
   "outputs": [
    {
     "data": {
      "text/plain": [
       "0.32451124978365314"
      ]
     },
     "execution_count": 16,
     "metadata": {},
     "output_type": "execute_result"
    }
   ],
   "source": [
    "# 求 依据好友密度判断 帐号是否真实 的 信息熵\n",
    "# s - 4 p=0.4 n n y n\n",
    "# m - 4 p=0.4 y y y y\n",
    "# l - 2 p=0.2 y y\n",
    "\n",
    "info_F_D = -0.4*((3/4)*math.log2(3/4)+(1/4)*math.log2(1/4))\n",
    "info_F_D"
   ]
  },
  {
   "cell_type": "code",
   "execution_count": 17,
   "metadata": {},
   "outputs": [
    {
     "data": {
      "text/plain": [
       "0.5567796494470396"
      ]
     },
     "execution_count": 17,
     "metadata": {},
     "output_type": "execute_result"
    }
   ],
   "source": [
    "inof_D-info_F_D  # 好友密度带来的信息增益就很大了"
   ]
  },
  {
   "cell_type": "code",
   "execution_count": null,
   "metadata": {
    "collapsed": true
   },
   "outputs": [],
   "source": [
    "# 通过 上述算法 可以计算每个特征 带来的信息增益\n",
    "# 然后 优先以 信息增益大的 特征 对 样本进行分类"
   ]
  },
  {
   "cell_type": "code",
   "execution_count": 18,
   "metadata": {
    "collapsed": true
   },
   "outputs": [],
   "source": [
    "from sklearn.tree import DecisionTreeClassifier"
   ]
  },
  {
   "cell_type": "code",
   "execution_count": 19,
   "metadata": {
    "collapsed": true
   },
   "outputs": [],
   "source": [
    "dtree = DecisionTreeClassifier()  # 创建一个决策树模型"
   ]
  },
  {
   "cell_type": "code",
   "execution_count": 20,
   "metadata": {
    "collapsed": true
   },
   "outputs": [],
   "source": [
    "import numpy as np\n",
    "import pandas as pd\n",
    "from pandas import Series,DataFrame\n",
    "import matplotlib.pyplot as plt"
   ]
  },
  {
   "cell_type": "code",
   "execution_count": 22,
   "metadata": {
    "collapsed": true
   },
   "outputs": [],
   "source": [
    "# 留着吧\n",
    "# 日志密度 s m l 0 1 2\n",
    "# 好友密度 s m l 0 1 2\n",
    "# 头像     n y   0 1\n",
    "\n",
    "# m s n\n",
    "# l m n\n",
    "# m s n\n",
    "# s s y\n",
    "\n",
    "# 1 0 0\n",
    "# 2 1 0\n",
    "# 1 0 0\n",
    "# 0 0 1\n",
    "\n",
    "X_train = np.array([\n",
    "    [0,0,0],\n",
    "    [0,2,1],\n",
    "    [2,1,1],\n",
    "    [1,1,1],\n",
    "    [2,1,1],\n",
    "    [1,2,0],\n",
    "    [1,0,0],\n",
    "    [2,1,0],\n",
    "    [1,0,0],\n",
    "    [0,0,1],\n",
    "])\n",
    "y_train = np.array([0,1,1,1,1,1,0,1,1,0])"
   ]
  },
  {
   "cell_type": "code",
   "execution_count": 23,
   "metadata": {},
   "outputs": [
    {
     "data": {
      "text/plain": [
       "DecisionTreeClassifier(class_weight=None, criterion='gini', max_depth=None,\n",
       "            max_features=None, max_leaf_nodes=None,\n",
       "            min_impurity_decrease=0.0, min_impurity_split=None,\n",
       "            min_samples_leaf=1, min_samples_split=2,\n",
       "            min_weight_fraction_leaf=0.0, presort=False, random_state=None,\n",
       "            splitter='best')"
      ]
     },
     "execution_count": 23,
     "metadata": {},
     "output_type": "execute_result"
    }
   ],
   "source": [
    "dtree.fit(X_train,y_train)"
   ]
  },
  {
   "cell_type": "code",
   "execution_count": 28,
   "metadata": {},
   "outputs": [
    {
     "data": {
      "text/plain": [
       "array([0, 1, 0])"
      ]
     },
     "execution_count": 28,
     "metadata": {},
     "output_type": "execute_result"
    }
   ],
   "source": [
    "dtree.predict([\n",
    "    [0,0,0],  # 日志密度低 好友密度低 头像是假的\n",
    "    [0,1,0],   # 日志密度低 好友密度中等 头像是假的  好友密度这个条件还可以 其他条件都不好\n",
    "    [2,0,1]  # 其他条件都很好 就是好友密度不好\n",
    "])\n",
    "# 优先以信息增益大的条件去决定分类"
   ]
  },
  {
   "cell_type": "code",
   "execution_count": null,
   "metadata": {
    "collapsed": true
   },
   "outputs": [],
   "source": []
  },
  {
   "cell_type": "code",
   "execution_count": null,
   "metadata": {
    "collapsed": true
   },
   "outputs": [],
   "source": []
  },
  {
   "cell_type": "markdown",
   "metadata": {},
   "source": [
    "## 三、实战"
   ]
  },
  {
   "cell_type": "markdown",
   "metadata": {},
   "source": [
    "【注意】\n",
    "参数max_depth越大，越容易过拟合"
   ]
  },
  {
   "cell_type": "markdown",
   "metadata": {},
   "source": [
    "导包"
   ]
  },
  {
   "cell_type": "code",
   "execution_count": 29,
   "metadata": {
    "collapsed": true
   },
   "outputs": [],
   "source": [
    "# 导入 数据集 和 模型 knn lgc dtree \n",
    "from sklearn.neighbors import KNeighborsClassifier\n",
    "from sklearn.linear_model import LogisticRegression  # 虽然名字里有回归 但是是用来分类的\n",
    "from sklearn.tree import DecisionTreeClassifier"
   ]
  },
  {
   "cell_type": "code",
   "execution_count": 30,
   "metadata": {
    "collapsed": true
   },
   "outputs": [],
   "source": [
    "from sklearn.datasets import load_iris"
   ]
  },
  {
   "cell_type": "markdown",
   "metadata": {},
   "source": [
    "### 1、使用自带的iris数据集"
   ]
  },
  {
   "cell_type": "code",
   "execution_count": 32,
   "metadata": {
    "collapsed": true
   },
   "outputs": [],
   "source": [
    "iris = load_iris()"
   ]
  },
  {
   "cell_type": "code",
   "execution_count": 36,
   "metadata": {
    "collapsed": true
   },
   "outputs": [],
   "source": [
    "# 这里只是 获取一下前两个特征 进行分类 然后绘图 让大家看下不同模型的差异即可\n",
    "data = iris.data[:,:2]  # 特征\n",
    "target = iris.target  # 目标值"
   ]
  },
  {
   "cell_type": "code",
   "execution_count": null,
   "metadata": {
    "collapsed": true
   },
   "outputs": [],
   "source": [
    "# 先画图看看效果"
   ]
  },
  {
   "cell_type": "markdown",
   "metadata": {},
   "source": [
    "无需切分训练集和测试集 取出前两个特征绘图看分类效果"
   ]
  },
  {
   "cell_type": "code",
   "execution_count": 38,
   "metadata": {},
   "outputs": [
    {
     "data": {
      "text/plain": [
       "<matplotlib.collections.PathCollection at 0x29c3cefd630>"
      ]
     },
     "execution_count": 38,
     "metadata": {},
     "output_type": "execute_result"
    },
    {
     "data": {
      "image/png": "[encoded data removed]",
      "text/plain": [
       "<Figure size 432x288 with 1 Axes>"
      ]
     },
     "metadata": {},
     "output_type": "display_data"
    }
   ],
   "source": [
    "plt.scatter(data[:,0],data[:,1],c=target)"
   ]
  },
  {
   "cell_type": "code",
   "execution_count": null,
   "metadata": {
    "collapsed": true
   },
   "outputs": [],
   "source": []
  },
  {
   "cell_type": "code",
   "execution_count": null,
   "metadata": {
    "collapsed": true
   },
   "outputs": [],
   "source": []
  },
  {
   "cell_type": "markdown",
   "metadata": {},
   "source": [
    "使用决策树算法"
   ]
  },
  {
   "cell_type": "code",
   "execution_count": 71,
   "metadata": {},
   "outputs": [
    {
     "data": {
      "text/plain": [
       "64"
      ]
     },
     "execution_count": 71,
     "metadata": {},
     "output_type": "execute_result"
    }
   ],
   "source": [
    "2**6"
   ]
  },
  {
   "cell_type": "code",
   "execution_count": 72,
   "metadata": {
    "collapsed": true
   },
   "outputs": [],
   "source": [
    "# max_depth=None 最大深度 其实就是 决策树 决策的次数\n",
    "dtree = DecisionTreeClassifier(max_depth=6)  # 深度太小 容易欠拟合  深度太大 容易过拟合 "
   ]
  },
  {
   "cell_type": "code",
   "execution_count": 73,
   "metadata": {},
   "outputs": [
    {
     "data": {
      "text/plain": [
       "DecisionTreeClassifier(class_weight=None, criterion='gini', max_depth=6,\n",
       "            max_features=None, max_leaf_nodes=None,\n",
       "            min_impurity_decrease=0.0, min_impurity_split=None,\n",
       "            min_samples_leaf=1, min_samples_split=2,\n",
       "            min_weight_fraction_leaf=0.0, presort=False, random_state=None,\n",
       "            splitter='best')"
      ]
     },
     "execution_count": 73,
     "metadata": {},
     "output_type": "execute_result"
    }
   ],
   "source": [
    "dtree.fit(data,target)"
   ]
  },
  {
   "cell_type": "code",
   "execution_count": null,
   "metadata": {
    "collapsed": true
   },
   "outputs": [],
   "source": [
    "# 把整个坐标系 取遍 看分界\n",
    "# dtree.predict()"
   ]
  },
  {
   "cell_type": "code",
   "execution_count": 44,
   "metadata": {
    "collapsed": true
   },
   "outputs": [],
   "source": [
    "# 范围\n",
    "xmin = data[:,0].min() - 0.5\n",
    "xmax = data[:,0].max() + 0.5\n",
    "ymin = data[:,1].min() - 0.5\n",
    "ymax = data[:,1].max() + 0.5"
   ]
  },
  {
   "cell_type": "code",
   "execution_count": 47,
   "metadata": {
    "collapsed": true
   },
   "outputs": [],
   "source": [
    "# 取遍范围\n",
    "x = np.linspace(xmin,xmax,100)\n",
    "y = np.linspace(ymin,ymax,100)\n",
    "# 网格化处理x和y 让他们做交叉\n",
    "xx,yy = np.meshgrid(x,y)\n",
    "X_test = np.c_[xx.flatten(),yy.flatten()]  # 画布上的每一个点"
   ]
  },
  {
   "cell_type": "code",
   "execution_count": 74,
   "metadata": {
    "collapsed": true
   },
   "outputs": [],
   "source": [
    "# 使用X_test去预测\n",
    "y_ = dtree.predict(X_test)"
   ]
  },
  {
   "cell_type": "code",
   "execution_count": 53,
   "metadata": {
    "collapsed": true
   },
   "outputs": [],
   "source": [
    "from matplotlib.colors import ListedColormap\n",
    "cmap1 = ListedColormap(['r','g','b'])"
   ]
  },
  {
   "cell_type": "code",
   "execution_count": 75,
   "metadata": {},
   "outputs": [
    {
     "data": {
      "text/plain": [
       "<matplotlib.collections.PathCollection at 0x29c3d24da58>"
      ]
     },
     "execution_count": 75,
     "metadata": {},
     "output_type": "execute_result"
    },
    {
     "data": {
      "image/png": "[encoded data removed]",
      "text/plain": [
       "<Figure size 432x288 with 1 Axes>"
      ]
     },
     "metadata": {},
     "output_type": "display_data"
    }
   ],
   "source": [
    "# 绘图\n",
    "plt.scatter(X_test[:,0],X_test[:,1],c=y_)\n",
    "plt.scatter(data[:,0],data[:,1],c=target,cmap=cmap1)  # 先画背景 后画点"
   ]
  },
  {
   "cell_type": "code",
   "execution_count": null,
   "metadata": {
    "collapsed": true
   },
   "outputs": [],
   "source": []
  },
  {
   "cell_type": "markdown",
   "metadata": {},
   "source": [
    "使用KNN算法"
   ]
  },
  {
   "cell_type": "code",
   "execution_count": 76,
   "metadata": {
    "collapsed": true
   },
   "outputs": [],
   "source": [
    "knn = KNeighborsClassifier()"
   ]
  },
  {
   "cell_type": "code",
   "execution_count": 77,
   "metadata": {},
   "outputs": [
    {
     "data": {
      "text/plain": [
       "KNeighborsClassifier(algorithm='auto', leaf_size=30, metric='minkowski',\n",
       "           metric_params=None, n_jobs=1, n_neighbors=5, p=2,\n",
       "           weights='uniform')"
      ]
     },
     "execution_count": 77,
     "metadata": {},
     "output_type": "execute_result"
    }
   ],
   "source": [
    "knn.fit(data,target)"
   ]
  },
  {
   "cell_type": "code",
   "execution_count": 78,
   "metadata": {
    "collapsed": true
   },
   "outputs": [],
   "source": [
    "y_ = knn.predict(X_test)"
   ]
  },
  {
   "cell_type": "code",
   "execution_count": 79,
   "metadata": {},
   "outputs": [
    {
     "data": {
      "text/plain": [
       "<matplotlib.collections.PathCollection at 0x29c3d2ba3c8>"
      ]
     },
     "execution_count": 79,
     "metadata": {},
     "output_type": "execute_result"
    },
    {
     "data": {
      "image/png": "[encoded data removed]",
      "text/plain": [
       "<Figure size 432x288 with 1 Axes>"
      ]
     },
     "metadata": {},
     "output_type": "display_data"
    }
   ],
   "source": [
    "plt.scatter(X_test[:,0],X_test[:,1],c=y_)\n",
    "plt.scatter(data[:,0],data[:,1],c=target,cmap=cmap1)  # knn容易过拟合"
   ]
  },
  {
   "cell_type": "code",
   "execution_count": null,
   "metadata": {
    "collapsed": true
   },
   "outputs": [],
   "source": []
  },
  {
   "cell_type": "markdown",
   "metadata": {},
   "source": [
    "使用逻辑斯蒂回归算法"
   ]
  },
  {
   "cell_type": "code",
   "execution_count": 80,
   "metadata": {
    "collapsed": true
   },
   "outputs": [],
   "source": [
    "lgc = LogisticRegression()"
   ]
  },
  {
   "cell_type": "code",
   "execution_count": 81,
   "metadata": {},
   "outputs": [
    {
     "data": {
      "text/plain": [
       "LogisticRegression(C=1.0, class_weight=None, dual=False, fit_intercept=True,\n",
       "          intercept_scaling=1, max_iter=100, multi_class='ovr', n_jobs=1,\n",
       "          penalty='l2', random_state=None, solver='liblinear', tol=0.0001,\n",
       "          verbose=0, warm_start=False)"
      ]
     },
     "execution_count": 81,
     "metadata": {},
     "output_type": "execute_result"
    }
   ],
   "source": [
    "lgc.fit(data,target)"
   ]
  },
  {
   "cell_type": "code",
   "execution_count": 82,
   "metadata": {
    "collapsed": true
   },
   "outputs": [],
   "source": [
    "y_ = lgc.predict(X_test)"
   ]
  },
  {
   "cell_type": "code",
   "execution_count": 84,
   "metadata": {},
   "outputs": [
    {
     "data": {
      "text/plain": [
       "<matplotlib.collections.PathCollection at 0x29c3d35b5c0>"
      ]
     },
     "execution_count": 84,
     "metadata": {},
     "output_type": "execute_result"
    },
    {
     "data": {
      "image/png": "[encoded data removed]",
      "text/plain": [
       "<Figure size 432x288 with 1 Axes>"
      ]
     },
     "metadata": {},
     "output_type": "display_data"
    }
   ],
   "source": [
    "plt.scatter(X_test[:,0],X_test[:,1],c=y_)\n",
    "plt.scatter(data[:,0],data[:,1],c=target,cmap=cmap1)   # 逻辑回归容易欠拟合"
   ]
  },
  {
   "cell_type": "code",
   "execution_count": 85,
   "metadata": {
    "collapsed": true
   },
   "outputs": [],
   "source": [
    "# 处理分类问题\n",
    "# 有明确的业务逻辑（反映到图上 是 很规整的散点） 这个时候适合用决策树\n",
    "# knn(容易过拟合)和lgc（容易欠拟合）\n",
    "# 能不用knn 尽量不用knn 速度太慢 内存消耗太大"
   ]
  },
  {
   "cell_type": "code",
   "execution_count": null,
   "metadata": {
    "collapsed": true
   },
   "outputs": [],
   "source": []
  },
  {
   "cell_type": "code",
   "execution_count": null,
   "metadata": {
    "collapsed": true
   },
   "outputs": [],
   "source": []
  },
  {
   "cell_type": "markdown",
   "metadata": {},
   "source": [
    "### 2、使用回归预测一个椭圆"
   ]
  },
  {
   "cell_type": "markdown",
   "metadata": {},
   "source": [
    "在-np.pi到np.pi的范围 中 产生200个点\n",
    "\n",
    "生成正弦值和余弦值\n",
    "\n",
    "然后根据正弦值和余弦值产生目标值"
   ]
  },
  {
   "cell_type": "code",
   "execution_count": 88,
   "metadata": {
    "collapsed": true
   },
   "outputs": [],
   "source": [
    "from sklearn.tree import DecisionTreeRegressor"
   ]
  },
  {
   "cell_type": "code",
   "execution_count": 100,
   "metadata": {
    "collapsed": true
   },
   "outputs": [
    {
     "data": {
      "text/plain": [
       "array([-3.14159265, -3.11001886, -3.07844506, -3.04687127, -3.01529747,\n",
       "       -2.98372368, -2.95214988, -2.92057608, -2.88900229, -2.85742849,\n",
       "       -2.8258547 , -2.7942809 , -2.76270711, -2.73113331, -2.69955952,\n",
       "       -2.66798572, -2.63641193, -2.60483813, -2.57326433, -2.54169054,\n",
       "       -2.51011674, -2.47854295, -2.44696915, -2.41539536, -2.38382156,\n",
       "       -2.35224777, -2.32067397, -2.28910017, -2.25752638, -2.22595258,\n",
       "       -2.19437879, -2.16280499, -2.1312312 , -2.0996574 , -2.06808361,\n",
       "       -2.03650981, -2.00493602, -1.97336222, -1.94178842, -1.91021463,\n",
       "       -1.87864083, -1.84706704, -1.81549324, -1.78391945, -1.75234565,\n",
       "       -1.72077186, -1.68919806, -1.65762426, -1.62605047, -1.59447667,\n",
       "       -1.56290288, -1.53132908, -1.49975529, -1.46818149, -1.4366077 ,\n",
       "       -1.4050339 , -1.3734601 , -1.34188631, -1.31031251, -1.27873872,\n",
       "       -1.24716492, -1.21559113, -1.18401733, -1.15244354, -1.12086974,\n",
       "       -1.08929595, -1.05772215, -1.02614835, -0.99457456, -0.96300076,\n",
       "       -0.93142697, -0.89985317, -0.86827938, -0.83670558, -0.80513179,\n",
       "       -0.77355799, -0.74198419, -0.7104104 , -0.6788366 , -0.64726281,\n",
       "       -0.61568901, -0.58411522, -0.55254142, -0.52096763, -0.48939383,\n",
       "       -0.45782003, -0.42624624, -0.39467244, -0.36309865, -0.33152485,\n",
       "       -0.29995106, -0.26837726, -0.23680347, -0.20522967, -0.17365588,\n",
       "       -0.14208208, -0.11050828, -0.07893449, -0.04736069, -0.0157869 ,\n",
       "        0.0157869 ,  0.04736069,  0.07893449,  0.11050828,  0.14208208,\n",
       "        0.17365588,  0.20522967,  0.23680347,  0.26837726,  0.29995106,\n",
       "        0.33152485,  0.36309865,  0.39467244,  0.42624624,  0.45782003,\n",
       "        0.48939383,  0.52096763,  0.55254142,  0.58411522,  0.61568901,\n",
       "        0.64726281,  0.6788366 ,  0.7104104 ,  0.74198419,  0.77355799,\n",
       "        0.80513179,  0.83670558,  0.86827938,  0.89985317,  0.93142697,\n",
       "        0.96300076,  0.99457456,  1.02614835,  1.05772215,  1.08929595,\n",
       "        1.12086974,  1.15244354,  1.18401733,  1.21559113,  1.24716492,\n",
       "        1.27873872,  1.31031251,  1.34188631,  1.3734601 ,  1.4050339 ,\n",
       "        1.4366077 ,  1.46818149,  1.49975529,  1.53132908,  1.56290288,\n",
       "        1.59447667,  1.62605047,  1.65762426,  1.68919806,  1.72077186,\n",
       "        1.75234565,  1.78391945,  1.81549324,  1.84706704,  1.87864083,\n",
       "        1.91021463,  1.94178842,  1.97336222,  2.00493602,  2.03650981,\n",
       "        2.06808361,  2.0996574 ,  2.1312312 ,  2.16280499,  2.19437879,\n",
       "        2.22595258,  2.25752638,  2.28910017,  2.32067397,  2.35224777,\n",
       "        2.38382156,  2.41539536,  2.44696915,  2.47854295,  2.51011674,\n",
       "        2.54169054,  2.57326433,  2.60483813,  2.63641193,  2.66798572,\n",
       "        2.69955952,  2.73113331,  2.76270711,  2.7942809 ,  2.8258547 ,\n",
       "        2.85742849,  2.88900229,  2.92057608,  2.95214988,  2.98372368,\n",
       "        3.01529747,  3.04687127,  3.07844506,  3.11001886,  3.14159265])"
      ]
     },
     "execution_count": 100,
     "metadata": {},
     "output_type": "execute_result"
    }
   ],
   "source": [
    "X_train = np.linspace(-np.pi,np.pi,200)\n",
    "X_train"
   ]
  },
  {
   "cell_type": "code",
   "execution_count": 101,
   "metadata": {
    "collapsed": true
   },
   "outputs": [],
   "source": [
    "s = np.sin(X_train)\n",
    "c = np.cos(X_train)\n",
    "target = np.c_[s,c]"
   ]
  },
  {
   "cell_type": "code",
   "execution_count": 103,
   "metadata": {
    "collapsed": true
   },
   "outputs": [
    {
     "data": {
      "text/plain": [
       "array([[-1.22464680e-16, -1.00000000e+00],\n",
       "       [-3.15685498e-02, -9.99501589e-01],\n",
       "       [-6.31056313e-02, -9.98006853e-01],\n",
       "       [-9.45798078e-02, -9.95517283e-01],\n",
       "       [-1.25959705e-01, -9.92035359e-01],\n",
       "       [-1.57214043e-01, -9.87564552e-01],\n",
       "       [-1.88311666e-01, -9.82109320e-01],\n",
       "       [-2.19221577e-01, -9.75675100e-01],\n",
       "       [-2.49912962e-01, -9.68268305e-01],\n",
       "       [-2.80355229e-01, -9.59896320e-01],\n",
       "       [-3.10518032e-01, -9.50567489e-01],\n",
       "       [-3.40371303e-01, -9.40291112e-01],\n",
       "       [-3.69885285e-01, -9.29077433e-01],\n",
       "       [-3.99030558e-01, -9.16937628e-01],\n",
       "       [-4.27778068e-01, -9.03883800e-01],\n",
       "       [-4.56099159e-01, -8.89928962e-01],\n",
       "       [-4.83965601e-01, -8.75087022e-01],\n",
       "       [-5.11349616e-01, -8.59372777e-01],\n",
       "       [-5.38223906e-01, -8.42801891e-01],\n",
       "       [-5.64561683e-01, -8.25390881e-01],\n",
       "       [-5.90336692e-01, -8.07157104e-01],\n",
       "       [-6.15523241e-01, -7.88118735e-01],\n",
       "       [-6.40096223e-01, -7.68294752e-01],\n",
       "       [-6.64031143e-01, -7.47704916e-01],\n",
       "       [-6.87304143e-01, -7.26369751e-01],\n",
       "       [-7.09892022e-01, -7.04310526e-01],\n",
       "       [-7.31772266e-01, -6.81549228e-01],\n",
       "       [-7.52923064e-01, -6.58108547e-01],\n",
       "       [-7.73323331e-01, -6.34011850e-01],\n",
       "       [-7.92952733e-01, -6.09283155e-01],\n",
       "       [-8.11791702e-01, -5.83947114e-01],\n",
       "       [-8.29821460e-01, -5.58028982e-01],\n",
       "       [-8.47024034e-01, -5.31554594e-01],\n",
       "       [-8.63382275e-01, -5.04550341e-01],\n",
       "       [-8.78879879e-01, -4.77043141e-01],\n",
       "       [-8.93501396e-01, -4.49060414e-01],\n",
       "       [-9.07232251e-01, -4.20630055e-01],\n",
       "       [-9.20058757e-01, -3.91780402e-01],\n",
       "       [-9.31968129e-01, -3.62540213e-01],\n",
       "       [-9.42948495e-01, -3.32938637e-01],\n",
       "       [-9.52988909e-01, -3.03005180e-01],\n",
       "       [-9.62079363e-01, -2.72769681e-01],\n",
       "       [-9.70210796e-01, -2.42262280e-01],\n",
       "       [-9.77375101e-01, -2.11513386e-01],\n",
       "       [-9.83565137e-01, -1.80553651e-01],\n",
       "       [-9.88774735e-01, -1.49413936e-01],\n",
       "       [-9.92998700e-01, -1.18125282e-01],\n",
       "       [-9.96232822e-01, -8.67188782e-02],\n",
       "       [-9.98473878e-01, -5.52260311e-02],\n",
       "       [-9.99719634e-01, -2.36781335e-02],\n",
       "       [-9.99968847e-01,  7.89336691e-03],\n",
       "       [-9.99221269e-01,  3.94569991e-02],\n",
       "       [-9.97477646e-01,  7.09812996e-02],\n",
       "       [-9.94739716e-01,  1.02434845e-01],\n",
       "       [-9.91010207e-01,  1.33786280e-01],\n",
       "       [-9.86292838e-01,  1.65004355e-01],\n",
       "       [-9.80592311e-01,  1.96057949e-01],\n",
       "       [-9.73914308e-01,  2.26916109e-01],\n",
       "       [-9.66265486e-01,  2.57548074e-01],\n",
       "       [-9.57653470e-01,  2.87923309e-01],\n",
       "       [-9.48086844e-01,  3.18011536e-01],\n",
       "       [-9.37575144e-01,  3.47782763e-01],\n",
       "       [-9.26128849e-01,  3.77207311e-01],\n",
       "       [-9.13759368e-01,  4.06255852e-01],\n",
       "       [-9.00479032e-01,  4.34899428e-01],\n",
       "       [-8.86301080e-01,  4.63109486e-01],\n",
       "       [-8.71239643e-01,  4.90857907e-01],\n",
       "       [-8.55309735e-01,  5.18117030e-01],\n",
       "       [-8.38527236e-01,  5.44859683e-01],\n",
       "       [-8.20908875e-01,  5.71059208e-01],\n",
       "       [-8.02472214e-01,  5.96689488e-01],\n",
       "       [-7.83235632e-01,  6.21724976e-01],\n",
       "       [-7.63218303e-01,  6.46140714e-01],\n",
       "       [-7.42440181e-01,  6.69912366e-01],\n",
       "       [-7.20921979e-01,  6.93016234e-01],\n",
       "       [-6.98685146e-01,  7.15429288e-01],\n",
       "       [-6.75751849e-01,  7.37129188e-01],\n",
       "       [-6.52144947e-01,  7.58094300e-01],\n",
       "       [-6.27887973e-01,  7.78303728e-01],\n",
       "       [-6.03005107e-01,  7.97737326e-01],\n",
       "       [-5.77521152e-01,  8.16375721e-01],\n",
       "       [-5.51461512e-01,  8.34200336e-01],\n",
       "       [-5.24852163e-01,  8.51193402e-01],\n",
       "       [-4.97719629e-01,  8.67337979e-01],\n",
       "       [-4.70090958e-01,  8.82617976e-01],\n",
       "       [-4.41993691e-01,  8.97018159e-01],\n",
       "       [-4.13455834e-01,  9.10524175e-01],\n",
       "       [-3.84505835e-01,  9.23122561e-01],\n",
       "       [-3.55172553e-01,  9.34800758e-01],\n",
       "       [-3.25485227e-01,  9.45547126e-01],\n",
       "       [-2.95473450e-01,  9.55350952e-01],\n",
       "       [-2.65167138e-01,  9.64202463e-01],\n",
       "       [-2.34596503e-01,  9.72092836e-01],\n",
       "       [-2.03792016e-01,  9.79014205e-01],\n",
       "       [-1.72784385e-01,  9.84959672e-01],\n",
       "       [-1.41604519e-01,  9.89923310e-01],\n",
       "       [-1.10283499e-01,  9.93900171e-01],\n",
       "       [-7.88525454e-02,  9.96886290e-01],\n",
       "       [-4.73429900e-02,  9.98878692e-01],\n",
       "       [-1.57862420e-02,  9.99875390e-01],\n",
       "       [ 1.57862420e-02,  9.99875390e-01],\n",
       "       [ 4.73429900e-02,  9.98878692e-01],\n",
       "       [ 7.88525454e-02,  9.96886290e-01],\n",
       "       [ 1.10283499e-01,  9.93900171e-01],\n",
       "       [ 1.41604519e-01,  9.89923310e-01],\n",
       "       [ 1.72784385e-01,  9.84959672e-01],\n",
       "       [ 2.03792016e-01,  9.79014205e-01],\n",
       "       [ 2.34596503e-01,  9.72092836e-01],\n",
       "       [ 2.65167138e-01,  9.64202463e-01],\n",
       "       [ 2.95473450e-01,  9.55350952e-01],\n",
       "       [ 3.25485227e-01,  9.45547126e-01],\n",
       "       [ 3.55172553e-01,  9.34800758e-01],\n",
       "       [ 3.84505835e-01,  9.23122561e-01],\n",
       "       [ 4.13455834e-01,  9.10524175e-01],\n",
       "       [ 4.41993691e-01,  8.97018159e-01],\n",
       "       [ 4.70090958e-01,  8.82617976e-01],\n",
       "       [ 4.97719629e-01,  8.67337979e-01],\n",
       "       [ 5.24852163e-01,  8.51193402e-01],\n",
       "       [ 5.51461512e-01,  8.34200336e-01],\n",
       "       [ 5.77521152e-01,  8.16375721e-01],\n",
       "       [ 6.03005107e-01,  7.97737326e-01],\n",
       "       [ 6.27887973e-01,  7.78303728e-01],\n",
       "       [ 6.52144947e-01,  7.58094300e-01],\n",
       "       [ 6.75751849e-01,  7.37129188e-01],\n",
       "       [ 6.98685146e-01,  7.15429288e-01],\n",
       "       [ 7.20921979e-01,  6.93016234e-01],\n",
       "       [ 7.42440181e-01,  6.69912366e-01],\n",
       "       [ 7.63218303e-01,  6.46140714e-01],\n",
       "       [ 7.83235632e-01,  6.21724976e-01],\n",
       "       [ 8.02472214e-01,  5.96689488e-01],\n",
       "       [ 8.20908875e-01,  5.71059208e-01],\n",
       "       [ 8.38527236e-01,  5.44859683e-01],\n",
       "       [ 8.55309735e-01,  5.18117030e-01],\n",
       "       [ 8.71239643e-01,  4.90857907e-01],\n",
       "       [ 8.86301080e-01,  4.63109486e-01],\n",
       "       [ 9.00479032e-01,  4.34899428e-01],\n",
       "       [ 9.13759368e-01,  4.06255852e-01],\n",
       "       [ 9.26128849e-01,  3.77207311e-01],\n",
       "       [ 9.37575144e-01,  3.47782763e-01],\n",
       "       [ 9.48086844e-01,  3.18011536e-01],\n",
       "       [ 9.57653470e-01,  2.87923309e-01],\n",
       "       [ 9.66265486e-01,  2.57548074e-01],\n",
       "       [ 9.73914308e-01,  2.26916109e-01],\n",
       "       [ 9.80592311e-01,  1.96057949e-01],\n",
       "       [ 9.86292838e-01,  1.65004355e-01],\n",
       "       [ 9.91010207e-01,  1.33786280e-01],\n",
       "       [ 9.94739716e-01,  1.02434845e-01],\n",
       "       [ 9.97477646e-01,  7.09812996e-02],\n",
       "       [ 9.99221269e-01,  3.94569991e-02],\n",
       "       [ 9.99968847e-01,  7.89336691e-03],\n",
       "       [ 9.99719634e-01, -2.36781335e-02],\n",
       "       [ 9.98473878e-01, -5.52260311e-02],\n",
       "       [ 9.96232822e-01, -8.67188782e-02],\n",
       "       [ 9.92998700e-01, -1.18125282e-01],\n",
       "       [ 9.88774735e-01, -1.49413936e-01],\n",
       "       [ 9.83565137e-01, -1.80553651e-01],\n",
       "       [ 9.77375101e-01, -2.11513386e-01],\n",
       "       [ 9.70210796e-01, -2.42262280e-01],\n",
       "       [ 9.62079363e-01, -2.72769681e-01],\n",
       "       [ 9.52988909e-01, -3.03005180e-01],\n",
       "       [ 9.42948495e-01, -3.32938637e-01],\n",
       "       [ 9.31968129e-01, -3.62540213e-01],\n",
       "       [ 9.20058757e-01, -3.91780402e-01],\n",
       "       [ 9.07232251e-01, -4.20630055e-01],\n",
       "       [ 8.93501396e-01, -4.49060414e-01],\n",
       "       [ 8.78879879e-01, -4.77043141e-01],\n",
       "       [ 8.63382275e-01, -5.04550341e-01],\n",
       "       [ 8.47024034e-01, -5.31554594e-01],\n",
       "       [ 8.29821460e-01, -5.58028982e-01],\n",
       "       [ 8.11791702e-01, -5.83947114e-01],\n",
       "       [ 7.92952733e-01, -6.09283155e-01],\n",
       "       [ 7.73323331e-01, -6.34011850e-01],\n",
       "       [ 7.52923064e-01, -6.58108547e-01],\n",
       "       [ 7.31772266e-01, -6.81549228e-01],\n",
       "       [ 7.09892022e-01, -7.04310526e-01],\n",
       "       [ 6.87304143e-01, -7.26369751e-01],\n",
       "       [ 6.64031143e-01, -7.47704916e-01],\n",
       "       [ 6.40096223e-01, -7.68294752e-01],\n",
       "       [ 6.15523241e-01, -7.88118735e-01],\n",
       "       [ 5.90336692e-01, -8.07157104e-01],\n",
       "       [ 5.64561683e-01, -8.25390881e-01],\n",
       "       [ 5.38223906e-01, -8.42801891e-01],\n",
       "       [ 5.11349616e-01, -8.59372777e-01],\n",
       "       [ 4.83965601e-01, -8.75087022e-01],\n",
       "       [ 4.56099159e-01, -8.89928962e-01],\n",
       "       [ 4.27778068e-01, -9.03883800e-01],\n",
       "       [ 3.99030558e-01, -9.16937628e-01],\n",
       "       [ 3.69885285e-01, -9.29077433e-01],\n",
       "       [ 3.40371303e-01, -9.40291112e-01],\n",
       "       [ 3.10518032e-01, -9.50567489e-01],\n",
       "       [ 2.80355229e-01, -9.59896320e-01],\n",
       "       [ 2.49912962e-01, -9.68268305e-01],\n",
       "       [ 2.19221577e-01, -9.75675100e-01],\n",
       "       [ 1.88311666e-01, -9.82109320e-01],\n",
       "       [ 1.57214043e-01, -9.87564552e-01],\n",
       "       [ 1.25959705e-01, -9.92035359e-01],\n",
       "       [ 9.45798078e-02, -9.95517283e-01],\n",
       "       [ 6.31056313e-02, -9.98006853e-01],\n",
       "       [ 3.15685498e-02, -9.99501589e-01],\n",
       "       [ 1.22464680e-16, -1.00000000e+00]])"
      ]
     },
     "execution_count": 103,
     "metadata": {},
     "output_type": "execute_result"
    }
   ],
   "source": [
    "target"
   ]
  },
  {
   "cell_type": "code",
   "execution_count": 102,
   "metadata": {},
   "outputs": [
    {
     "data": {
      "text/plain": [
       "<matplotlib.collections.PathCollection at 0x29c3e506208>"
      ]
     },
     "execution_count": 102,
     "metadata": {},
     "output_type": "execute_result"
    },
    {
     "data": {
      "image/png": "[encoded data removed]",
      "text/plain": [
       "<Figure size 360x360 with 1 Axes>"
      ]
     },
     "metadata": {},
     "output_type": "display_data"
    }
   ],
   "source": [
    "plt.figure(figsize=(5,5))\n",
    "plt.scatter(target[:,0],target[:,1])"
   ]
  },
  {
   "cell_type": "code",
   "execution_count": null,
   "metadata": {
    "collapsed": true
   },
   "outputs": [],
   "source": []
  },
  {
   "cell_type": "markdown",
   "metadata": {},
   "source": [
    "撒盐操作，让圆上的40个点不规则的显示在圆的周围"
   ]
  },
  {
   "cell_type": "code",
   "execution_count": 106,
   "metadata": {
    "collapsed": true
   },
   "outputs": [],
   "source": [
    "noise = np.random.randn(40,2)/10  # 40行2列"
   ]
  },
  {
   "cell_type": "code",
   "execution_count": 107,
   "metadata": {
    "collapsed": true
   },
   "outputs": [],
   "source": [
    "target[::5] += noise"
   ]
  },
  {
   "cell_type": "code",
   "execution_count": 108,
   "metadata": {},
   "outputs": [
    {
     "data": {
      "text/plain": [
       "<matplotlib.collections.PathCollection at 0x29c3e56a198>"
      ]
     },
     "execution_count": 108,
     "metadata": {},
     "output_type": "execute_result"
    },
    {
     "data": {
      "image/png": "[encoded data removed]",
      "text/plain": [
       "<Figure size 360x360 with 1 Axes>"
      ]
     },
     "metadata": {},
     "output_type": "display_data"
    }
   ],
   "source": [
    "plt.figure(figsize=(5,5))\n",
    "plt.scatter(target[:,0],target[:,1])"
   ]
  },
  {
   "cell_type": "markdown",
   "metadata": {},
   "source": [
    "创建不同深度的决策树  \n",
    "进行数据训练"
   ]
  },
  {
   "cell_type": "code",
   "execution_count": 109,
   "metadata": {
    "collapsed": true
   },
   "outputs": [],
   "source": [
    "dtree = DecisionTreeRegressor()"
   ]
  },
  {
   "cell_type": "code",
   "execution_count": 111,
   "metadata": {
    "collapsed": true
   },
   "outputs": [
    {
     "data": {
      "text/plain": [
       "array([-3.14159265, -3.11001886, -3.07844506, -3.04687127, -3.01529747,\n",
       "       -2.98372368, -2.95214988, -2.92057608, -2.88900229, -2.85742849,\n",
       "       -2.8258547 , -2.7942809 , -2.76270711, -2.73113331, -2.69955952,\n",
       "       -2.66798572, -2.63641193, -2.60483813, -2.57326433, -2.54169054,\n",
       "       -2.51011674, -2.47854295, -2.44696915, -2.41539536, -2.38382156,\n",
       "       -2.35224777, -2.32067397, -2.28910017, -2.25752638, -2.22595258,\n",
       "       -2.19437879, -2.16280499, -2.1312312 , -2.0996574 , -2.06808361,\n",
       "       -2.03650981, -2.00493602, -1.97336222, -1.94178842, -1.91021463,\n",
       "       -1.87864083, -1.84706704, -1.81549324, -1.78391945, -1.75234565,\n",
       "       -1.72077186, -1.68919806, -1.65762426, -1.62605047, -1.59447667,\n",
       "       -1.56290288, -1.53132908, -1.49975529, -1.46818149, -1.4366077 ,\n",
       "       -1.4050339 , -1.3734601 , -1.34188631, -1.31031251, -1.27873872,\n",
       "       -1.24716492, -1.21559113, -1.18401733, -1.15244354, -1.12086974,\n",
       "       -1.08929595, -1.05772215, -1.02614835, -0.99457456, -0.96300076,\n",
       "       -0.93142697, -0.89985317, -0.86827938, -0.83670558, -0.80513179,\n",
       "       -0.77355799, -0.74198419, -0.7104104 , -0.6788366 , -0.64726281,\n",
       "       -0.61568901, -0.58411522, -0.55254142, -0.52096763, -0.48939383,\n",
       "       -0.45782003, -0.42624624, -0.39467244, -0.36309865, -0.33152485,\n",
       "       -0.29995106, -0.26837726, -0.23680347, -0.20522967, -0.17365588,\n",
       "       -0.14208208, -0.11050828, -0.07893449, -0.04736069, -0.0157869 ,\n",
       "        0.0157869 ,  0.04736069,  0.07893449,  0.11050828,  0.14208208,\n",
       "        0.17365588,  0.20522967,  0.23680347,  0.26837726,  0.29995106,\n",
       "        0.33152485,  0.36309865,  0.39467244,  0.42624624,  0.45782003,\n",
       "        0.48939383,  0.52096763,  0.55254142,  0.58411522,  0.61568901,\n",
       "        0.64726281,  0.6788366 ,  0.7104104 ,  0.74198419,  0.77355799,\n",
       "        0.80513179,  0.83670558,  0.86827938,  0.89985317,  0.93142697,\n",
       "        0.96300076,  0.99457456,  1.02614835,  1.05772215,  1.08929595,\n",
       "        1.12086974,  1.15244354,  1.18401733,  1.21559113,  1.24716492,\n",
       "        1.27873872,  1.31031251,  1.34188631,  1.3734601 ,  1.4050339 ,\n",
       "        1.4366077 ,  1.46818149,  1.49975529,  1.53132908,  1.56290288,\n",
       "        1.59447667,  1.62605047,  1.65762426,  1.68919806,  1.72077186,\n",
       "        1.75234565,  1.78391945,  1.81549324,  1.84706704,  1.87864083,\n",
       "        1.91021463,  1.94178842,  1.97336222,  2.00493602,  2.03650981,\n",
       "        2.06808361,  2.0996574 ,  2.1312312 ,  2.16280499,  2.19437879,\n",
       "        2.22595258,  2.25752638,  2.28910017,  2.32067397,  2.35224777,\n",
       "        2.38382156,  2.41539536,  2.44696915,  2.47854295,  2.51011674,\n",
       "        2.54169054,  2.57326433,  2.60483813,  2.63641193,  2.66798572,\n",
       "        2.69955952,  2.73113331,  2.76270711,  2.7942809 ,  2.8258547 ,\n",
       "        2.85742849,  2.88900229,  2.92057608,  2.95214988,  2.98372368,\n",
       "        3.01529747,  3.04687127,  3.07844506,  3.11001886,  3.14159265])"
      ]
     },
     "execution_count": 111,
     "metadata": {},
     "output_type": "execute_result"
    }
   ],
   "source": [
    "X_train"
   ]
  },
  {
   "cell_type": "code",
   "execution_count": 112,
   "metadata": {},
   "outputs": [
    {
     "data": {
      "text/plain": [
       "DecisionTreeRegressor(criterion='mse', max_depth=None, max_features=None,\n",
       "           max_leaf_nodes=None, min_impurity_decrease=0.0,\n",
       "           min_impurity_split=None, min_samples_leaf=1,\n",
       "           min_samples_split=2, min_weight_fraction_leaf=0.0,\n",
       "           presort=False, random_state=None, splitter='best')"
      ]
     },
     "execution_count": 112,
     "metadata": {},
     "output_type": "execute_result"
    }
   ],
   "source": [
    "dtree.fit(X_train.reshape(-1,1),target)"
   ]
  },
  {
   "cell_type": "code",
   "execution_count": null,
   "metadata": {
    "collapsed": true
   },
   "outputs": [],
   "source": []
  },
  {
   "cell_type": "code",
   "execution_count": null,
   "metadata": {
    "collapsed": true
   },
   "outputs": [],
   "source": []
  },
  {
   "cell_type": "markdown",
   "metadata": {},
   "source": [
    "对数据进行预测"
   ]
  },
  {
   "cell_type": "code",
   "execution_count": 115,
   "metadata": {
    "collapsed": true
   },
   "outputs": [
    {
     "data": {
      "text/plain": [
       "array([-3.14159265, -3.10649106, -3.07138947, -3.03628787, -3.00118628,\n",
       "       -2.96608468, -2.93098309, -2.8958815 , -2.8607799 , -2.82567831,\n",
       "       -2.79057671, -2.75547512, -2.72037353, -2.68527193, -2.65017034,\n",
       "       -2.61506875, -2.57996715, -2.54486556, -2.50976396, -2.47466237,\n",
       "       -2.43956078, -2.40445918, -2.36935759, -2.33425599, -2.2991544 ,\n",
       "       -2.26405281, -2.22895121, -2.19384962, -2.15874802, -2.12364643,\n",
       "       -2.08854484, -2.05344324, -2.01834165, -1.98324006, -1.94813846,\n",
       "       -1.91303687, -1.87793527, -1.84283368, -1.80773209, -1.77263049,\n",
       "       -1.7375289 , -1.7024273 , -1.66732571, -1.63222412, -1.59712252,\n",
       "       -1.56202093, -1.52691933, -1.49181774, -1.45671615, -1.42161455,\n",
       "       -1.38651296, -1.35141136, -1.31630977, -1.28120818, -1.24610658,\n",
       "       -1.21100499, -1.1759034 , -1.1408018 , -1.10570021, -1.07059861,\n",
       "       -1.03549702, -1.00039543, -0.96529383, -0.93019224, -0.89509064,\n",
       "       -0.85998905, -0.82488746, -0.78978586, -0.75468427, -0.71958267,\n",
       "       -0.68448108, -0.64937949, -0.61427789, -0.5791763 , -0.54407471,\n",
       "       -0.50897311, -0.47387152, -0.43876992, -0.40366833, -0.36856674,\n",
       "       -0.33346514, -0.29836355, -0.26326195, -0.22816036, -0.19305877,\n",
       "       -0.15795717, -0.12285558, -0.08775398, -0.05265239, -0.0175508 ,\n",
       "        0.0175508 ,  0.05265239,  0.08775398,  0.12285558,  0.15795717,\n",
       "        0.19305877,  0.22816036,  0.26326195,  0.29836355,  0.33346514,\n",
       "        0.36856674,  0.40366833,  0.43876992,  0.47387152,  0.50897311,\n",
       "        0.54407471,  0.5791763 ,  0.61427789,  0.64937949,  0.68448108,\n",
       "        0.71958267,  0.75468427,  0.78978586,  0.82488746,  0.85998905,\n",
       "        0.89509064,  0.93019224,  0.96529383,  1.00039543,  1.03549702,\n",
       "        1.07059861,  1.10570021,  1.1408018 ,  1.1759034 ,  1.21100499,\n",
       "        1.24610658,  1.28120818,  1.31630977,  1.35141136,  1.38651296,\n",
       "        1.42161455,  1.45671615,  1.49181774,  1.52691933,  1.56202093,\n",
       "        1.59712252,  1.63222412,  1.66732571,  1.7024273 ,  1.7375289 ,\n",
       "        1.77263049,  1.80773209,  1.84283368,  1.87793527,  1.91303687,\n",
       "        1.94813846,  1.98324006,  2.01834165,  2.05344324,  2.08854484,\n",
       "        2.12364643,  2.15874802,  2.19384962,  2.22895121,  2.26405281,\n",
       "        2.2991544 ,  2.33425599,  2.36935759,  2.40445918,  2.43956078,\n",
       "        2.47466237,  2.50976396,  2.54486556,  2.57996715,  2.61506875,\n",
       "        2.65017034,  2.68527193,  2.72037353,  2.75547512,  2.79057671,\n",
       "        2.82567831,  2.8607799 ,  2.8958815 ,  2.93098309,  2.96608468,\n",
       "        3.00118628,  3.03628787,  3.07138947,  3.10649106,  3.14159265])"
      ]
     },
     "execution_count": 115,
     "metadata": {},
     "output_type": "execute_result"
    }
   ],
   "source": [
    "X_test = np.linspace(-np.pi,np.pi,180)\n",
    "X_test"
   ]
  },
  {
   "cell_type": "code",
   "execution_count": null,
   "metadata": {
    "collapsed": true
   },
   "outputs": [],
   "source": []
  },
  {
   "cell_type": "code",
   "execution_count": 117,
   "metadata": {
    "collapsed": true
   },
   "outputs": [],
   "source": [
    "y_ = dtree.predict(X_test.reshape(-1,1))"
   ]
  },
  {
   "cell_type": "markdown",
   "metadata": {},
   "source": [
    "显示图片"
   ]
  },
  {
   "cell_type": "code",
   "execution_count": null,
   "metadata": {
    "collapsed": true
   },
   "outputs": [],
   "source": []
  },
  {
   "cell_type": "code",
   "execution_count": 119,
   "metadata": {},
   "outputs": [
    {
     "data": {
      "text/plain": [
       "<matplotlib.collections.PathCollection at 0x29c3e6426a0>"
      ]
     },
     "execution_count": 119,
     "metadata": {},
     "output_type": "execute_result"
    },
    {
     "data": {
      "image/png": "[encoded data removed]",
      "text/plain": [
       "<Figure size 360x360 with 1 Axes>"
      ]
     },
     "metadata": {},
     "output_type": "display_data"
    }
   ],
   "source": [
    "plt.figure(figsize=(5,5))\n",
    "plt.scatter(y_[:,0],y_[:,1])"
   ]
  },
  {
   "cell_type": "code",
   "execution_count": 129,
   "metadata": {},
   "outputs": [
    {
     "data": {
      "text/plain": [
       "<matplotlib.collections.PathCollection at 0x29c3e95dbe0>"
      ]
     },
     "execution_count": 129,
     "metadata": {},
     "output_type": "execute_result"
    },
    {
     "data": {
      "image/png": "[encoded data removed]",
      "text/plain": [
       "<Figure size 360x360 with 1 Axes>"
      ]
     },
     "metadata": {},
     "output_type": "display_data"
    }
   ],
   "source": [
    "# \n",
    "dtree = DecisionTreeRegressor(max_depth=6)  # 深度小 欠拟合  深度大 过拟合\n",
    "dtree.fit(X_train.reshape(-1,1),target)\n",
    "y_ = dtree.predict(X_test.reshape(-1,1))\n",
    "plt.figure(figsize=(5,5))\n",
    "plt.scatter(y_[:,0],y_[:,1])  # 回归很少用决策树"
   ]
  },
  {
   "cell_type": "code",
   "execution_count": null,
   "metadata": {
    "collapsed": true
   },
   "outputs": [],
   "source": []
  },
  {
   "cell_type": "code",
   "execution_count": null,
   "metadata": {
    "collapsed": true
   },
   "outputs": [],
   "source": []
  },
  {
   "cell_type": "code",
   "execution_count": null,
   "metadata": {
    "collapsed": true
   },
   "outputs": [],
   "source": []
  },
  {
   "cell_type": "markdown",
   "metadata": {},
   "source": [
    "思考：给你一个样本和目标值，通过代码计算各个特征的信息增益"
   ]
  },
  {
   "cell_type": "code",
   "execution_count": null,
   "metadata": {
    "collapsed": true
   },
   "outputs": [],
   "source": []
  }
 ],
 "metadata": {
  "kernelspec": {
   "display_name": "Python 3",
   "language": "python",
   "name": "python3"
  },
  "language_info": {
   "codemirror_mode": {
    "name": "ipython",
    "version": 3
   },
   "file_extension": ".py",
   "mimetype": "text/x-python",
   "name": "python",
   "nbconvert_exporter": "python",
   "pygments_lexer": "ipython3",
   "version": "3.6.3"
  }
 },
 "nbformat": 4,
 "nbformat_minor": 2
}
