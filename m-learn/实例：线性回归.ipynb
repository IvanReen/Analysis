{
 "cells": [
  {
   "cell_type": "code",
   "execution_count": 2,
   "metadata": {
    "collapsed": true
   },
   "outputs": [],
   "source": [
    "import numpy as np\n",
    "import matplotlib.pyplot as plt\n",
    "import tensorflow as tf\n",
    "from sklearn.linear_model import LinearRegression"
   ]
  },
  {
   "cell_type": "code",
   "execution_count": 3,
   "metadata": {},
   "outputs": [
    {
     "data": {
      "text/plain": [
       "<matplotlib.collections.PathCollection at 0x290d6000c18>"
      ]
     },
     "execution_count": 3,
     "metadata": {},
     "output_type": "execute_result"
    },
    {
     "data": {
      "image/png": "[encoded data removed]",
      "text/plain": [
       "<Figure size 432x288 with 1 Axes>"
      ]
     },
     "metadata": {},
     "output_type": "display_data"
    }
   ],
   "source": [
    "X_train = np.linspace(0,10,20)+np.random.randn(20)\n",
    "y_train = np.linspace(0,5,20)+np.random.randn(20)\n",
    "plt.scatter(X_train,y_train)"
   ]
  },
  {
   "cell_type": "code",
   "execution_count": 4,
   "metadata": {
    "collapsed": true
   },
   "outputs": [],
   "source": [
    "lr = LinearRegression()"
   ]
  },
  {
   "cell_type": "code",
   "execution_count": 7,
   "metadata": {},
   "outputs": [
    {
     "data": {
      "text/plain": [
       "LinearRegression(copy_X=True, fit_intercept=True, n_jobs=1, normalize=False)"
      ]
     },
     "execution_count": 7,
     "metadata": {},
     "output_type": "execute_result"
    }
   ],
   "source": [
    "lr.fit(X_train.reshape(-1,1),y_train)"
   ]
  },
  {
   "cell_type": "code",
   "execution_count": 8,
   "metadata": {
    "collapsed": true
   },
   "outputs": [],
   "source": [
    "X_test = np.linspace(-1,11,20)\n",
    "y_ = lr.predict(X_test.reshape(-1,1))"
   ]
  },
  {
   "cell_type": "code",
   "execution_count": 10,
   "metadata": {},
   "outputs": [
    {
     "data": {
      "text/plain": [
       "[<matplotlib.lines.Line2D at 0x29c1cd10860>]"
      ]
     },
     "execution_count": 10,
     "metadata": {},
     "output_type": "execute_result"
    },
    {
     "data": {
      "image/png": "[encoded data removed]",
      "text/plain": [
       "<Figure size 432x288 with 1 Axes>"
      ]
     },
     "metadata": {},
     "output_type": "display_data"
    }
   ],
   "source": [
    "plt.scatter(X_train,y_train)\n",
    "plt.plot(X_test,y_)"
   ]
  },
  {
   "cell_type": "code",
   "execution_count": 11,
   "metadata": {
    "collapsed": true
   },
   "outputs": [],
   "source": [
    "w = lr.coef_  # 斜率"
   ]
  },
  {
   "cell_type": "code",
   "execution_count": 12,
   "metadata": {
    "collapsed": true
   },
   "outputs": [],
   "source": [
    "b = lr.intercept_ # 截距"
   ]
  },
  {
   "cell_type": "code",
   "execution_count": 14,
   "metadata": {},
   "outputs": [
    {
     "data": {
      "text/plain": [
       "[<matplotlib.lines.Line2D at 0x29c1ccd6fd0>]"
      ]
     },
     "execution_count": 14,
     "metadata": {},
     "output_type": "execute_result"
    },
    {
     "data": {
      "image/png": "[encoded data removed]",
      "text/plain": [
       "<Figure size 432x288 with 1 Axes>"
      ]
     },
     "metadata": {},
     "output_type": "display_data"
    }
   ],
   "source": [
    "plt.scatter(X_train,y_train)\n",
    "plt.plot(X_test,w*X_test+b)"
   ]
  },
  {
   "cell_type": "code",
   "execution_count": null,
   "metadata": {
    "collapsed": true
   },
   "outputs": [],
   "source": [
    "# tensorflow 使用梯度下降 寻找损失函数最小的地方"
   ]
  },
  {
   "cell_type": "code",
   "execution_count": null,
   "metadata": {
    "collapsed": true
   },
   "outputs": [],
   "source": [
    "# 找一个 Y = W*X + b"
   ]
  },
  {
   "cell_type": "code",
   "execution_count": null,
   "metadata": {
    "collapsed": true
   },
   "outputs": [],
   "source": [
    "# 损失函数 累加(Y-Y_pred)^2"
   ]
  },
  {
   "cell_type": "code",
   "execution_count": 31,
   "metadata": {
    "collapsed": true
   },
   "outputs": [],
   "source": [
    "t = tf.constant([1,2,3,4])"
   ]
  },
  {
   "cell_type": "code",
   "execution_count": 33,
   "metadata": {},
   "outputs": [
    {
     "name": "stdout",
     "output_type": "stream",
     "text": [
      "10\n"
     ]
    }
   ],
   "source": [
    "rs = tf.reduce_sum(t)\n",
    "with tf.Session() as sess:\n",
    "    print(sess.run(rs))"
   ]
  },
  {
   "cell_type": "code",
   "execution_count": 1,
   "metadata": {
    "collapsed": true
   },
   "outputs": [],
   "source": [
    "import numpy as np\n",
    "import matplotlib.pyplot as plt\n",
    "import tensorflow as tf\n",
    "from sklearn.linear_model import LinearRegression"
   ]
  },
  {
   "cell_type": "code",
   "execution_count": 3,
   "metadata": {},
   "outputs": [
    {
     "data": {
      "text/plain": [
       "<matplotlib.collections.PathCollection at 0x2de8c62aa90>"
      ]
     },
     "execution_count": 3,
     "metadata": {},
     "output_type": "execute_result"
    },
    {
     "data": {
      "image/png": "[encoded data removed]",
      "text/plain": [
       "<Figure size 432x288 with 1 Axes>"
      ]
     },
     "metadata": {},
     "output_type": "display_data"
    }
   ],
   "source": [
    "X_train = np.linspace(0,10,20)+np.random.randn(20)\n",
    "y_train = np.linspace(0,5,20)+np.random.randn(20)\n",
    "plt.scatter(X_train,y_train)"
   ]
  },
  {
   "cell_type": "code",
   "execution_count": null,
   "metadata": {
    "collapsed": true
   },
   "outputs": [],
   "source": [
    "# 最小二乘法 累加 (y真实-y预测)^2\n",
    "# 累加 (y真实-y预测)^2   这个值 越大 说明 偏差越大 偏差越大越不好 所以我们管这个函数叫做损失函数\n",
    "# 损失函数越小越好"
   ]
  },
  {
   "cell_type": "code",
   "execution_count": 4,
   "metadata": {
    "collapsed": true
   },
   "outputs": [],
   "source": [
    "X = tf.placeholder(dtype=tf.float64)  # 占位置 将来传入 X_train\n",
    "y = tf.placeholder(dtype=tf.float64)  # 占位置 将来传入 y_train\n",
    "w= tf.Variable(initial_value=np.random.randn(1)[0],dtype=tf.float64)  # 变量 被其他函数调节\n",
    "b = tf.Variable(initial_value=np.random.randn(1)[0],dtype=tf.float64)  # 变量 被其他函数调节"
   ]
  },
  {
   "cell_type": "code",
   "execution_count": 5,
   "metadata": {
    "collapsed": true
   },
   "outputs": [],
   "source": [
    "y_ = w*X+b"
   ]
  },
  {
   "cell_type": "code",
   "execution_count": 10,
   "metadata": {},
   "outputs": [
    {
     "name": "stdout",
     "output_type": "stream",
     "text": [
      "10\n"
     ]
    }
   ],
   "source": [
    "a = tf.constant([1,2,3,4])  # 10\n",
    "rs = tf.reduce_sum(a)\n",
    "with tf.Session() as sess:\n",
    "    print(sess.run(rs))"
   ]
  },
  {
   "cell_type": "code",
   "execution_count": 6,
   "metadata": {
    "collapsed": true
   },
   "outputs": [],
   "source": [
    "cost = tf.reduce_sum(tf.pow((y - y_),2))\n",
    "learning_rate = 0.001\n",
    "# 让损失函数最小  梯度下降优化\n",
    "optimizer = tf.train.GradientDescentOptimizer(learning_rate=learning_rate).minimize(cost)"
   ]
  },
  {
   "cell_type": "code",
   "execution_count": 7,
   "metadata": {
    "collapsed": true
   },
   "outputs": [
    {
     "name": "stdout",
     "output_type": "stream",
     "text": [
      "执行0次-斜率是0.244623-截距是0.317275-损失是66.337408\n",
      "执行50次-斜率是0.542601-截距是0.287551-损失是21.213544\n",
      "执行100次-斜率是0.548057-截距是0.244752-损失是21.156457\n",
      "执行150次-斜率是0.551108-截距是0.220818-损失是21.134231\n",
      "执行200次-斜率是0.552814-截距是0.207435-损失是21.124835\n",
      "执行250次-斜率是0.553768-截距是0.199951-损失是21.120529\n",
      "执行300次-斜率是0.554301-截距是0.195766-损失是21.118417\n",
      "执行350次-斜率是0.554600-截距是0.193426-损失是21.117329\n",
      "执行400次-斜率是0.554767-截距是0.192118-损失是21.116750\n",
      "执行450次-斜率是0.554860-截距是0.191386-损失是21.116435\n",
      "执行500次-斜率是0.554912-截距是0.190977-损失是21.116261\n",
      "执行550次-斜率是0.554941-截距是0.190748-损失是21.116165\n",
      "执行600次-斜率是0.554958-截距是0.190620-损失是21.116112\n",
      "执行650次-斜率是0.554967-截距是0.190548-损失是21.116082\n",
      "执行700次-斜率是0.554972-截距是0.190508-损失是21.116066\n",
      "执行750次-斜率是0.554975-截距是0.190486-损失是21.116056\n",
      "执行800次-斜率是0.554976-截距是0.190473-损失是21.116051\n",
      "执行850次-斜率是0.554977-截距是0.190466-损失是21.116048\n",
      "执行900次-斜率是0.554978-截距是0.190462-损失是21.116047\n",
      "执行950次-斜率是0.554978-截距是0.190460-损失是21.116046\n",
      "执行1000次-斜率是0.554978-截距是0.190459-损失是21.116045\n",
      "执行1050次-斜率是0.554978-截距是0.190458-损失是21.116045\n",
      "执行1100次-斜率是0.554978-截距是0.190458-损失是21.116045\n",
      "执行1150次-斜率是0.554978-截距是0.190458-损失是21.116045\n",
      "执行1200次-斜率是0.554978-截距是0.190458-损失是21.116045\n",
      "执行1250次-斜率是0.554978-截距是0.190458-损失是21.116045\n",
      "执行1300次-斜率是0.554978-截距是0.190458-损失是21.116045\n",
      "执行1350次-斜率是0.554978-截距是0.190457-损失是21.116045\n",
      "执行1400次-斜率是0.554978-截距是0.190457-损失是21.116045\n",
      "执行1450次-斜率是0.554978-截距是0.190457-损失是21.116045\n",
      "执行1500次-斜率是0.554978-截距是0.190457-损失是21.116045\n",
      "执行1550次-斜率是0.554978-截距是0.190457-损失是21.116044\n",
      "执行1600次-斜率是0.554978-截距是0.190457-损失是21.116044\n",
      "执行1650次-斜率是0.554978-截距是0.190457-损失是21.116044\n",
      "执行1700次-斜率是0.554978-截距是0.190457-损失是21.116044\n",
      "执行1750次-斜率是0.554978-截距是0.190457-损失是21.116044\n",
      "执行1800次-斜率是0.554978-截距是0.190457-损失是21.116044\n",
      "执行1850次-斜率是0.554978-截距是0.190457-损失是21.116044\n",
      "执行1900次-斜率是0.554978-截距是0.190457-损失是21.116044\n",
      "执行1950次-斜率是0.554978-截距是0.190457-损失是21.116044\n",
      "执行2000次-斜率是0.554978-截距是0.190457-损失是21.116044\n",
      "执行2050次-斜率是0.554978-截距是0.190457-损失是21.116044\n",
      "执行2100次-斜率是0.554978-截距是0.190457-损失是21.116044\n",
      "执行2150次-斜率是0.554978-截距是0.190457-损失是21.116044\n",
      "执行2200次-斜率是0.554978-截距是0.190457-损失是21.116044\n",
      "执行2250次-斜率是0.554978-截距是0.190457-损失是21.116044\n",
      "执行2300次-斜率是0.554978-截距是0.190457-损失是21.116044\n",
      "执行2350次-斜率是0.554978-截距是0.190457-损失是21.116044\n",
      "执行2400次-斜率是0.554978-截距是0.190457-损失是21.116044\n",
      "执行2450次-斜率是0.554978-截距是0.190457-损失是21.116044\n",
      "执行2500次-斜率是0.554978-截距是0.190457-损失是21.116044\n",
      "执行2550次-斜率是0.554978-截距是0.190457-损失是21.116044\n",
      "执行2600次-斜率是0.554978-截距是0.190457-损失是21.116044\n",
      "执行2650次-斜率是0.554978-截距是0.190457-损失是21.116044\n",
      "执行2700次-斜率是0.554978-截距是0.190457-损失是21.116044\n",
      "执行2750次-斜率是0.554978-截距是0.190457-损失是21.116044\n",
      "执行2800次-斜率是0.554978-截距是0.190457-损失是21.116044\n",
      "执行2850次-斜率是0.554978-截距是0.190457-损失是21.116044\n",
      "执行2900次-斜率是0.554978-截距是0.190457-损失是21.116044\n",
      "执行2950次-斜率是0.554978-截距是0.190457-损失是21.116044\n",
      "执行3000次-斜率是0.554978-截距是0.190457-损失是21.116044\n",
      "执行3050次-斜率是0.554978-截距是0.190457-损失是21.116044\n",
      "执行3100次-斜率是0.554978-截距是0.190457-损失是21.116044\n",
      "执行3150次-斜率是0.554978-截距是0.190457-损失是21.116044\n",
      "执行3200次-斜率是0.554978-截距是0.190457-损失是21.116044\n",
      "执行3250次-斜率是0.554978-截距是0.190457-损失是21.116044\n",
      "执行3300次-斜率是0.554978-截距是0.190457-损失是21.116044\n",
      "执行3350次-斜率是0.554978-截距是0.190457-损失是21.116044\n",
      "执行3400次-斜率是0.554978-截距是0.190457-损失是21.116044\n",
      "执行3450次-斜率是0.554978-截距是0.190457-损失是21.116044\n",
      "执行3500次-斜率是0.554978-截距是0.190457-损失是21.116044\n",
      "执行3550次-斜率是0.554978-截距是0.190457-损失是21.116044\n",
      "执行3600次-斜率是0.554978-截距是0.190457-损失是21.116044\n",
      "执行3650次-斜率是0.554978-截距是0.190457-损失是21.116044\n",
      "执行3700次-斜率是0.554978-截距是0.190457-损失是21.116044\n",
      "执行3750次-斜率是0.554978-截距是0.190457-损失是21.116044\n",
      "执行3800次-斜率是0.554978-截距是0.190457-损失是21.116044\n",
      "执行3850次-斜率是0.554978-截距是0.190457-损失是21.116044\n",
      "执行3900次-斜率是0.554978-截距是0.190457-损失是21.116044\n",
      "执行3950次-斜率是0.554978-截距是0.190457-损失是21.116044\n",
      "执行4000次-斜率是0.554978-截距是0.190457-损失是21.116044\n",
      "执行4050次-斜率是0.554978-截距是0.190457-损失是21.116044\n",
      "执行4100次-斜率是0.554978-截距是0.190457-损失是21.116044\n",
      "执行4150次-斜率是0.554978-截距是0.190457-损失是21.116044\n",
      "执行4200次-斜率是0.554978-截距是0.190457-损失是21.116044\n",
      "执行4250次-斜率是0.554978-截距是0.190457-损失是21.116044\n",
      "执行4300次-斜率是0.554978-截距是0.190457-损失是21.116044\n",
      "执行4350次-斜率是0.554978-截距是0.190457-损失是21.116044\n",
      "执行4400次-斜率是0.554978-截距是0.190457-损失是21.116044\n",
      "执行4450次-斜率是0.554978-截距是0.190457-损失是21.116044\n",
      "执行4500次-斜率是0.554978-截距是0.190457-损失是21.116044\n",
      "执行4550次-斜率是0.554978-截距是0.190457-损失是21.116044\n",
      "执行4600次-斜率是0.554978-截距是0.190457-损失是21.116044\n",
      "执行4650次-斜率是0.554978-截距是0.190457-损失是21.116044\n",
      "执行4700次-斜率是0.554978-截距是0.190457-损失是21.116044\n",
      "执行4750次-斜率是0.554978-截距是0.190457-损失是21.116044\n",
      "执行4800次-斜率是0.554978-截距是0.190457-损失是21.116044\n",
      "执行4850次-斜率是0.554978-截距是0.190457-损失是21.116044\n",
      "执行4900次-斜率是0.554978-截距是0.190457-损失是21.116044\n",
      "执行4950次-斜率是0.554978-截距是0.190457-损失是21.116044\n"
     ]
    }
   ],
   "source": [
    "epoch = 5000  # 最大运行次数\n",
    "init = tf.global_variables_initializer()\n",
    "with tf.Session() as sess:\n",
    "    sess.run(init)\n",
    "    for i in range(epoch):\n",
    "        for j,k in zip(X_train,y_train):\n",
    "            sess.run(optimizer,feed_dict={X:j,y:k})\n",
    "        if(i%50==0):\n",
    "            w_ = sess.run(w)\n",
    "            intercept_ = sess.run(b)\n",
    "            loss_ = sess.run(cost,feed_dict={X:X_train,y:y_train})\n",
    "            print('执行%d次-斜率是%f-截距是%f-损失是%f'%(i,w_,intercept_,loss_))"
   ]
  },
  {
   "cell_type": "code",
   "execution_count": null,
   "metadata": {
    "collapsed": true
   },
   "outputs": [],
   "source": [
    "# 执行3250次-斜率是0.573679-截距是0.168552-损失是0.153258"
   ]
  },
  {
   "cell_type": "code",
   "execution_count": 9,
   "metadata": {},
   "outputs": [
    {
     "data": {
      "text/plain": [
       "[<matplotlib.lines.Line2D at 0x2de8c5d3240>]"
      ]
     },
     "execution_count": 9,
     "metadata": {},
     "output_type": "execute_result"
    },
    {
     "data": {
      "image/png": "[encoded data removed]",
      "text/plain": [
       "<Figure size 432x288 with 1 Axes>"
      ]
     },
     "metadata": {},
     "output_type": "display_data"
    }
   ],
   "source": [
    "plt.scatter(X_train,y_train)\n",
    "X_test = np.linspace(-1,11,20)\n",
    "plt.plot(X_test,0.554978*X_test+0.190457)"
   ]
  },
  {
   "cell_type": "code",
   "execution_count": null,
   "metadata": {
    "collapsed": true
   },
   "outputs": [],
   "source": []
  },
  {
   "cell_type": "code",
   "execution_count": null,
   "metadata": {
    "collapsed": true
   },
   "outputs": [],
   "source": []
  },
  {
   "cell_type": "code",
   "execution_count": null,
   "metadata": {
    "collapsed": true
   },
   "outputs": [],
   "source": []
  },
  {
   "cell_type": "code",
   "execution_count": null,
   "metadata": {
    "collapsed": true
   },
   "outputs": [],
   "source": []
  }
 ],
 "metadata": {
  "kernelspec": {
   "display_name": "Python 3",
   "language": "python",
   "name": "python3"
  },
  "language_info": {
   "codemirror_mode": {
    "name": "ipython",
    "version": 3
   },
   "file_extension": ".py",
   "mimetype": "text/x-python",
   "name": "python",
   "nbconvert_exporter": "python",
   "pygments_lexer": "ipython3",
   "version": "3.6.3"
  }
 },
 "nbformat": 4,
 "nbformat_minor": 2
}
