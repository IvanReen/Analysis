{
 "cells": [
  {
   "cell_type": "markdown",
   "metadata": {},
   "source": [
    "# 支持向量机SVM（Support Vector Machine）"
   ]
  },
  {
   "cell_type": "markdown",
   "metadata": {},
   "source": [
    "## 【关键词】支持向量，最大几何间隔"
   ]
  },
  {
   "cell_type": "markdown",
   "metadata": {},
   "source": [
    "## 一、支持向量机的原理"
   ]
  },
  {
   "cell_type": "markdown",
   "metadata": {
    "collapsed": true
   },
   "source": [
    "Support Vector Machine。支持向量机，其含义是通过支持向量运算的分类器。其中“机”的意思是机器，可以理解为分类器。\n",
    "那么什么是支持向量呢？在求解的过程中，会发现只根据部分数据就可以确定分类器，这些数据称为支持向量。\n",
    "见下图，在一个二维环境中，其中点R，S，G点和其它靠近中间黑线的点可以看作为支持向量，它们可以决定分类器，也就是黑线的具体参数。\n",
    "\n",
    "![](./img1/1.png)"
   ]
  },
  {
   "cell_type": "markdown",
   "metadata": {},
   "source": [
    "## 二、实战"
   ]
  },
  {
   "cell_type": "markdown",
   "metadata": {},
   "source": [
    "### 1、画出决策边界"
   ]
  },
  {
   "cell_type": "markdown",
   "metadata": {},
   "source": [
    "导包sklearn.svm"
   ]
  },
  {
   "cell_type": "markdown",
   "metadata": {},
   "source": [
    "随机生成数据，并且进行训练"
   ]
  },
  {
   "cell_type": "code",
   "execution_count": 2,
   "metadata": {
    "collapsed": true
   },
   "outputs": [],
   "source": [
    "import numpy as np\n",
    "import pandas as pd\n",
    "from pandas import Series,DataFrame\n",
    "import matplotlib.pyplot as plt"
   ]
  },
  {
   "cell_type": "code",
   "execution_count": 3,
   "metadata": {
    "collapsed": true
   },
   "outputs": [],
   "source": [
    "# 接下来要对 两堆数据进行分类\n",
    "# svm是支持向量机 \n",
    "from sklearn.svm import SVC  # SVC是支持向量机的分类模型 SVR是支持向量机的回归模型"
   ]
  },
  {
   "cell_type": "code",
   "execution_count": 15,
   "metadata": {
    "collapsed": true
   },
   "outputs": [],
   "source": [
    "# 产生两堆数据\n",
    "# 每堆数据 有20个样本 每个样本有2个特征  20行2列\n",
    "\n",
    "np.random.seed(0)  # 之前用0这个种子产生的随机数 演示效果比较好 我这里就定了 大家可以完全随机产生\n",
    "# demo = np.random.randn(200,2) - [1,2]  # 以0为中心 标准差是1的 一堆正太分布的数据\n",
    "# 两堆数据 的中心 我想让他们分开 \n",
    "# np.random.randn(20,2)-[2,2]\n",
    "# demo\n",
    "dot1 = np.random.randn(20,2)-[1,4]\n",
    "dot2 = np.random.randn(20,2)+[2,3]"
   ]
  },
  {
   "cell_type": "code",
   "execution_count": 14,
   "metadata": {
    "collapsed": true
   },
   "outputs": [
    {
     "data": {
      "text/plain": [
       "<matplotlib.collections.PathCollection at 0x278e235d470>"
      ]
     },
     "execution_count": 14,
     "metadata": {},
     "output_type": "execute_result"
    },
    {
     "data": {
      "image/png": "[encoded data removed]",
      "text/plain": [
       "<Figure size 432x288 with 1 Axes>"
      ]
     },
     "metadata": {},
     "output_type": "display_data"
    }
   ],
   "source": [
    "plt.scatter(demo[:,0],demo[:,1])"
   ]
  },
  {
   "cell_type": "code",
   "execution_count": 17,
   "metadata": {},
   "outputs": [
    {
     "data": {
      "text/plain": [
       "<matplotlib.collections.PathCollection at 0x278e24017f0>"
      ]
     },
     "execution_count": 17,
     "metadata": {},
     "output_type": "execute_result"
    },
    {
     "data": {
      "image/png": "[encoded data removed]",
      "text/plain": [
       "<Figure size 432x288 with 1 Axes>"
      ]
     },
     "metadata": {},
     "output_type": "display_data"
    }
   ],
   "source": [
    "plt.scatter(dot1[:,0],dot1[:,1])\n",
    "plt.scatter(dot2[:,0],dot2[:,1])"
   ]
  },
  {
   "cell_type": "code",
   "execution_count": 22,
   "metadata": {
    "collapsed": true
   },
   "outputs": [
    {
     "data": {
      "text/plain": [
       "array([[ 0.76405235, -3.59984279],\n",
       "       [-0.02126202, -1.7591068 ],\n",
       "       [ 0.86755799, -4.97727788],\n",
       "       [-0.04991158, -4.15135721],\n",
       "       [-1.10321885, -3.5894015 ],\n",
       "       [-0.85595643, -2.54572649],\n",
       "       [-0.23896227, -3.87832498],\n",
       "       [-0.55613677, -3.66632567],\n",
       "       [ 0.49407907, -4.20515826],\n",
       "       [-0.6869323 , -4.85409574],\n",
       "       [-3.55298982, -3.3463814 ],\n",
       "       [-0.1355638 , -4.74216502],\n",
       "       [ 1.26975462, -5.45436567],\n",
       "       [-0.95424148, -4.18718385],\n",
       "       [ 0.53277921, -2.53064123],\n",
       "       [-0.84505257, -3.62183748],\n",
       "       [-1.88778575, -5.98079647],\n",
       "       [-1.34791215, -3.84365103],\n",
       "       [ 0.23029068, -2.79762015],\n",
       "       [-1.38732682, -4.30230275],\n",
       "       [ 0.95144703,  1.57998206],\n",
       "       [ 0.29372981,  4.9507754 ],\n",
       "       [ 1.49034782,  2.5619257 ],\n",
       "       [ 0.74720464,  3.77749036],\n",
       "       [ 0.38610215,  2.78725972],\n",
       "       [ 1.10453344,  3.3869025 ],\n",
       "       [ 1.48919486,  1.81936782],\n",
       "       [ 1.97181777,  3.42833187],\n",
       "       [ 2.06651722,  3.3024719 ],\n",
       "       [ 1.36567791,  2.63725883],\n",
       "       [ 1.32753955,  2.64044684],\n",
       "       [ 1.18685372,  1.2737174 ],\n",
       "       [ 2.17742614,  2.59821906],\n",
       "       [ 0.36980165,  3.46278226],\n",
       "       [ 1.09270164,  3.0519454 ],\n",
       "       [ 2.72909056,  3.12898291],\n",
       "       [ 3.13940068,  1.76517418],\n",
       "       [ 2.40234164,  2.31518991],\n",
       "       [ 1.12920285,  2.42115034],\n",
       "       [ 1.68844747,  3.05616534]])"
      ]
     },
     "execution_count": 22,
     "metadata": {},
     "output_type": "execute_result"
    }
   ],
   "source": [
    "# 两堆数据 加起来 是我们的训练数据 X_train\n",
    "X_train = np.concatenate((dot1,dot2))\n",
    "X_train"
   ]
  },
  {
   "cell_type": "code",
   "execution_count": 25,
   "metadata": {
    "collapsed": true
   },
   "outputs": [
    {
     "data": {
      "text/plain": [
       "[0,\n",
       " 0,\n",
       " 0,\n",
       " 0,\n",
       " 0,\n",
       " 0,\n",
       " 0,\n",
       " 0,\n",
       " 0,\n",
       " 0,\n",
       " 0,\n",
       " 0,\n",
       " 0,\n",
       " 0,\n",
       " 0,\n",
       " 0,\n",
       " 0,\n",
       " 0,\n",
       " 0,\n",
       " 0,\n",
       " 1,\n",
       " 1,\n",
       " 1,\n",
       " 1,\n",
       " 1,\n",
       " 1,\n",
       " 1,\n",
       " 1,\n",
       " 1,\n",
       " 1,\n",
       " 1,\n",
       " 1,\n",
       " 1,\n",
       " 1,\n",
       " 1,\n",
       " 1,\n",
       " 1,\n",
       " 1,\n",
       " 1,\n",
       " 1]"
      ]
     },
     "execution_count": 25,
     "metadata": {},
     "output_type": "execute_result"
    }
   ],
   "source": [
    "# dot1的目标值是0 dot2的目标值是1 则y_train中前面20个是0 后面20个是1\n",
    "# 构造一个y_train\n",
    "y_train = [0]*20 + [1]*20\n",
    "y_train"
   ]
  },
  {
   "cell_type": "code",
   "execution_count": 28,
   "metadata": {},
   "outputs": [
    {
     "data": {
      "text/plain": [
       "<matplotlib.collections.PathCollection at 0x278e250bef0>"
      ]
     },
     "execution_count": 28,
     "metadata": {},
     "output_type": "execute_result"
    },
    {
     "data": {
      "image/png": "[encoded data removed]",
      "text/plain": [
       "<Figure size 432x288 with 1 Axes>"
      ]
     },
     "metadata": {},
     "output_type": "display_data"
    }
   ],
   "source": [
    "plt.scatter(X_train[:,0],X_train[:,1],c=y_train)"
   ]
  },
  {
   "cell_type": "code",
   "execution_count": 29,
   "metadata": {
    "collapsed": true
   },
   "outputs": [],
   "source": [
    "#  'linear', 'poly', 'rbf'\n",
    "svc = SVC(kernel='linear')"
   ]
  },
  {
   "cell_type": "code",
   "execution_count": 30,
   "metadata": {},
   "outputs": [
    {
     "data": {
      "text/plain": [
       "SVC(C=1.0, cache_size=200, class_weight=None, coef0=0.0,\n",
       "  decision_function_shape='ovr', degree=3, gamma='auto', kernel='linear',\n",
       "  max_iter=-1, probability=False, random_state=None, shrinking=True,\n",
       "  tol=0.001, verbose=False)"
      ]
     },
     "execution_count": 30,
     "metadata": {},
     "output_type": "execute_result"
    }
   ],
   "source": [
    "svc.fit(X_train,y_train)"
   ]
  },
  {
   "cell_type": "code",
   "execution_count": 32,
   "metadata": {
    "collapsed": true
   },
   "outputs": [
    {
     "data": {
      "text/plain": [
       "array([[ 0.76405235, -3.59984279],\n",
       "       [-0.02126202, -1.7591068 ],\n",
       "       [ 0.86755799, -4.97727788],\n",
       "       [-0.04991158, -4.15135721],\n",
       "       [-1.10321885, -3.5894015 ],\n",
       "       [-0.85595643, -2.54572649],\n",
       "       [-0.23896227, -3.87832498],\n",
       "       [-0.55613677, -3.66632567],\n",
       "       [ 0.49407907, -4.20515826],\n",
       "       [-0.6869323 , -4.85409574],\n",
       "       [-3.55298982, -3.3463814 ],\n",
       "       [-0.1355638 , -4.74216502],\n",
       "       [ 1.26975462, -5.45436567],\n",
       "       [-0.95424148, -4.18718385],\n",
       "       [ 0.53277921, -2.53064123],\n",
       "       [-0.84505257, -3.62183748],\n",
       "       [-1.88778575, -5.98079647],\n",
       "       [-1.34791215, -3.84365103],\n",
       "       [ 0.23029068, -2.79762015],\n",
       "       [-1.38732682, -4.30230275],\n",
       "       [ 0.95144703,  1.57998206],\n",
       "       [ 0.29372981,  4.9507754 ],\n",
       "       [ 1.49034782,  2.5619257 ],\n",
       "       [ 0.74720464,  3.77749036],\n",
       "       [ 0.38610215,  2.78725972],\n",
       "       [ 1.10453344,  3.3869025 ],\n",
       "       [ 1.48919486,  1.81936782],\n",
       "       [ 1.97181777,  3.42833187],\n",
       "       [ 2.06651722,  3.3024719 ],\n",
       "       [ 1.36567791,  2.63725883],\n",
       "       [ 1.32753955,  2.64044684],\n",
       "       [ 1.18685372,  1.2737174 ],\n",
       "       [ 2.17742614,  2.59821906],\n",
       "       [ 0.36980165,  3.46278226],\n",
       "       [ 1.09270164,  3.0519454 ],\n",
       "       [ 2.72909056,  3.12898291],\n",
       "       [ 3.13940068,  1.76517418],\n",
       "       [ 2.40234164,  2.31518991],\n",
       "       [ 1.12920285,  2.42115034],\n",
       "       [ 1.68844747,  3.05616534]])"
      ]
     },
     "execution_count": 32,
     "metadata": {},
     "output_type": "execute_result"
    }
   ],
   "source": [
    "X_train"
   ]
  },
  {
   "cell_type": "markdown",
   "metadata": {},
   "source": [
    "#### 超平面公式\n",
    "\n",
    "f(x) = w*x + b"
   ]
  },
  {
   "cell_type": "markdown",
   "metadata": {},
   "source": [
    "提取系数获取斜率"
   ]
  },
  {
   "cell_type": "code",
   "execution_count": 57,
   "metadata": {},
   "outputs": [
    {
     "data": {
      "text/plain": [
       "-0.39834677343333186"
      ]
     },
     "execution_count": 57,
     "metadata": {},
     "output_type": "execute_result"
    }
   ],
   "source": [
    "# coef_ 系数 也就是 权重 之所以有两个 是 因为 他们分别是 第一个特征的权重 和 第二个特征的权重\n",
    "# 第一个权重w0 是 y_train/X_train[:,0]  第二个权重w1 是 y_train/X_train[:,1]\n",
    "# 现在要求的 是 把 X_train[:,0]是横轴 X_train[:,1]是纵轴 求权重  X_train[:,1]/X_train[:,0]\n",
    "# w0 = (y_train/X_train[:,0])\n",
    "# w1 = (y_train/X_train[:,1])\n",
    "# w0/w1 = (X_train[:,1]/X_train[:,0])\n",
    "svc.coef_\n",
    "svc.coef_[0,0]\n",
    "svc.coef_[0,1]\n",
    "w = -svc.coef_[0,0]/svc.coef_[0,1]\n",
    "w\n",
    "# 先放这里 一会看看效果 再调整"
   ]
  },
  {
   "cell_type": "code",
   "execution_count": null,
   "metadata": {
    "collapsed": true
   },
   "outputs": [],
   "source": []
  },
  {
   "cell_type": "code",
   "execution_count": null,
   "metadata": {
    "collapsed": true
   },
   "outputs": [],
   "source": []
  },
  {
   "cell_type": "code",
   "execution_count": null,
   "metadata": {
    "collapsed": true
   },
   "outputs": [],
   "source": []
  },
  {
   "cell_type": "markdown",
   "metadata": {},
   "source": [
    "线性方程的截距\n",
    "\n",
    "f(x) = wx + b，期中b就是函数f(x)截距,即函数线与y轴的交点的值\n",
    "\n",
    "- 函数的截距可以使用svc.intercept_方法得到"
   ]
  },
  {
   "cell_type": "code",
   "execution_count": 65,
   "metadata": {},
   "outputs": [
    {
     "data": {
      "text/plain": [
       "-0.010539844074062357"
      ]
     },
     "execution_count": 65,
     "metadata": {},
     "output_type": "execute_result"
    }
   ],
   "source": [
    "svc.intercept_  # 这里的截距 是 在y_train上的截距\n",
    "# 现在要计算的是x1上的截距\n",
    "# X_train[:,1]和y_train的 斜率是 w1 svc.coef_[0,1]\n",
    "# w1已知 在y_train上的截距也是已知的 求在X_train[:,1]上的截距\n",
    "# svc.intercept_/-??? = svc.coef_[0,1]\n",
    "# ??? = -svc.intercept_/svc.coef_[0,1] \n",
    "b = -svc.intercept_[0]/svc.coef_[0,1]\n",
    "b"
   ]
  },
  {
   "cell_type": "code",
   "execution_count": null,
   "metadata": {
    "collapsed": true
   },
   "outputs": [],
   "source": []
  },
  {
   "cell_type": "markdown",
   "metadata": {},
   "source": [
    "确定一个x轴的区间，取x_train中的最大值和最小值为边界，计算y值，y = 斜率*x + 截距"
   ]
  },
  {
   "cell_type": "code",
   "execution_count": null,
   "metadata": {
    "collapsed": true
   },
   "outputs": [],
   "source": []
  },
  {
   "cell_type": "markdown",
   "metadata": {},
   "source": [
    "绘制出分割线"
   ]
  },
  {
   "cell_type": "code",
   "execution_count": 48,
   "metadata": {
    "collapsed": true
   },
   "outputs": [],
   "source": [
    "# x是画线的范围\n",
    "x = np.linspace(-4,4,100)"
   ]
  },
  {
   "cell_type": "code",
   "execution_count": 66,
   "metadata": {
    "collapsed": true
   },
   "outputs": [
    {
     "data": {
      "text/plain": [
       "array([ 1.58284725,  1.55065761,  1.51846797,  1.48627833,  1.4540887 ,\n",
       "        1.42189906,  1.38970942,  1.35751978,  1.32533014,  1.29314051,\n",
       "        1.26095087,  1.22876123,  1.19657159,  1.16438195,  1.13219231,\n",
       "        1.10000268,  1.06781304,  1.0356234 ,  1.00343376,  0.97124412,\n",
       "        0.93905448,  0.90686485,  0.87467521,  0.84248557,  0.81029593,\n",
       "        0.77810629,  0.74591665,  0.71372702,  0.68153738,  0.64934774,\n",
       "        0.6171581 ,  0.58496846,  0.55277883,  0.52058919,  0.48839955,\n",
       "        0.45620991,  0.42402027,  0.39183063,  0.359641  ,  0.32745136,\n",
       "        0.29526172,  0.26307208,  0.23088244,  0.1986928 ,  0.16650317,\n",
       "        0.13431353,  0.10212389,  0.06993425,  0.03774461,  0.00555498,\n",
       "       -0.02663466, -0.0588243 , -0.09101394, -0.12320358, -0.15539322,\n",
       "       -0.18758285, -0.21977249, -0.25196213, -0.28415177, -0.31634141,\n",
       "       -0.34853105, -0.38072068, -0.41291032, -0.44509996, -0.4772896 ,\n",
       "       -0.50947924, -0.54166888, -0.57385851, -0.60604815, -0.63823779,\n",
       "       -0.67042743, -0.70261707, -0.7348067 , -0.76699634, -0.79918598,\n",
       "       -0.83137562, -0.86356526, -0.8957549 , -0.92794453, -0.96013417,\n",
       "       -0.99232381, -1.02451345, -1.05670309, -1.08889273, -1.12108236,\n",
       "       -1.153272  , -1.18546164, -1.21765128, -1.24984092, -1.28203056,\n",
       "       -1.31422019, -1.34640983, -1.37859947, -1.41078911, -1.44297875,\n",
       "       -1.47516838, -1.50735802, -1.53954766, -1.5717373 , -1.60392694])"
      ]
     },
     "execution_count": 66,
     "metadata": {},
     "output_type": "execute_result"
    }
   ],
   "source": [
    "y = w*x+b\n",
    "y"
   ]
  },
  {
   "cell_type": "code",
   "execution_count": 67,
   "metadata": {},
   "outputs": [
    {
     "data": {
      "text/plain": [
       "[<matplotlib.lines.Line2D at 0x278e0ecdcf8>]"
      ]
     },
     "execution_count": 67,
     "metadata": {},
     "output_type": "execute_result"
    },
    {
     "data": {
      "image/png": "[encoded data removed]",
      "text/plain": [
       "<Figure size 432x288 with 1 Axes>"
      ]
     },
     "metadata": {},
     "output_type": "display_data"
    }
   ],
   "source": [
    "plt.scatter(X_train[:,0],X_train[:,1],c=y_train)\n",
    "plt.plot(x,y)"
   ]
  },
  {
   "cell_type": "code",
   "execution_count": null,
   "metadata": {
    "collapsed": true
   },
   "outputs": [],
   "source": []
  },
  {
   "cell_type": "code",
   "execution_count": null,
   "metadata": {
    "collapsed": true
   },
   "outputs": [],
   "source": []
  },
  {
   "cell_type": "markdown",
   "metadata": {},
   "source": [
    "使用svc.support_vectors_找出支持向量，即离分割线最近的点集合，绘制出支持向量的所有点"
   ]
  },
  {
   "cell_type": "code",
   "execution_count": 70,
   "metadata": {},
   "outputs": [
    {
     "data": {
      "text/plain": [
       "array([[-0.02126202, -1.7591068 ],\n",
       "       [ 1.18685372,  1.2737174 ]])"
      ]
     },
     "execution_count": 70,
     "metadata": {},
     "output_type": "execute_result"
    }
   ],
   "source": [
    "svevtor = svc.support_vectors_\n",
    "svevtor"
   ]
  },
  {
   "cell_type": "code",
   "execution_count": 80,
   "metadata": {},
   "outputs": [
    {
     "data": {
      "text/plain": [
       "[<matplotlib.lines.Line2D at 0x278e3b0b518>]"
      ]
     },
     "execution_count": 80,
     "metadata": {},
     "output_type": "execute_result"
    },
    {
     "data": {
      "image/png": "[encoded data removed]",
      "text/plain": [
       "<Figure size 432x288 with 1 Axes>"
      ]
     },
     "metadata": {},
     "output_type": "display_data"
    }
   ],
   "source": [
    "plt.scatter(svevtor[:,0],svevtor[:,1],c='r',alpha=0.3,s=100)  # 支持向量\n",
    "plt.scatter(X_train[:,0],X_train[:,1],c=y_train)  # 所有点\n",
    "plt.plot(x,y)"
   ]
  },
  {
   "cell_type": "code",
   "execution_count": null,
   "metadata": {
    "collapsed": true
   },
   "outputs": [],
   "source": []
  },
  {
   "cell_type": "code",
   "execution_count": null,
   "metadata": {
    "collapsed": true
   },
   "outputs": [],
   "source": []
  },
  {
   "cell_type": "code",
   "execution_count": null,
   "metadata": {
    "collapsed": true
   },
   "outputs": [],
   "source": []
  },
  {
   "cell_type": "code",
   "execution_count": null,
   "metadata": {
    "collapsed": true
   },
   "outputs": [],
   "source": []
  },
  {
   "cell_type": "code",
   "execution_count": null,
   "metadata": {
    "collapsed": true
   },
   "outputs": [],
   "source": []
  },
  {
   "cell_type": "markdown",
   "metadata": {},
   "source": [
    "绘制两条线，分别经过支持向量的第一个点和最后一个点，即查看分割线两边的通过支持向量的平行线"
   ]
  },
  {
   "cell_type": "code",
   "execution_count": null,
   "metadata": {
    "collapsed": true
   },
   "outputs": [],
   "source": [
    "# 已知 斜率 和 经过的点 画线\n",
    "# 把两个直线的 b求出来 即可 b1 b2"
   ]
  },
  {
   "cell_type": "code",
   "execution_count": 81,
   "metadata": {},
   "outputs": [
    {
     "data": {
      "text/plain": [
       "array([[-0.02126202, -1.7591068 ],\n",
       "       [ 1.18685372,  1.2737174 ]])"
      ]
     },
     "execution_count": 81,
     "metadata": {},
     "output_type": "execute_result"
    }
   ],
   "source": [
    "svevtor"
   ]
  },
  {
   "cell_type": "code",
   "execution_count": 84,
   "metadata": {},
   "outputs": [
    {
     "data": {
      "text/plain": [
       "array([-0.02126202, -1.7591068 ])"
      ]
     },
     "execution_count": 84,
     "metadata": {},
     "output_type": "execute_result"
    }
   ],
   "source": [
    "p1 = svevtor[0]\n",
    "p1"
   ]
  },
  {
   "cell_type": "code",
   "execution_count": 87,
   "metadata": {},
   "outputs": [
    {
     "data": {
      "text/plain": [
       "array([1.18685372, 1.2737174 ])"
      ]
     },
     "execution_count": 87,
     "metadata": {},
     "output_type": "execute_result"
    }
   ],
   "source": [
    "p2 = svevtor[1]\n",
    "p2"
   ]
  },
  {
   "cell_type": "code",
   "execution_count": 86,
   "metadata": {},
   "outputs": [
    {
     "data": {
      "text/plain": [
       "-1.7675764562267091"
      ]
     },
     "execution_count": 86,
     "metadata": {},
     "output_type": "execute_result"
    }
   ],
   "source": [
    "# b1\n",
    "# y1 = w*x+b1\n",
    "# 比如 已知点p1[x,y]\n",
    "# ? = p1[1]-w*p1[0]\n",
    "b1 = p1[1]-w*p1[0]\n",
    "b1"
   ]
  },
  {
   "cell_type": "code",
   "execution_count": 88,
   "metadata": {},
   "outputs": [
    {
     "data": {
      "text/plain": [
       "1.7464967467532686"
      ]
     },
     "execution_count": 88,
     "metadata": {},
     "output_type": "execute_result"
    }
   ],
   "source": [
    "b2 = p2[1]-w*p2[0]\n",
    "b2"
   ]
  },
  {
   "cell_type": "code",
   "execution_count": null,
   "metadata": {
    "collapsed": true
   },
   "outputs": [],
   "source": []
  },
  {
   "cell_type": "markdown",
   "metadata": {},
   "source": [
    "绘制图形"
   ]
  },
  {
   "cell_type": "code",
   "execution_count": 91,
   "metadata": {
    "collapsed": true
   },
   "outputs": [
    {
     "data": {
      "text/plain": [
       "array([-4.        , -3.91919192, -3.83838384, -3.75757576, -3.67676768,\n",
       "       -3.5959596 , -3.51515152, -3.43434343, -3.35353535, -3.27272727,\n",
       "       -3.19191919, -3.11111111, -3.03030303, -2.94949495, -2.86868687,\n",
       "       -2.78787879, -2.70707071, -2.62626263, -2.54545455, -2.46464646,\n",
       "       -2.38383838, -2.3030303 , -2.22222222, -2.14141414, -2.06060606,\n",
       "       -1.97979798, -1.8989899 , -1.81818182, -1.73737374, -1.65656566,\n",
       "       -1.57575758, -1.49494949, -1.41414141, -1.33333333, -1.25252525,\n",
       "       -1.17171717, -1.09090909, -1.01010101, -0.92929293, -0.84848485,\n",
       "       -0.76767677, -0.68686869, -0.60606061, -0.52525253, -0.44444444,\n",
       "       -0.36363636, -0.28282828, -0.2020202 , -0.12121212, -0.04040404,\n",
       "        0.04040404,  0.12121212,  0.2020202 ,  0.28282828,  0.36363636,\n",
       "        0.44444444,  0.52525253,  0.60606061,  0.68686869,  0.76767677,\n",
       "        0.84848485,  0.92929293,  1.01010101,  1.09090909,  1.17171717,\n",
       "        1.25252525,  1.33333333,  1.41414141,  1.49494949,  1.57575758,\n",
       "        1.65656566,  1.73737374,  1.81818182,  1.8989899 ,  1.97979798,\n",
       "        2.06060606,  2.14141414,  2.22222222,  2.3030303 ,  2.38383838,\n",
       "        2.46464646,  2.54545455,  2.62626263,  2.70707071,  2.78787879,\n",
       "        2.86868687,  2.94949495,  3.03030303,  3.11111111,  3.19191919,\n",
       "        3.27272727,  3.35353535,  3.43434343,  3.51515152,  3.5959596 ,\n",
       "        3.67676768,  3.75757576,  3.83838384,  3.91919192,  4.        ])"
      ]
     },
     "execution_count": 91,
     "metadata": {},
     "output_type": "execute_result"
    }
   ],
   "source": [
    "x"
   ]
  },
  {
   "cell_type": "code",
   "execution_count": 92,
   "metadata": {
    "collapsed": true
   },
   "outputs": [],
   "source": [
    "y1 = w*x+b1"
   ]
  },
  {
   "cell_type": "code",
   "execution_count": 93,
   "metadata": {
    "collapsed": true
   },
   "outputs": [],
   "source": [
    "y2 = w*x+b2"
   ]
  },
  {
   "cell_type": "code",
   "execution_count": 95,
   "metadata": {},
   "outputs": [
    {
     "data": {
      "text/plain": [
       "[<matplotlib.lines.Line2D at 0x278e3c9def0>]"
      ]
     },
     "execution_count": 95,
     "metadata": {},
     "output_type": "execute_result"
    },
    {
     "data": {
      "image/png": "[encoded data removed]",
      "text/plain": [
       "<Figure size 432x288 with 1 Axes>"
      ]
     },
     "metadata": {},
     "output_type": "display_data"
    }
   ],
   "source": [
    "plt.scatter(svevtor[:,0],svevtor[:,1],c='r',alpha=0.3,s=100)  # 支持向量\n",
    "plt.scatter(X_train[:,0],X_train[:,1],c=y_train)  # 所有点\n",
    "plt.plot(x,y)  # 分类的中心线\n",
    "# 分类的上边界 和 下边界\n",
    "plt.plot(x,y1,ls='--')\n",
    "plt.plot(x,y2,ls='--')"
   ]
  },
  {
   "cell_type": "code",
   "execution_count": null,
   "metadata": {
    "collapsed": true
   },
   "outputs": [],
   "source": []
  },
  {
   "cell_type": "markdown",
   "metadata": {},
   "source": [
    "### 2、使用多种核函数对iris数据集进行分类"
   ]
  },
  {
   "cell_type": "markdown",
   "metadata": {},
   "source": [
    "导包"
   ]
  },
  {
   "cell_type": "code",
   "execution_count": 96,
   "metadata": {
    "collapsed": true
   },
   "outputs": [],
   "source": [
    "from sklearn.datasets import load_iris"
   ]
  },
  {
   "cell_type": "code",
   "execution_count": 97,
   "metadata": {
    "collapsed": true
   },
   "outputs": [],
   "source": [
    "iris = load_iris()"
   ]
  },
  {
   "cell_type": "code",
   "execution_count": null,
   "metadata": {
    "collapsed": true
   },
   "outputs": [],
   "source": []
  },
  {
   "cell_type": "code",
   "execution_count": null,
   "metadata": {
    "collapsed": true
   },
   "outputs": [],
   "source": []
  },
  {
   "cell_type": "markdown",
   "metadata": {},
   "source": [
    "提取数据只提取两个特征，方便画图  \n",
    "创建支持向量机的模型：'linear', 'poly'(多项式), 'rbf'(Radial Basis Function:基于半径函数),"
   ]
  },
  {
   "cell_type": "code",
   "execution_count": 98,
   "metadata": {
    "collapsed": true
   },
   "outputs": [],
   "source": [
    "data = iris.data[:,:2]\n",
    "target = iris.target"
   ]
  },
  {
   "cell_type": "code",
   "execution_count": 100,
   "metadata": {
    "collapsed": true
   },
   "outputs": [
    {
     "data": {
      "text/plain": [
       "<matplotlib.collections.PathCollection at 0x278e3e6bcc0>"
      ]
     },
     "execution_count": 100,
     "metadata": {},
     "output_type": "execute_result"
    },
    {
     "data": {
      "image/png": "[encoded data removed]",
      "text/plain": [
       "<Figure size 432x288 with 1 Axes>"
      ]
     },
     "metadata": {},
     "output_type": "display_data"
    }
   ],
   "source": [
    "plt.scatter(data[:,0],data[:,1],c=target)"
   ]
  },
  {
   "cell_type": "markdown",
   "metadata": {},
   "source": [
    "训练模型"
   ]
  },
  {
   "cell_type": "code",
   "execution_count": 102,
   "metadata": {
    "collapsed": true
   },
   "outputs": [],
   "source": [
    "l = SVC(kernel='linear')\n",
    "r = SVC(kernel='rbf')  # 二次曲线\n",
    "p = SVC(kernel='poly')  # 高次曲线\n"
   ]
  },
  {
   "cell_type": "code",
   "execution_count": 104,
   "metadata": {},
   "outputs": [
    {
     "data": {
      "text/plain": [
       "SVC(C=1.0, cache_size=200, class_weight=None, coef0=0.0,\n",
       "  decision_function_shape='ovr', degree=3, gamma='auto', kernel='poly',\n",
       "  max_iter=-1, probability=False, random_state=None, shrinking=True,\n",
       "  tol=0.001, verbose=False)"
      ]
     },
     "execution_count": 104,
     "metadata": {},
     "output_type": "execute_result"
    }
   ],
   "source": [
    "l.fit(data,target)\n",
    "r.fit(data,target)\n",
    "p.fit(data,target)\n"
   ]
  },
  {
   "cell_type": "markdown",
   "metadata": {},
   "source": [
    "图片背景点"
   ]
  },
  {
   "cell_type": "code",
   "execution_count": 115,
   "metadata": {
    "collapsed": true
   },
   "outputs": [],
   "source": [
    "x = np.linspace(data[:,0].min(),data[:,0].max(),200)\n",
    "y = np.linspace(data[:,1].min(),data[:,1].max(),200)\n",
    "\n",
    "xx,yy =np.meshgrid(x,y)\n",
    "\n",
    "X_test = np.c_[xx.flatten(),yy.flatten()]\n"
   ]
  },
  {
   "cell_type": "code",
   "execution_count": 111,
   "metadata": {
    "collapsed": true
   },
   "outputs": [
    {
     "data": {
      "text/plain": [
       "<matplotlib.collections.PathCollection at 0x278e3ef9390>"
      ]
     },
     "execution_count": 111,
     "metadata": {},
     "output_type": "execute_result"
    },
    {
     "data": {
      "image/png": "[encoded data removed]",
      "text/plain": [
       "<Figure size 432x288 with 1 Axes>"
      ]
     },
     "metadata": {},
     "output_type": "display_data"
    }
   ],
   "source": [
    "plt.scatter(X_test[:,0],X_test[:,1])"
   ]
  },
  {
   "cell_type": "markdown",
   "metadata": {},
   "source": [
    "预测并绘制图形"
   ]
  },
  {
   "cell_type": "code",
   "execution_count": 116,
   "metadata": {
    "collapsed": true
   },
   "outputs": [],
   "source": [
    "y1_ = l.predict(X_test)  # 用linear内核做预测\n",
    "y2_ = r.predict(X_test)  # 用rbf内核做预测\n",
    "y3_ = p.predict(X_test)  # 用poly内核做预测"
   ]
  },
  {
   "cell_type": "code",
   "execution_count": 117,
   "metadata": {},
   "outputs": [
    {
     "data": {
      "text/plain": [
       "<matplotlib.collections.PathCollection at 0x278e3fb1c88>"
      ]
     },
     "execution_count": 117,
     "metadata": {},
     "output_type": "execute_result"
    },
    {
     "data": {
      "image/png": "[encoded data removed]",
      "text/plain": [
       "<Figure size 432x288 with 1 Axes>"
      ]
     },
     "metadata": {},
     "output_type": "display_data"
    }
   ],
   "source": [
    "plt.scatter(X_test[:,0],X_test[:,1],c=y1_)"
   ]
  },
  {
   "cell_type": "code",
   "execution_count": 118,
   "metadata": {},
   "outputs": [
    {
     "data": {
      "text/plain": [
       "<matplotlib.collections.PathCollection at 0x278e41607b8>"
      ]
     },
     "execution_count": 118,
     "metadata": {},
     "output_type": "execute_result"
    },
    {
     "data": {
      "image/png": "[encoded data removed]",
      "text/plain": [
       "<Figure size 432x288 with 1 Axes>"
      ]
     },
     "metadata": {},
     "output_type": "display_data"
    }
   ],
   "source": [
    "plt.scatter(X_test[:,0],X_test[:,1],c=y2_)"
   ]
  },
  {
   "cell_type": "code",
   "execution_count": 119,
   "metadata": {},
   "outputs": [
    {
     "data": {
      "text/plain": [
       "<matplotlib.collections.PathCollection at 0x278e42ff2e8>"
      ]
     },
     "execution_count": 119,
     "metadata": {},
     "output_type": "execute_result"
    },
    {
     "data": {
      "image/png": "[encoded data removed]",
      "text/plain": [
       "<Figure size 432x288 with 1 Axes>"
      ]
     },
     "metadata": {},
     "output_type": "display_data"
    }
   ],
   "source": [
    "plt.scatter(X_test[:,0],X_test[:,1],c=y3_)"
   ]
  },
  {
   "cell_type": "code",
   "execution_count": null,
   "metadata": {
    "collapsed": true
   },
   "outputs": [],
   "source": []
  },
  {
   "cell_type": "code",
   "execution_count": null,
   "metadata": {
    "collapsed": true,
    "scrolled": true
   },
   "outputs": [],
   "source": []
  },
  {
   "cell_type": "code",
   "execution_count": null,
   "metadata": {
    "collapsed": true
   },
   "outputs": [],
   "source": []
  },
  {
   "cell_type": "code",
   "execution_count": 4,
   "metadata": {
    "collapsed": true
   },
   "outputs": [],
   "source": [
    "import numpy as np\n",
    "import pandas as pd\n",
    "from pandas import Series,DataFrame\n",
    "import matplotlib.pyplot as plt"
   ]
  },
  {
   "cell_type": "markdown",
   "metadata": {
    "collapsed": true
   },
   "source": [
    "### 3、使用SVM多种核函数进行回归"
   ]
  },
  {
   "cell_type": "markdown",
   "metadata": {},
   "source": [
    "导包"
   ]
  },
  {
   "cell_type": "code",
   "execution_count": 2,
   "metadata": {
    "collapsed": true
   },
   "outputs": [],
   "source": [
    "# SVC 是 分类的 SVR是回归的\n",
    "from sklearn.svm import SVR  # 回归"
   ]
  },
  {
   "cell_type": "markdown",
   "metadata": {},
   "source": [
    "自定义样本点rand，并且生成sin函数曲线"
   ]
  },
  {
   "cell_type": "code",
   "execution_count": 8,
   "metadata": {
    "collapsed": true
   },
   "outputs": [],
   "source": [
    "x = np.linspace(-np.pi,np.pi,40)\n",
    "y = np.sin(x)"
   ]
  },
  {
   "cell_type": "code",
   "execution_count": 9,
   "metadata": {},
   "outputs": [
    {
     "data": {
      "text/plain": [
       "<matplotlib.collections.PathCollection at 0x252afb2a908>"
      ]
     },
     "execution_count": 9,
     "metadata": {},
     "output_type": "execute_result"
    },
    {
     "data": {
      "image/png": "[encoded data removed]",
      "text/plain": [
       "<Figure size 432x288 with 1 Axes>"
      ]
     },
     "metadata": {},
     "output_type": "display_data"
    }
   ],
   "source": [
    "plt.scatter(x,y)"
   ]
  },
  {
   "cell_type": "code",
   "execution_count": null,
   "metadata": {
    "collapsed": true
   },
   "outputs": [],
   "source": []
  },
  {
   "cell_type": "markdown",
   "metadata": {},
   "source": [
    "数据加噪"
   ]
  },
  {
   "cell_type": "code",
   "execution_count": 14,
   "metadata": {},
   "outputs": [
    {
     "data": {
      "text/plain": [
       "array([-0.08118081,  0.47018073, -0.09643034, -0.43049241,  0.49845096,\n",
       "       -0.44342468,  0.48995822, -0.4866555 , -0.25955192,  0.10404031])"
      ]
     },
     "execution_count": 14,
     "metadata": {},
     "output_type": "execute_result"
    }
   ],
   "source": [
    "noise = np.random.random(10) - 0.5  # [-0.5, 0.5)\n",
    "noise"
   ]
  },
  {
   "cell_type": "code",
   "execution_count": 16,
   "metadata": {
    "collapsed": true
   },
   "outputs": [],
   "source": [
    "y.shape\n",
    "y[::4]+=noise"
   ]
  },
  {
   "cell_type": "code",
   "execution_count": 18,
   "metadata": {
    "collapsed": true
   },
   "outputs": [
    {
     "data": {
      "text/plain": [
       "<matplotlib.collections.PathCollection at 0x252b0e9c1d0>"
      ]
     },
     "execution_count": 18,
     "metadata": {},
     "output_type": "execute_result"
    },
    {
     "data": {
      "image/png": "[encoded data removed]",
      "text/plain": [
       "<Figure size 432x288 with 1 Axes>"
      ]
     },
     "metadata": {},
     "output_type": "display_data"
    }
   ],
   "source": [
    "plt.scatter(x,y)"
   ]
  },
  {
   "cell_type": "markdown",
   "metadata": {},
   "source": [
    "建立模型，训练数据，并预测数据，预测训练数据就行"
   ]
  },
  {
   "cell_type": "code",
   "execution_count": 20,
   "metadata": {
    "collapsed": true
   },
   "outputs": [],
   "source": [
    "# 这里是回归模型 用的是 SVR\n",
    "# 获取模型\n",
    "l = SVR(kernel='linear')\n",
    "r = SVR(kernel='rbf')\n",
    "p = SVR(kernel='poly')"
   ]
  },
  {
   "cell_type": "code",
   "execution_count": 22,
   "metadata": {},
   "outputs": [
    {
     "data": {
      "text/plain": [
       "SVR(C=1.0, cache_size=200, coef0=0.0, degree=3, epsilon=0.1, gamma='auto',\n",
       "  kernel='poly', max_iter=-1, shrinking=True, tol=0.001, verbose=False)"
      ]
     },
     "execution_count": 22,
     "metadata": {},
     "output_type": "execute_result"
    }
   ],
   "source": [
    "# 训练模型\n",
    "l.fit(x.reshape(-1,1),y)\n",
    "r.fit(x.reshape(-1,1),y)\n",
    "p.fit(x.reshape(-1,1),y)"
   ]
  },
  {
   "cell_type": "code",
   "execution_count": 27,
   "metadata": {
    "collapsed": true
   },
   "outputs": [
    {
     "data": {
      "text/plain": [
       "array([[-3.14159265],\n",
       "       [-2.6927937 ],\n",
       "       [-2.24399475],\n",
       "       [-1.7951958 ],\n",
       "       [-1.34639685],\n",
       "       [-0.8975979 ],\n",
       "       [-0.44879895],\n",
       "       [ 0.        ],\n",
       "       [ 0.44879895],\n",
       "       [ 0.8975979 ],\n",
       "       [ 1.34639685],\n",
       "       [ 1.7951958 ],\n",
       "       [ 2.24399475],\n",
       "       [ 2.6927937 ],\n",
       "       [ 3.14159265]])"
      ]
     },
     "execution_count": 27,
     "metadata": {},
     "output_type": "execute_result"
    }
   ],
   "source": [
    "# 生成一些测试的X_test\n",
    "X_test = np.linspace(-np.pi,np.pi,15).reshape(-1,1)\n",
    "X_test"
   ]
  },
  {
   "cell_type": "code",
   "execution_count": 29,
   "metadata": {
    "collapsed": true
   },
   "outputs": [],
   "source": [
    "# 预测 X_teset\n",
    "y1_ = l.predict(X_test)\n",
    "y2_ = r.predict(X_test)\n",
    "y3_ = p.predict(X_test)"
   ]
  },
  {
   "cell_type": "code",
   "execution_count": null,
   "metadata": {
    "collapsed": true
   },
   "outputs": [],
   "source": []
  },
  {
   "cell_type": "markdown",
   "metadata": {},
   "source": [
    "绘制图形，观察三种支持向量机内核不同"
   ]
  },
  {
   "cell_type": "code",
   "execution_count": 38,
   "metadata": {},
   "outputs": [
    {
     "data": {
      "text/plain": [
       "<matplotlib.legend.Legend at 0x252b11965f8>"
      ]
     },
     "execution_count": 38,
     "metadata": {},
     "output_type": "execute_result"
    },
    {
     "data": {
      "image/png": "[encoded data removed]",
      "text/plain": [
       "<Figure size 864x432 with 1 Axes>"
      ]
     },
     "metadata": {},
     "output_type": "display_data"
    }
   ],
   "source": [
    "plt.figure(figsize=(12,6))\n",
    "plt.scatter(x,y,c='k',label='real')\n",
    "plt.plot(X_test,y1_,c='r',label='linear')  # linear内核\n",
    "plt.plot(X_test,y2_,c='g',label='rbf')   # 二次曲线\n",
    "plt.plot(X_test,y3_,c='b',label='poly')   # 高次曲线\n",
    "plt.legend()"
   ]
  },
  {
   "cell_type": "code",
   "execution_count": null,
   "metadata": {
    "collapsed": true
   },
   "outputs": [],
   "source": []
  },
  {
   "cell_type": "code",
   "execution_count": null,
   "metadata": {
    "collapsed": true
   },
   "outputs": [],
   "source": []
  },
  {
   "cell_type": "code",
   "execution_count": null,
   "metadata": {
    "collapsed": true
   },
   "outputs": [],
   "source": []
  },
  {
   "cell_type": "markdown",
   "metadata": {},
   "source": [
    " "
   ]
  }
 ],
 "metadata": {
  "kernelspec": {
   "display_name": "Python 3",
   "language": "python",
   "name": "python3"
  },
  "language_info": {
   "codemirror_mode": {
    "name": "ipython",
    "version": 3
   },
   "file_extension": ".py",
   "mimetype": "text/x-python",
   "name": "python",
   "nbconvert_exporter": "python",
   "pygments_lexer": "ipython3",
   "version": "3.6.3"
  }
 },
 "nbformat": 4,
 "nbformat_minor": 2
}
