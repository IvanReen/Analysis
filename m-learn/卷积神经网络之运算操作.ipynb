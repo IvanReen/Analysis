{
 "cells": [
  {
   "cell_type": "code",
   "execution_count": 1,
   "metadata": {
    "collapsed": true
   },
   "outputs": [],
   "source": [
    "# tensorflow运算\n",
    "import numpy as np\n",
    "import tensorflow as tf"
   ]
  },
  {
   "cell_type": "code",
   "execution_count": 17,
   "metadata": {},
   "outputs": [
    {
     "data": {
      "text/plain": [
       "<tf.Tensor 'Const_14:0' shape=() dtype=int32>"
      ]
     },
     "execution_count": 17,
     "metadata": {},
     "output_type": "execute_result"
    }
   ],
   "source": [
    "a = tf.constant(10)\n",
    "a"
   ]
  },
  {
   "cell_type": "code",
   "execution_count": 7,
   "metadata": {
    "collapsed": true
   },
   "outputs": [],
   "source": [
    "# 两个 标量 的 运算\n",
    "x = tf.constant(10)\n",
    "y = tf.constant(20)\n",
    "# x*y\n",
    "mul = tf.multiply(x,y)  # 这里其实并没有运算 只是产生了一个运算对象\n",
    "div = tf.div(x,y) "
   ]
  },
  {
   "cell_type": "code",
   "execution_count": 8,
   "metadata": {},
   "outputs": [
    {
     "data": {
      "text/plain": [
       "<tf.Tensor 'div:0' shape=() dtype=int32>"
      ]
     },
     "execution_count": 8,
     "metadata": {},
     "output_type": "execute_result"
    }
   ],
   "source": [
    "div"
   ]
  },
  {
   "cell_type": "code",
   "execution_count": 9,
   "metadata": {
    "collapsed": true
   },
   "outputs": [],
   "source": [
    "# 想要运算 想要输出数据 还是需要创建session对象"
   ]
  },
  {
   "cell_type": "code",
   "execution_count": 10,
   "metadata": {
    "collapsed": true
   },
   "outputs": [],
   "source": [
    "sess = tf.Session()"
   ]
  },
  {
   "cell_type": "code",
   "execution_count": null,
   "metadata": {
    "collapsed": true
   },
   "outputs": [],
   "source": [
    "sess.close()"
   ]
  },
  {
   "cell_type": "code",
   "execution_count": 13,
   "metadata": {},
   "outputs": [
    {
     "name": "stdout",
     "output_type": "stream",
     "text": [
      "200\n",
      "0\n"
     ]
    }
   ],
   "source": [
    "# 代码执行完成之后 会自动被调用close方法\n",
    "with tf.Session() as sess:\n",
    "    print(sess.run(mul))\n",
    "    print(sess.run(div))"
   ]
  },
  {
   "cell_type": "code",
   "execution_count": 14,
   "metadata": {
    "collapsed": true
   },
   "outputs": [],
   "source": [
    "# 矩阵的运算"
   ]
  },
  {
   "cell_type": "code",
   "execution_count": null,
   "metadata": {
    "collapsed": true
   },
   "outputs": [],
   "source": [
    "# 先来个简单的 先创建两个固定的 矩阵 然后要让他们相乘"
   ]
  },
  {
   "cell_type": "code",
   "execution_count": null,
   "metadata": {
    "collapsed": true
   },
   "outputs": [],
   "source": []
  },
  {
   "cell_type": "code",
   "execution_count": 19,
   "metadata": {
    "collapsed": true
   },
   "outputs": [],
   "source": [
    "x = tf.constant(np.random.randint(0,10,size=(3,2)))  # 2阶张量 前面是x行y列 后面是m行n列  m必须和y相等 最后的结果是 x行n列\n",
    "y = tf.constant(np.random.randint(0,10,size=(2,8)))\n",
    "\n",
    "matm = tf.matmul(x,y)  # mat matrix 矩阵 mul multiply乘法 矩阵的乘法要用matmul"
   ]
  },
  {
   "cell_type": "code",
   "execution_count": 22,
   "metadata": {},
   "outputs": [
    {
     "data": {
      "text/plain": [
       "<tf.Tensor 'Const_17:0' shape=(3, 2) dtype=int32>"
      ]
     },
     "execution_count": 22,
     "metadata": {},
     "output_type": "execute_result"
    }
   ],
   "source": [
    "x"
   ]
  },
  {
   "cell_type": "code",
   "execution_count": 21,
   "metadata": {},
   "outputs": [
    {
     "name": "stdout",
     "output_type": "stream",
     "text": [
      "[[51 77  8 61 44 47 67 29]\n",
      " [62 82 16 66 40 54 62 34]\n",
      " [30 54  0 42 36 30 54 18]]\n"
     ]
    }
   ],
   "source": [
    "with tf.Session() as sess:\n",
    "    print(sess.run(matm))"
   ]
  },
  {
   "cell_type": "code",
   "execution_count": 26,
   "metadata": {
    "collapsed": true
   },
   "outputs": [],
   "source": [
    "# 常量是不变的数据\n",
    "# 想要使用 可以改变的数据 需要使用 placeholder 占位\n",
    "# 参数 dtype指定数据类型 shape指定数据的形状\n",
    "x = tf.placeholder(dtype=tf.float16,shape=(3,2))\n",
    "y = tf.placeholder(dtype=tf.float16,shape=(2,4))\n",
    "matm = tf.matmul(x,y)"
   ]
  },
  {
   "cell_type": "code",
   "execution_count": 29,
   "metadata": {},
   "outputs": [
    {
     "name": "stdout",
     "output_type": "stream",
     "text": [
      "[[ 58.  28. 105.  17.]\n",
      " [ 42.  42.  90.  18.]\n",
      " [ 55.  49. 114.  22.]]\n"
     ]
    }
   ],
   "source": [
    "# 如果使用了placeholder去占位 没有传入具体数据 就需要在这里传入具体数据了\n",
    "with tf.Session() as sess:\n",
    "    print(sess.run(matm,feed_dict={\n",
    "        x:np.random.randint(0,10,size=(3,2)),\n",
    "        y:np.random.randint(0,10,size=(2,4))\n",
    "    }))"
   ]
  },
  {
   "cell_type": "code",
   "execution_count": null,
   "metadata": {
    "collapsed": true
   },
   "outputs": [],
   "source": []
  },
  {
   "cell_type": "code",
   "execution_count": 30,
   "metadata": {
    "collapsed": true
   },
   "outputs": [],
   "source": [
    "x = tf.placeholder(dtype=tf.float16,shape=(None,2))  # 可以只规定一部分\n",
    "y = tf.placeholder(dtype=tf.float16,shape=(2,None))\n",
    "matm = tf.matmul(x,y)\n"
   ]
  },
  {
   "cell_type": "code",
   "execution_count": 34,
   "metadata": {},
   "outputs": [
    {
     "name": "stdout",
     "output_type": "stream",
     "text": [
      "[[25. 35. 27.]\n",
      " [51. 63. 57.]\n",
      " [30. 35. 34.]\n",
      " [54. 42. 66.]\n",
      " [14.  7. 18.]\n",
      " [53. 14. 71.]\n",
      " [16. 28. 16.]\n",
      " [28. 49. 28.]]\n"
     ]
    }
   ],
   "source": [
    "with tf.Session() as sess:\n",
    "    print(sess.run(matm,feed_dict={\n",
    "        x:np.random.randint(0,10,size=(8,2)),\n",
    "        y:np.random.randint(0,10,size=(2,3))\n",
    "    }))"
   ]
  },
  {
   "cell_type": "code",
   "execution_count": null,
   "metadata": {
    "collapsed": true
   },
   "outputs": [],
   "source": []
  }
 ],
 "metadata": {
  "kernelspec": {
   "display_name": "Python 3",
   "language": "python",
   "name": "python3"
  },
  "language_info": {
   "codemirror_mode": {
    "name": "ipython",
    "version": 3
   },
   "file_extension": ".py",
   "mimetype": "text/x-python",
   "name": "python",
   "nbconvert_exporter": "python",
   "pygments_lexer": "ipython3",
   "version": "3.6.3"
  }
 },
 "nbformat": 4,
 "nbformat_minor": 2
}
